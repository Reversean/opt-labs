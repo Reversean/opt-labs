{
 "cells": [
  {
   "cell_type": "markdown",
   "source": [
    "# Расчетное задание 1"
   ],
   "metadata": {
    "collapsed": false
   }
  },
  {
   "cell_type": "markdown",
   "source": [
    "## Тема: Методы оптимизации и принятия решений"
   ],
   "metadata": {
    "collapsed": false
   }
  },
  {
   "cell_type": "markdown",
   "source": [
    "Выполнил студент гр. 3540901/21501 Лихолетов М.Д.\n",
    "\n",
    "Руководитель, к.т.н., доц. Сиднев А.Г."
   ],
   "metadata": {
    "collapsed": false
   }
  },
  {
   "cell_type": "markdown",
   "source": [
    "## Задача 22"
   ],
   "metadata": {
    "collapsed": false
   }
  },
  {
   "cell_type": "markdown",
   "source": [
    "Фирма производит два продукта А и В, продаваемых соответственно по 8 и по 15 руб. за упаковку. Рынок сбыта для каждого из них не ограничен.\n",
    "\n",
    "Продукт А обрабатывается на машине 1, продукт В – на машине 2, затем оба упаковываются на фабрике.\n",
    "\n",
    "Машина 1 (2) обрабатывает 5000 (4000) кг сырья в час с потерями 10% (20%). Машина 1 (2) может работать до 6 (5) часов в день, ее использование стоит 288 (336) руб./час. На производство единицы продукта А (В) требуется 1/4 (1/3) кг сырья. 1 кг сырья стоит 6 копеек.\n",
    "\n",
    "Упаковочная фабрика может работать не менее 8, но не более 10 часов в день. За 1 час работы фабрики можно упаковать 12000 (8000) продукта А (В). Затраты на работу упаковочной фабрики составляют 360 руб/час.\n",
    "\n",
    "Компания хочет определить такие значения х1 и х2 потребления сырья для продуктов А и В, при которых дневная прибыль максимальна, а затраты предприятия минимальны при условии получения не менее 80% максимальной дневной прибыли.\n"
   ],
   "metadata": {
    "collapsed": false
   }
  },
  {
   "cell_type": "markdown",
   "source": [
    "Для решения расчетного задания требуется выполнить следующие шаги:\n",
    "\n",
    "1. Преобразовать многокритериальную задачу в однокритериальную при помощи следующих методов:\n",
    "    - выделение главного критерия;\n",
    "    - свертка критериев (аддитивная и мультипликативная);\n",
    "    - maximin или minimax свертка;\n",
    "    - метод последовательных уступок;\n",
    "    - fgoalattain;\n",
    "    - ведение метрики в пространстве критериев.\n",
    "2. Решить задачу стохастического программирования для одной из однокритериальных задач, используя трансформацию детерменированного ограничения в вероятностного:\n",
    "\n",
    "$$\n",
    "P(\\sum_{j=1}^n a_{ij} x_j - b_i \\leq 0) \\geq \\alpha_i \\\\\n",
    "$$\n",
    "\n",
    "- $\\alpha$ меняется в диапазоне $0.1 \\leq \\alpha \\leq 0.9$\n",
    "- $b_i$ и $a_{ij}$ считаются случайной величиной"
   ],
   "metadata": {
    "collapsed": false
   }
  },
  {
   "cell_type": "markdown",
   "source": [
    "## 1. Математическая модель задачи многокритериальной оптимизации"
   ],
   "metadata": {
    "collapsed": false
   }
  },
  {
   "cell_type": "markdown",
   "source": [
    "Для построения математической модели поставленной задачи введем ряд обозначений:\n",
    "- $a_i$ – денежная прибыль, приносимая продуктом $i$ (руб/ед);\n",
    "- $b_i$ – потребление сырья машиной $i$ (кг/ч);\n",
    "- $c_i$ – потери при потреблении сырья машиной $i$ (кг/ч);\n",
    "- $d_i$ – время работы машины $i$ (ч/сут);\n",
    "- $e_i$ – стоимость работы машины $i$ (руб/ч);\n",
    "- $g_i$ – кол-во сырья для производства продукта $i$ (кг/ед);\n",
    "- $h$ – стоимость сырья (руб/кг);\n",
    "- $k_i$ – скорость упаковки продуктов типа $i$ (ед/ч);\n",
    "- $l$ – стоимость работы фабрики (руб/ч);"
   ],
   "metadata": {
    "collapsed": false
   }
  },
  {
   "cell_type": "markdown",
   "source": [
    "Математическая модель поставленной задачи может быть записана следующим образом:\n",
    "\n",
    "\\begin{gather}\n",
    "    x_i = b_i d_i\\\\\n",
    "    z_1 = \\sum_{i=1}^2{\\frac{a_i b_i d_i}{g_i} * (1 - c_i)} \\rightarrow max\\\\\n",
    "    z_2 = \\sum_{i=1}^2{d_i e_i + b_i d_i h + \\frac{b_i d_i l * (1 - c_i)}{g_i k_i}} \\rightarrow min\\\\\n",
    "\\end{gather}\n",
    "\n",
    "\\begin{cases}\n",
    "    0 \\leq d_1 \\leq 6\\\\\n",
    "    0 \\leq d_2 \\leq 5\\\\\n",
    "    8 \\leq \\sum_{i=1}^2{\\frac{b_i d_i * (1 - c_i)}{g_i k_i}} \\leq 10\\\\\n",
    "    z_1 \\geq 0.8 z^{max}_1\n",
    "\\end{cases}\n",
    "\n",
    "где $x_i$ – потребление сырья для производства продуктов $i$ за сутки, $z_1$ – прибыль за сутки, $z_1$ – затраты предприятия за сутки."
   ],
   "metadata": {
    "collapsed": false
   }
  },
  {
   "cell_type": "markdown",
   "source": [
    "Численные значения параметров:\n",
    "\n",
    "\\begin{array}{ l l }\n",
    "    a_1 = 8 руб; & a_2 = 15 руб;\\\\\n",
    "    b_1 = 5000 кг/ч; & b_2 = 4000 кг/ч;\\\\\n",
    "    c_1 = 0.1; & c_2 = 0.2;\\\\\n",
    "    e_1 = 288 руб/ч; & e_2 = 336 руб/ч;\\\\\n",
    "    g_1 = 1/4 кг; & g_2 = 1/3 кг;\\\\\n",
    "    k_1 = 12000; & k_2 = 8000;\\\\\n",
    "    l = 360 руб/ч; & h = 0.06 руб.\n",
    "\\end{array}"
   ],
   "metadata": {
    "collapsed": false
   }
  },
  {
   "cell_type": "markdown",
   "source": [
    "Для дальнейшего использования математической модели для решения задач при помощи программных библиотек, требуется заменить функции поиска максимумов на функции поиска минимумов, а также представить ограничения в матричном виде:\n",
    "\n",
    "\\begin{gather}\n",
    "    x_i = b_i d_i\\\\\n",
    "    y_1 = -\\sum_{i=1}^2{\\frac{a_i b_i d_i}{g_i} * (1 - c_i)} \\rightarrow min\\\\\n",
    "    y_2 = \\sum_{i=1}^2{d_i e_i + b_i d_i h + \\frac{b_i d_i l}{g_i k_i} * (1 - c_i)} \\rightarrow min\\\\\n",
    "    y_1 \\leq 0.8 y^{min}_1\\\\\n",
    "\\end{gather}\n",
    "\n",
    "$$\n",
    "\\begin{bmatrix}\n",
    "    0\\\\\n",
    "    0\\\\\n",
    "    8\n",
    "\\end{bmatrix}\n",
    "\\leq\n",
    "\\begin{bmatrix}\n",
    "    1 && 0\\\\\n",
    "    0 && 1\\\\\n",
    "    \\frac{b_1}{g_1 k_1} * (1 - c_1) && \\frac{b_2}{g_2 k_2} * (1 - c_2)\\\\\n",
    "\\end{bmatrix}\n",
    "\\times\n",
    "\\begin{bmatrix}\n",
    "    d_1\\\\\n",
    "    d_2\n",
    "\\end{bmatrix}\n",
    "\\leq\n",
    "\\begin{bmatrix}\n",
    "    6\\\\\n",
    "    5\\\\\n",
    "    10\n",
    "\\end{bmatrix}\n",
    "$$"
   ],
   "metadata": {
    "collapsed": false
   }
  },
  {
   "cell_type": "markdown",
   "source": [
    "### 1.1. Поиск оптимумов частных критериев"
   ],
   "metadata": {
    "collapsed": false
   }
  },
  {
   "cell_type": "markdown",
   "source": [
    "Требуется найти оптимумы каждой целевой функции независимо от остальных, т.е. при одних и тех же ограничениях решить две однокритериальные задачи оптимизации: для $y_1$ и для $y_2$.\n",
    "\n",
    "Для поиска оптимумов использовалась функция `minimize` из библиотеки [SciPy](https://docs.scipy.org/doc/scipy/index.html)."
   ],
   "metadata": {
    "collapsed": false
   }
  },
  {
   "cell_type": "markdown",
   "source": [
    "Параметры:"
   ],
   "metadata": {
    "collapsed": false
   }
  },
  {
   "cell_type": "code",
   "execution_count": 319,
   "outputs": [],
   "source": [
    "a = [8, 15]  # денежная прибыль, приносимая продуктами\n",
    "b = [5000, 4000]  # потребление сырья машинами\n",
    "c = [0.1, 0.2]  # потери при потреблении сырья машинами\n",
    "e = [288, 336]  # стоимость работы машин\n",
    "g = [1 / 4, 1 / 3]  # кол-во сырья для производства продуктов\n",
    "h = 0.06  # стоимость сырья\n",
    "k = [12000, 8000]  # скорость упаковки продуктов\n",
    "l = 360  # стоимость работы фабрики\n",
    "\n",
    "m_min = [0, 0]  # минимальное время работы машин\n",
    "m_max = [6, 5]  # максимальное время работы машин\n",
    "n_min = 8  # минимальное время работы фабрики\n",
    "n_max = 10  # максимальное время работы фабрики\n",
    "o_min = 0.8  # коэффициент минимально допустимой прибыли"
   ],
   "metadata": {
    "collapsed": false
   }
  },
  {
   "cell_type": "markdown",
   "source": [
    "Целевые функции:"
   ],
   "metadata": {
    "collapsed": false
   }
  },
  {
   "cell_type": "code",
   "execution_count": 320,
   "outputs": [],
   "source": [
    "def z1(d):\n",
    "    result = 0\n",
    "    for i in range(len(d)):\n",
    "        result += a[i] * b[i] * d[i] * (1 - c[i]) / g[i]\n",
    "    return result\n",
    "\n",
    "\n",
    "def y1(d):\n",
    "    return -z1(d)\n",
    "\n",
    "\n",
    "def z2(d):\n",
    "    result = 0\n",
    "    for i in range(len(d)):\n",
    "        result += d[i] * e[i] + b[i] * d[i] * h + b[i] * d[i] * l * (1 - c[i]) / (g[i] * k[i])\n",
    "    return result\n",
    "\n",
    "\n",
    "def y2(d):\n",
    "    return z2(d)"
   ],
   "metadata": {
    "collapsed": false
   }
  },
  {
   "cell_type": "markdown",
   "source": [
    "Функциональные ограничения:"
   ],
   "metadata": {
    "collapsed": false
   }
  },
  {
   "cell_type": "code",
   "execution_count": 321,
   "outputs": [],
   "source": [
    "from scipy.optimize import LinearConstraint, Bounds\n",
    "\n",
    "init_bounds = Bounds(m_min, m_max)\n",
    "init_constraints = LinearConstraint(\n",
    "    [[b[0] * (1 - c[0]) / (g[0] * k[0]), b[1] * (1 - c[1]) / (g[1] * k[1])]],\n",
    "    [n_min],\n",
    "    [n_max]\n",
    ")"
   ],
   "metadata": {
    "collapsed": false
   }
  },
  {
   "cell_type": "markdown",
   "source": [
    "Класс для хранения результатов оптимизации"
   ],
   "metadata": {
    "collapsed": false
   }
  },
  {
   "cell_type": "code",
   "execution_count": 322,
   "outputs": [],
   "source": [
    "class OptimizationResult:\n",
    "\n",
    "    def __init__(self, args, fun):\n",
    "        self.args = args\n",
    "        self.fun = fun\n",
    "\n",
    "    def get_x(self):\n",
    "        return [d * b[i] for i, d in enumerate(self.args)]\n",
    "\n",
    "    def output_result_x(self):\n",
    "        for i, x in enumerate(self.get_x()):\n",
    "            print('x{} = {:.2f}'.format(i + 1, x))"
   ],
   "metadata": {
    "collapsed": false
   }
  },
  {
   "cell_type": "markdown",
   "source": [
    "Функция для минимизации и сохранения результатов в виде экземпляра класса `OptimizationResult`:"
   ],
   "metadata": {
    "collapsed": false
   }
  },
  {
   "cell_type": "code",
   "execution_count": 323,
   "outputs": [],
   "source": [
    "from scipy.optimize import minimize\n",
    "import numpy as np\n",
    "\n",
    "start_args = np.zeros(2)\n",
    "\n",
    "\n",
    "def optimize(fun, start=start_args, constraints=init_constraints, bounds=init_bounds, hess=lambda _: np.zeros((2, 2))):\n",
    "    result = minimize(\n",
    "        fun,\n",
    "        start,\n",
    "        method='trust-constr',\n",
    "        constraints=constraints,\n",
    "        bounds=bounds,\n",
    "        hess=hess\n",
    "    )\n",
    "    return OptimizationResult(result.x, result.fun)"
   ],
   "metadata": {
    "collapsed": false
   }
  },
  {
   "cell_type": "markdown",
   "source": [
    "Поиск оптимумов частных критериев $y_1$:"
   ],
   "metadata": {
    "collapsed": false
   }
  },
  {
   "cell_type": "code",
   "execution_count": 324,
   "outputs": [
    {
     "name": "stdout",
     "output_type": "stream",
     "text": [
      "x1 = 13333.34\n",
      "x2 = 19999.99\n",
      "y1_min = -1103999.8076384393\n"
     ]
    }
   ],
   "source": [
    "y1_min_result = optimize(y1)\n",
    "y1_min = y1_min_result.fun\n",
    "\n",
    "y1_min_result.output_result_x()\n",
    "print('y1_min = {}'.format(y1_min))"
   ],
   "metadata": {
    "collapsed": false
   }
  },
  {
   "cell_type": "markdown",
   "source": [
    "Поиск оптимумов частных критериев $y_2$:"
   ],
   "metadata": {
    "collapsed": false
   }
  },
  {
   "cell_type": "code",
   "execution_count": 325,
   "outputs": [
    {
     "name": "stdout",
     "output_type": "stream",
     "text": [
      "x1 = 26666.64\n",
      "x2 = 0.03\n",
      "y2_min = 6016.001600003909\n"
     ]
    }
   ],
   "source": [
    "y2_min_result = optimize(y2)\n",
    "y2_min = y2_min_result.fun\n",
    "\n",
    "y2_min_result.output_result_x()\n",
    "print('y2_min = {}'.format(y2_min))"
   ],
   "metadata": {
    "collapsed": false
   }
  },
  {
   "cell_type": "markdown",
   "source": [
    "Таким образом были получены минимальные значения:"
   ],
   "metadata": {
    "collapsed": false
   }
  },
  {
   "cell_type": "code",
   "execution_count": 326,
   "outputs": [
    {
     "data": {
      "text/plain": "               x_1      x_2         min\ncriterion                              \ny_1       13333.34 19999.99 -1103999.81\ny_2       26666.64     0.03     6016.00",
      "text/html": "<div>\n<style scoped>\n    .dataframe tbody tr th:only-of-type {\n        vertical-align: middle;\n    }\n\n    .dataframe tbody tr th {\n        vertical-align: top;\n    }\n\n    .dataframe thead th {\n        text-align: right;\n    }\n</style>\n<table border=\"1\" class=\"dataframe\">\n  <thead>\n    <tr style=\"text-align: right;\">\n      <th></th>\n      <th>x_1</th>\n      <th>x_2</th>\n      <th>min</th>\n    </tr>\n    <tr>\n      <th>criterion</th>\n      <th></th>\n      <th></th>\n      <th></th>\n    </tr>\n  </thead>\n  <tbody>\n    <tr>\n      <th>y_1</th>\n      <td>13333.34</td>\n      <td>19999.99</td>\n      <td>-1103999.81</td>\n    </tr>\n    <tr>\n      <th>y_2</th>\n      <td>26666.64</td>\n      <td>0.03</td>\n      <td>6016.00</td>\n    </tr>\n  </tbody>\n</table>\n</div>"
     },
     "execution_count": 326,
     "metadata": {},
     "output_type": "execute_result"
    }
   ],
   "source": [
    "from pandas import options\n",
    "from pandas import DataFrame\n",
    "\n",
    "options.display.float_format = '{:.2f}'.format\n",
    "\n",
    "opt_x = [y1_min_result.get_x(), y2_min_result.get_x()]\n",
    "\n",
    "min_values_table = DataFrame({\n",
    "    'criterion': ['y_1', 'y_2'],\n",
    "    'x_1': [x[0] for x in opt_x],\n",
    "    'x_2': [x[1] for x in opt_x],\n",
    "    'min': [y1_min, y2_min]\n",
    "})\n",
    "min_values_table.set_index('criterion')"
   ],
   "metadata": {
    "collapsed": false
   }
  },
  {
   "cell_type": "markdown",
   "source": [
    "## 2. Переход от многокритериальной задачи к однокритериальной"
   ],
   "metadata": {
    "collapsed": false
   }
  },
  {
   "cell_type": "markdown",
   "source": [
    "### 2.1. Выделение главного критерия"
   ],
   "metadata": {
    "collapsed": false
   }
  },
  {
   "cell_type": "markdown",
   "source": [
    "Метод выделения главного критерия подразумевает выбор одного критерия в качестве главного, а все остальные критерии должны быть преобразованы в ограничения.\n",
    "\n",
    "Т.к. критерий $y_1$ уже имеет свое преобразование в виде ограничения $y_1 \\leq 0.8 y_1^{min}$, то из кандидатов на главный критерий остается только $y_2$."
   ],
   "metadata": {
    "collapsed": false
   }
  },
  {
   "cell_type": "markdown",
   "source": [
    "Итоговая математическая модель задачи однокритериальной оптимизации имеет следующий вид:\n",
    "\n",
    "\\begin{gather}\n",
    "    x_i = b_i d_i\\\\\n",
    "    f = y_2 = \\sum_{i=1}^2{d_i e_i + b_i d_i h + \\frac{b_i d_i l}{g_i k_i} * (1 - c_i)} \\rightarrow min\\\\\n",
    "\\end{gather}\n",
    "\n",
    "$$\n",
    "\\begin{bmatrix}\n",
    "    0\\\\\n",
    "    0\\\\\n",
    "    8\\\\\n",
    "    -\\infty\n",
    "\\end{bmatrix}\n",
    "\\leq\n",
    "\\begin{bmatrix}\n",
    "    1 && 0\\\\\n",
    "    0 && 1\\\\\n",
    "    \\frac{b_1}{g_1 k_1} * (1 - c_1) && \\frac{b_2}{g_2 k_2} * (1 - c_2)\\\\\n",
    "    -\\frac{a_1 b_1}{g_1} * (1 - c_1) && -\\frac{a_2 b_2}{g_2} * (1 - c_2)\n",
    "\\end{bmatrix}\n",
    "\\times\n",
    "\\begin{bmatrix}\n",
    "    d_1\\\\\n",
    "    d_2\n",
    "\\end{bmatrix}\n",
    "\\leq\n",
    "\\begin{bmatrix}\n",
    "    6\\\\\n",
    "    5\\\\\n",
    "    10\\\\\n",
    "    0.8 y^{min}_1\n",
    "\\end{bmatrix}\n",
    "$$"
   ],
   "metadata": {
    "collapsed": false
   }
  },
  {
   "cell_type": "markdown",
   "source": [
    "Изменение ограничений:"
   ],
   "metadata": {
    "collapsed": false
   }
  },
  {
   "cell_type": "code",
   "execution_count": 327,
   "outputs": [],
   "source": [
    "full_constraints = LinearConstraint(\n",
    "    [\n",
    "        [b[0] * (1 - c[0]) / (g[0] * k[0]), b[1] * (1 - c[1]) / (g[1] * k[1])],\n",
    "        [-a[0] * b[0] * (1 - c[0]) / g[0], -a[1] * b[1] * (1 - c[1]) / g[1]]\n",
    "    ],\n",
    "    [n_min, -np.inf],\n",
    "    [n_max, o_min * y1_min]\n",
    ")"
   ],
   "metadata": {
    "collapsed": false
   }
  },
  {
   "cell_type": "markdown",
   "source": [
    "Метод вывода результатов:"
   ],
   "metadata": {
    "collapsed": false
   }
  },
  {
   "cell_type": "code",
   "execution_count": 328,
   "outputs": [],
   "source": [
    "z1_max = z1(y1_min_result.args)\n",
    "z2_min = z2(y2_min_result.args)\n",
    "\n",
    "\n",
    "def output_results(opt_result: OptimizationResult):\n",
    "    result_args = opt_result.get_x()\n",
    "\n",
    "    z1_fun = z1(opt_result.args)\n",
    "    z2_fun = z2(opt_result.args)\n",
    "\n",
    "    z1_max_percentage = z1_fun / z1_max * 100\n",
    "    z2_min_percentage = z2_fun / z2_min * 100\n",
    "\n",
    "    print('x1 = {:.2f} кг'.format(result_args[0]))\n",
    "    print('x2 = {:.2f} кг'.format(result_args[1]))\n",
    "    print('z1 = {:.2f} руб ({:.1f}% от оптимума)'.format(z1_fun, z1_max_percentage))\n",
    "    print('z2 = {:.2f} руб ({:.1f}% от оптимума)'.format(z2_fun, z2_min_percentage))"
   ],
   "metadata": {
    "collapsed": false
   }
  },
  {
   "cell_type": "markdown",
   "source": [
    "Решение однокритериальной задачи:"
   ],
   "metadata": {
    "collapsed": false
   }
  },
  {
   "cell_type": "code",
   "execution_count": 329,
   "outputs": [
    {
     "name": "stdout",
     "output_type": "stream",
     "text": [
      "x1 = 10666.77 кг\n",
      "x2 = 16000.07 кг\n",
      "z1 = 883205.29 руб (80.0% от оптимума)\n",
      "z2 = 6438.44 руб (107.0% от оптимума)\n"
     ]
    }
   ],
   "source": [
    "f1_opt_result = optimize(y2, constraints=full_constraints)\n",
    "\n",
    "output_results(f1_opt_result)"
   ],
   "metadata": {
    "collapsed": false
   }
  },
  {
   "cell_type": "markdown",
   "source": [
    "Т.к. в качестве главного критерия был выбран критерий минимизации финансовых затрат предприятия, то в результате удалось получить минимально возможное значение затрат. Соответственно также было получено минимальное значение прибыли при действующих ограничениях.\n",
    "\n",
    "По количеству потребляемого сырья можно сделать вывод, что производство продукта B более прибыльно, чем продукта A. Продукт A производится с целью соблюдения ограничений (время работы машины, упаковочной фабрики, максимизация прибыли)."
   ],
   "metadata": {
    "collapsed": false
   }
  },
  {
   "cell_type": "markdown",
   "source": [
    "### 2.2. Свертка критериев"
   ],
   "metadata": {
    "collapsed": false
   }
  },
  {
   "cell_type": "markdown",
   "source": [
    "#### 2.2.1 Аддитивная свертка критериев"
   ],
   "metadata": {
    "collapsed": false
   }
  },
  {
   "cell_type": "markdown",
   "source": [
    "Для использования метода аддитивной свертки требуется выполнить нормализацию критериев:\n",
    "\n",
    "$$\n",
    "\\overline{y_1} = \\frac{y_1}{|y_1^{min}|}\\\\\n",
    "\\overline{y_2} = \\frac{y_2}{|y_2^{min}|}\n",
    "$$"
   ],
   "metadata": {
    "collapsed": false
   }
  },
  {
   "cell_type": "markdown",
   "source": [
    "Формула аддитивной свертки имеет вид:\n",
    "\n",
    "$$\n",
    "F(x) = \\sum_{i=1}^r{\\lambda_i f_i(x)}\n",
    "$$\n",
    "\n",
    "где $f_i(x)$ – критерии оптимальности, $r$ – их общее число, а $\\lambda_i$ – коэффициент приоритета критерия."
   ],
   "metadata": {
    "collapsed": false
   }
  },
  {
   "cell_type": "markdown",
   "source": [
    "Считая приоритеты критериев эквивалентными, задача однокритериальной оптимизации имеет следующий вид:\n",
    "\n",
    "\\begin{gather}\n",
    "    f = \\overline{y_1} + \\overline{y_2} \\rightarrow min\\\\\n",
    "\\end{gather}\n",
    "\n",
    "$$\n",
    "\\begin{bmatrix}\n",
    "    0\\\\\n",
    "    0\\\\\n",
    "    8\\\\\n",
    "    -\\infty\n",
    "\\end{bmatrix}\n",
    "\\leq\n",
    "\\begin{bmatrix}\n",
    "    1 && 0\\\\\n",
    "    0 && 1\\\\\n",
    "    \\frac{b_1}{g_1 k_1} * (1 - c_1) && \\frac{b_2}{g_2 k_2} * (1 - c_2)\\\\\n",
    "    -\\frac{a_1 b_1}{g_1} * (1 - c_1) && -\\frac{a_2 b_2}{g_2} * (1 - c_2)\n",
    "\\end{bmatrix}\n",
    "\\times\n",
    "\\begin{bmatrix}\n",
    "    d_1\\\\\n",
    "    d_2\n",
    "\\end{bmatrix}\n",
    "\\leq\n",
    "\\begin{bmatrix}\n",
    "    6\\\\\n",
    "    5\\\\\n",
    "    10\\\\\n",
    "    0.8 y^{min}_1\n",
    "\\end{bmatrix}\n",
    "\\\\\n",
    "$$"
   ],
   "metadata": {
    "collapsed": false
   }
  },
  {
   "cell_type": "markdown",
   "source": [
    "Нормализованные функции:"
   ],
   "metadata": {
    "collapsed": false
   }
  },
  {
   "cell_type": "code",
   "execution_count": 330,
   "outputs": [],
   "source": [
    "def y1_norm(d):\n",
    "    return y1(d) / y1_min\n",
    "\n",
    "\n",
    "def y2_norm(d):\n",
    "    return y2(d) / y2_min"
   ],
   "metadata": {
    "collapsed": false
   }
  },
  {
   "cell_type": "markdown",
   "source": [
    "Функция аддитивной свертки:"
   ],
   "metadata": {
    "collapsed": false
   }
  },
  {
   "cell_type": "code",
   "execution_count": 331,
   "outputs": [],
   "source": [
    "def f_add_conv(d):\n",
    "    return y1_norm(d) + y2_norm(d)"
   ],
   "metadata": {
    "collapsed": false
   }
  },
  {
   "cell_type": "markdown",
   "source": [
    "Решение задачи:"
   ],
   "metadata": {
    "collapsed": false
   }
  },
  {
   "cell_type": "code",
   "execution_count": 332,
   "outputs": [
    {
     "name": "stdout",
     "output_type": "stream",
     "text": [
      "x1 = 10666.25 кг\n",
      "x2 = 16000.55 кг\n",
      "z1 = 883207.90 руб (80.0% от оптимума)\n",
      "z2 = 6438.45 руб (107.0% от оптимума)\n"
     ]
    }
   ],
   "source": [
    "f2_opt_result = optimize(f_add_conv, constraints=full_constraints)\n",
    "\n",
    "output_results(f2_opt_result)"
   ],
   "metadata": {
    "collapsed": false
   }
  },
  {
   "cell_type": "markdown",
   "source": [
    "Результат оказался идентичен тому, что был получен методом вывода главного критерия."
   ],
   "metadata": {
    "collapsed": false
   }
  },
  {
   "cell_type": "markdown",
   "source": [
    "#### 2.2.2. Мультипликативная свертка критериев"
   ],
   "metadata": {
    "collapsed": false
   }
  },
  {
   "cell_type": "markdown",
   "source": [
    "Критерий мультипликативной свертки работает только для критериев с максимизацией, поэтому требуется привести их в соответствующий вид:\n",
    "\n",
    "$$\n",
    "\\tilde{y_1} = -y_1\\\\\n",
    "\\tilde{y_2} = -y_2\n",
    "$$"
   ],
   "metadata": {
    "collapsed": false
   }
  },
  {
   "cell_type": "markdown",
   "source": [
    "Формула мультипликативной свертки имеет следующий вид:\n",
    "\n",
    "$$\n",
    "F(x) = \\prod_{i=1}^{r}{f_i(x)^{\\lambda_i}}\n",
    "$$\n",
    "\n",
    "где $f_i(x)$ – критерии оптимальности, $\\lambda_i$ – коэффициент приоритета критерия."
   ],
   "metadata": {
    "collapsed": false
   }
  },
  {
   "cell_type": "markdown",
   "source": [
    "Считая приоритеты критериев эквивалентными, задача однокритериальной оптимизации имеет следующий вид:\n",
    "\n",
    "\\begin{gather}\n",
    "    f = y_1 * y_2 \\rightarrow min\\\\\n",
    "\\end{gather}\n",
    "\n",
    "$$\n",
    "\\begin{bmatrix}\n",
    "    0\\\\\n",
    "    0\\\\\n",
    "    8\\\\\n",
    "    -\\infty\n",
    "\\end{bmatrix}\n",
    "\\leq\n",
    "\\begin{bmatrix}\n",
    "    1 && 0\\\\\n",
    "    0 && 1\\\\\n",
    "    \\frac{b_1}{g_1 k_1} * (1 - c_1) && \\frac{b_2}{g_2 k_2} * (1 - c_2)\\\\\n",
    "    -\\frac{a_1 b_1}{g_1} * (1 - c_1) && -\\frac{a_2 b_2}{g_2} * (1 - c_2)\n",
    "\\end{bmatrix}\n",
    "\\times\n",
    "\\begin{bmatrix}\n",
    "    d_1\\\\\n",
    "    d_2\n",
    "\\end{bmatrix}\n",
    "\\leq\n",
    "\\begin{bmatrix}\n",
    "    6\\\\\n",
    "    5\\\\\n",
    "    10\\\\\n",
    "    0.8 y^{min}_1\n",
    "\\end{bmatrix}\n",
    "$$"
   ],
   "metadata": {
    "collapsed": false
   }
  },
  {
   "cell_type": "markdown",
   "source": [
    "Функции максимизации:"
   ],
   "metadata": {
    "collapsed": false
   }
  },
  {
   "cell_type": "code",
   "execution_count": 333,
   "outputs": [],
   "source": [
    "def y1_max(d):\n",
    "    return -y1(d)\n",
    "\n",
    "\n",
    "def y2_max(d):\n",
    "    return -y2(d)"
   ],
   "metadata": {
    "collapsed": false
   }
  },
  {
   "cell_type": "markdown",
   "source": [
    "Функция аддитивной свертки:"
   ],
   "metadata": {
    "collapsed": false
   }
  },
  {
   "cell_type": "code",
   "execution_count": 334,
   "outputs": [],
   "source": [
    "def f_mult_conv(d):\n",
    "    return y1_max(d) * y2_max(d)"
   ],
   "metadata": {
    "collapsed": false
   }
  },
  {
   "cell_type": "markdown",
   "source": [
    "Решение задачи:"
   ],
   "metadata": {
    "collapsed": false
   }
  },
  {
   "cell_type": "code",
   "execution_count": 335,
   "outputs": [
    {
     "name": "stdout",
     "output_type": "stream",
     "text": [
      "x1 = 13333.33 кг\n",
      "x2 = 20000.00 кг\n",
      "z1 = 1104000.00 руб (100.0% от оптимума)\n",
      "z2 = 8048.00 руб (133.8% от оптимума)\n"
     ]
    }
   ],
   "source": [
    "f3_opt_result = optimize(f_mult_conv, constraints=full_constraints)\n",
    "\n",
    "output_results(f3_opt_result)"
   ],
   "metadata": {
    "collapsed": false
   }
  },
  {
   "cell_type": "markdown",
   "source": [
    "Методом мультипликативной свертки была достигнута максимально возможная прибыль. Однако затраты соответственно выросли на 33% от возможного минимума."
   ],
   "metadata": {
    "collapsed": false
   }
  },
  {
   "cell_type": "markdown",
   "source": [
    "#### 2.3. Минимакс (максимин)"
   ],
   "metadata": {
    "collapsed": false
   }
  },
  {
   "cell_type": "markdown",
   "source": [
    "При использовании метода максиминной свертки, интегральный критерий можно представить в следующем виде:\n",
    "\n",
    "$$\n",
    "F(x) = \\min_i{\\frac{f_i(x)}{f_i^*}} \\rightarrow max\n",
    "$$\n",
    "\n",
    "где $f_i^*$ – значения критериев, задающие ограничения вида $f_i(x) \\geq f_i^*$. Таким образом достигается решение, доставляющее оптимум худшему критерию."
   ],
   "metadata": {
    "collapsed": false
   }
  },
  {
   "cell_type": "markdown",
   "source": [
    "С учетом ограничения на допустимое значение критерия $y_1$, получаются следующие критерии:\n",
    "\n",
    "$$\n",
    "f_1^* = 0.8 y_1^{min}\\\\\n",
    "f_2^* = y_2^{min}\n",
    "$$"
   ],
   "metadata": {
    "collapsed": false
   }
  },
  {
   "cell_type": "markdown",
   "source": [
    "Итоговая задача имеет следующий вид:\n",
    "\n",
    "\\begin{gather}\n",
    "    f = \\max_i{\\biggl\\{-\\frac{y_1}{0.8 y_1^{min}}, -\\frac{y_2}{y_2^{min}}\\biggl\\}} \\rightarrow min\\\\\n",
    "\\end{gather}\n",
    "\n",
    "$$\n",
    "\\begin{bmatrix}\n",
    "    0\\\\\n",
    "    0\\\\\n",
    "    8\n",
    "\\end{bmatrix}\n",
    "\\leq\n",
    "\\begin{bmatrix}\n",
    "    1 && 0\\\\\n",
    "    0 && 1\\\\\n",
    "    \\frac{b_1}{g_1 k_1} * (1 - c_1) && \\frac{b_2}{g_2 k_2} * (1 - c_2)\n",
    "\\end{bmatrix}\n",
    "\\times\n",
    "\\begin{bmatrix}\n",
    "    d_1\\\\\n",
    "    d_2\n",
    "\\end{bmatrix}\n",
    "\\leq\n",
    "\\begin{bmatrix}\n",
    "    6\\\\\n",
    "    5\\\\\n",
    "    10\n",
    "\\end{bmatrix}\n",
    "$$"
   ],
   "metadata": {
    "collapsed": false
   }
  },
  {
   "cell_type": "markdown",
   "source": [
    "Функция минимакса:"
   ],
   "metadata": {
    "collapsed": false
   }
  },
  {
   "cell_type": "code",
   "execution_count": 336,
   "outputs": [],
   "source": [
    "def f_minimax(d):\n",
    "    return max([-y1(d) / (o_min * y1_min), -y2(d) / y2_min])"
   ],
   "metadata": {
    "collapsed": false
   }
  },
  {
   "cell_type": "markdown",
   "source": [
    "Решение задачи:"
   ],
   "metadata": {
    "collapsed": false
   }
  },
  {
   "cell_type": "code",
   "execution_count": 337,
   "outputs": [
    {
     "name": "stdout",
     "output_type": "stream",
     "text": [
      "x1 = 13334.75 кг\n",
      "x2 = 19997.24 кг\n",
      "z1 = 1103941.71 руб (100.0% от оптимума)\n",
      "z2 = 8047.63 руб (133.8% от оптимума)\n"
     ]
    }
   ],
   "source": [
    "f4_opt_result = optimize(f_minimax, constraints=init_constraints)\n",
    "\n",
    "output_results(f4_opt_result)"
   ],
   "metadata": {
    "collapsed": false
   }
  },
  {
   "cell_type": "markdown",
   "source": [
    "Результат получился почти идентичным результату, полученным при использовании мультипликативной свертки."
   ],
   "metadata": {
    "collapsed": false
   }
  },
  {
   "cell_type": "markdown",
   "source": [
    "#### 2.4. Метод последовательных уступок"
   ],
   "metadata": {
    "collapsed": false
   }
  },
  {
   "cell_type": "markdown",
   "source": [
    "Метод последовательных уступок подразумевает, что согласно приоритету последовательно осуществляется минимизация каждого критерия, в результате которой устанавливается субъективное значение допустимого ухудшения этого критерия (уступки, $\\Delta$). При этом все последующие критерии должны минимизироваться с учетом того, что значения предыдущих по приоритету критериев должны быть не хуже, чем это позволяют уступки ($f \\geq f^{max} + \\Delta$).\n",
    "\n",
    "Т.к. для $y_1$ по условиям уже установлены допустимые уступки, то данный критерий имеет высший приоритет. Уступки для $y_1$ рассчитываются следующим образом:\n",
    "\n",
    "$$\n",
    "\\Delta_1 = -0.2 y_1^{min}\n",
    "$$\n",
    "\n",
    "Значение $y_1^{min}$ уже было найдено при поиске оптимумов частных критериев (см. п. 1.1).\n",
    "\n",
    "Для минимизации $y_2$ с учетом предыдущих уступок получается задача однокритериальной минимизации следующего вида:\n",
    "\n",
    "\\begin{gather}\n",
    "    x_i = b_i d_i\\\\\n",
    "    f = y_2 = \\sum_{i=1}^2{d_i e_i + b_i d_i h + \\frac{b_i d_i l}{g_i k_i} * (1 - c_i)} \\rightarrow min\n",
    "\\end{gather}\n",
    "\n",
    "$$\n",
    "\\begin{bmatrix}\n",
    "    0\\\\\n",
    "    0\\\\\n",
    "    8\n",
    "\\end{bmatrix}\n",
    "\\leq\n",
    "\\begin{bmatrix}\n",
    "    1 && 0\\\\\n",
    "    0 && 1\\\\\n",
    "    \\frac{b_1}{g_1 k_1} * (1 - c_1) && \\frac{b_2}{g_2 k_2} * (1 - c_2)\n",
    "\\end{bmatrix}\n",
    "\\times\n",
    "\\begin{bmatrix}\n",
    "    d_1\\\\\n",
    "    d_2\n",
    "\\end{bmatrix}\n",
    "\\leq\n",
    "\\begin{bmatrix}\n",
    "    6\\\\\n",
    "    5\\\\\n",
    "    10\n",
    "\\end{bmatrix}\n",
    "\\\\\n",
    "y_1 \\leq y_1^{min} + \\Delta_1 = 0.8 y_1^{min}\\\\\n",
    "$$\n",
    "\n",
    "Данная постановка задачи является эквивалентной постановке задаче для поиска оптимума методом выбора главного критерия (см. п. 2.1), а значит результат решения этой задачи будет точно таким же."
   ],
   "metadata": {
    "collapsed": false
   }
  },
  {
   "cell_type": "code",
   "execution_count": 338,
   "outputs": [
    {
     "name": "stdout",
     "output_type": "stream",
     "text": [
      "x1 = 10666.77 кг\n",
      "x2 = 16000.07 кг\n",
      "z1 = 883205.29 руб (80.0% от оптимума)\n",
      "z2 = 6438.44 руб (107.0% от оптимума)\n"
     ]
    }
   ],
   "source": [
    "f5_opt_result = f1_opt_result\n",
    "\n",
    "output_results(f5_opt_result)"
   ],
   "metadata": {
    "collapsed": false
   }
  },
  {
   "cell_type": "markdown",
   "source": [
    "#### 2.5. Метод достижения цели (fgoalattain)"
   ],
   "metadata": {
    "collapsed": false
   }
  },
  {
   "cell_type": "markdown",
   "source": [
    "Проблему многоцелевой оптимизации при помощи метода достижения цели, который может быть сформулирована следующим образом:\n",
    "\n",
    "$$\n",
    "\\min_{x, \\gamma} \\gamma, \\quad\n",
    "\\begin{equation}\n",
    "    \\begin{cases}\n",
    "        F(x) - \\omega \\gamma \\leq goal\\\\\n",
    "        G(x) \\leq b\n",
    "    \\end{cases}\n",
    "\\end{equation}\n",
    "$$\n",
    "\n",
    "где $F(x) = (f_1(x), f_2(x), \\dots , f_r(x))$ – вектор критериев оптимизации, $goal = (f_1^*, f_2^*, … , f_r^*)$ – вектор целей, которые могут быть достижимыми или недостижимыми, $\\gamma$ – скалярный критерий (attain factor), обозначающий относительную разницу между функциями и целями, $\\omega$ – вектор весовых коэффициентов, которые рекомендуется принимать равными $|goal|$ для того чтобы обеспечить ту же самую долю недостигнутых или передостигнутых активных целей, $G(x) ≤ b$ – система ограничений.\n",
    "\n",
    "Данную задачу можно переформулировать следующим образом:\n",
    "\n",
    "\\begin{gather}\n",
    "    f = max_i{\\frac{F_i(x) - F_i^*}{\\omega_i}} \\rightarrow min\\\\\n",
    "    F(x) = (y_1(x), y_2(x))\\\\\n",
    "    goal = (y_1^{min}, y_2^{min})\\\\\n",
    "    \\omega = (|y_1^{min}|, |y_2^{min}|)\\\\\n",
    "\\end{gather}\n",
    "\n",
    "$$\n",
    "\\begin{bmatrix}\n",
    "    0\\\\\n",
    "    0\\\\\n",
    "    8\\\\\n",
    "    -\\infty\n",
    "\\end{bmatrix}\n",
    "\\leq\n",
    "\\begin{bmatrix}\n",
    "    1 && 0\\\\\n",
    "    0 && 1\\\\\n",
    "    \\frac{b_1}{g_1 k_1} * (1 - c_1) && \\frac{b_2}{g_2 k_2} * (1 - c_2)\\\\\n",
    "    -\\frac{a_1 b_1}{g_1} * (1 - c_1) && -\\frac{a_2 b_2}{g_2} * (1 - c_2)\n",
    "\\end{bmatrix}\n",
    "\\times\n",
    "\\begin{bmatrix}\n",
    "    d_1\\\\\n",
    "    d_2\n",
    "\\end{bmatrix}\n",
    "\\leq\n",
    "\\begin{bmatrix}\n",
    "    6\\\\\n",
    "    5\\\\\n",
    "    10\\\\\n",
    "    0.8 y^{min}_1\n",
    "\\end{bmatrix}\n",
    "$$"
   ],
   "metadata": {
    "collapsed": false
   }
  },
  {
   "cell_type": "markdown",
   "source": [
    "Функция достижения цели:"
   ],
   "metadata": {
    "collapsed": false
   }
  },
  {
   "cell_type": "code",
   "execution_count": 339,
   "outputs": [],
   "source": [
    "criteria = [y1, y2]\n",
    "goals = np.array([y1_min, y2_min])\n",
    "weights = np.abs(goals)\n",
    "\n",
    "\n",
    "def f_goal_attainment(d):\n",
    "    values = np.array([criterion(d) for criterion in criteria])\n",
    "    quality = (values - goals) / weights\n",
    "    return np.max(quality)"
   ],
   "metadata": {
    "collapsed": false
   }
  },
  {
   "cell_type": "markdown",
   "source": [
    "Решение задачи:"
   ],
   "metadata": {
    "collapsed": false
   }
  },
  {
   "cell_type": "code",
   "execution_count": 340,
   "outputs": [
    {
     "name": "stdout",
     "output_type": "stream",
     "text": [
      "x1 = 18918.13 кг\n",
      "x2 = 10699.14 кг\n",
      "z1 = 930011.23 руб (84.2% от оптимума)\n",
      "z2 = 6964.11 руб (115.8% от оптимума)\n"
     ]
    }
   ],
   "source": [
    "f6_opt_result = optimize(f_goal_attainment, constraints=full_constraints)\n",
    "\n",
    "output_results(f6_opt_result)"
   ],
   "metadata": {
    "collapsed": false
   }
  },
  {
   "cell_type": "markdown",
   "source": [
    "Данный результат является попыткой усреднить значения критериев. Однако зная, что самое большее отклонение от минимального значения $z_1$ равно 20%, а для $z_2$ максимальное отклонение от минимального значения равно примерно 33%, можно заметить, что в текущем результате отклонения неравномерны относительно друг на друга."
   ],
   "metadata": {
    "collapsed": false
   }
  },
  {
   "cell_type": "markdown",
   "source": [
    "#### 2.6. Введение метрики в пространстве критериев"
   ],
   "metadata": {
    "collapsed": false
   }
  },
  {
   "cell_type": "markdown",
   "source": [
    "Для перехода к однокритериальной задаче оптимизации методом введения метрики в пространстве целевых функций необходимо определить координаты \"идеальной\" точки $a = (f_1^*, f_2^*, \\dots , f_r^*), где f_i^* = min{f_i(x)}$. Данные значения были получены в ходе определения поиска оптимумов частных критериев (см. п. 1.1).\n",
    "\n",
    "Также требуется ввести метрику евклидова расстояния в пространстве критериев:\n",
    "\n",
    "$$\n",
    "\\rho (y, a) = \\bigg[ \\sum_{i=1}^{n}{(a_i - y_i)^2} \\bigg]^\\frac{1}{2}\n",
    "$$\n",
    "\n",
    "Итоговую задачу можно сформулировать следующим образом:\n",
    "\n",
    "\\begin{gather}\n",
    "    f = \\sum_{i=1}^{2}{\\bigg( \\frac{y_i^{min} - y_i}{y_i^{min}} \\bigg)^2} \\rightarrow min\\\\\n",
    "\\end{gather}\n",
    "\n",
    "$$\n",
    "\\begin{bmatrix}\n",
    "    0\\\\\n",
    "    0\\\\\n",
    "    8\\\\\n",
    "    -\\infty\n",
    "\\end{bmatrix}\n",
    "\\leq\n",
    "\\begin{bmatrix}\n",
    "    1 && 0\\\\\n",
    "    0 && 1\\\\\n",
    "    \\frac{b_1}{g_1 k_1} * (1 - c_1) && \\frac{b_2}{g_2 k_2} * (1 - c_2)\\\\\n",
    "    -\\frac{a_1 b_1}{g_1} * (1 - c_1) && -\\frac{a_2 b_2}{g_2} * (1 - c_2)\n",
    "\\end{bmatrix}\n",
    "\\times\n",
    "\\begin{bmatrix}\n",
    "    d_1\\\\\n",
    "    d_2\n",
    "\\end{bmatrix}\n",
    "\\leq\n",
    "\\begin{bmatrix}\n",
    "    6\\\\\n",
    "    5\\\\\n",
    "    10\\\\\n",
    "    0.8 y^{min}_1\n",
    "\\end{bmatrix}\n",
    "$$"
   ],
   "metadata": {
    "collapsed": false
   }
  },
  {
   "cell_type": "markdown",
   "source": [
    "Функция минимизации:"
   ],
   "metadata": {
    "collapsed": false
   }
  },
  {
   "cell_type": "code",
   "execution_count": 341,
   "outputs": [],
   "source": [
    "def f_metric(d):\n",
    "    values = np.array([criterion(d) for criterion in criteria])\n",
    "    metrics = (1 - values / goals) ** 2\n",
    "    return np.sum(metrics)"
   ],
   "metadata": {
    "collapsed": false
   }
  },
  {
   "cell_type": "markdown",
   "source": [
    "Решение задачи:"
   ],
   "metadata": {
    "collapsed": false
   }
  },
  {
   "cell_type": "code",
   "execution_count": 342,
   "outputs": [
    {
     "name": "stdout",
     "output_type": "stream",
     "text": [
      "x1 = 7265.18 кг\n",
      "x2 = 19999.26 кг\n",
      "z1 = 929210.64 руб (84.2% от оптимума)\n",
      "z2 = 6678.84 руб (111.0% от оптимума)\n"
     ]
    }
   ],
   "source": [
    "f7_opt_result = optimize(f_metric, constraints=full_constraints)\n",
    "\n",
    "output_results(f7_opt_result)"
   ],
   "metadata": {
    "collapsed": false
   }
  },
  {
   "cell_type": "markdown",
   "source": [
    "В данном результате разницы между значениями и оптиумами получились более равномерными, чем в результате с применением метода goal attain."
   ],
   "metadata": {
    "collapsed": false
   }
  },
  {
   "cell_type": "markdown",
   "source": [
    "## 3. Оценка Парето-оптимальности полученных решений"
   ],
   "metadata": {
    "collapsed": false
   }
  },
  {
   "cell_type": "markdown",
   "source": [
    "Для уменьшения количества альтернатив выбора можно выделить множество Парето среди всех полученных решений, т.е. найти множество недоминируемых решений."
   ],
   "metadata": {
    "collapsed": false
   }
  },
  {
   "cell_type": "code",
   "execution_count": 343,
   "outputs": [
    {
     "data": {
      "text/plain": "    Метод перехода к однокритериальной задаче        z_1     z_2      x_1  \\\n                                                                            \nА                 Выделение главного критерия  883205.29 6438.44 10666.77   \nБ1                         Аддитивная свертка  883207.90 6438.45 10666.25   \nБ2                  Мультипликативная свертка 1104000.00 8048.00 13333.33   \nВ                                    Минимакс 1103941.71 8047.63 13334.75   \nГ              Метод последовательных уступок  883205.29 6438.44 10666.77   \nД         Метод достижения цели (fgoalattain)  930011.23 6964.11 18918.13   \nЕ   Введение метрики в пространстве критериев  929210.64 6678.84  7265.18   \n\n        x_2  \n             \nА  16000.07  \nБ1 16000.55  \nБ2 20000.00  \nВ  19997.24  \nГ  16000.07  \nД  10699.14  \nЕ  19999.26  ",
      "text/html": "<div>\n<style scoped>\n    .dataframe tbody tr th:only-of-type {\n        vertical-align: middle;\n    }\n\n    .dataframe tbody tr th {\n        vertical-align: top;\n    }\n\n    .dataframe thead th {\n        text-align: right;\n    }\n</style>\n<table border=\"1\" class=\"dataframe\">\n  <thead>\n    <tr style=\"text-align: right;\">\n      <th></th>\n      <th>Метод перехода к однокритериальной задаче</th>\n      <th>z_1</th>\n      <th>z_2</th>\n      <th>x_1</th>\n      <th>x_2</th>\n    </tr>\n    <tr>\n      <th></th>\n      <th></th>\n      <th></th>\n      <th></th>\n      <th></th>\n      <th></th>\n    </tr>\n  </thead>\n  <tbody>\n    <tr>\n      <th>А</th>\n      <td>Выделение главного критерия</td>\n      <td>883205.29</td>\n      <td>6438.44</td>\n      <td>10666.77</td>\n      <td>16000.07</td>\n    </tr>\n    <tr>\n      <th>Б1</th>\n      <td>Аддитивная свертка</td>\n      <td>883207.90</td>\n      <td>6438.45</td>\n      <td>10666.25</td>\n      <td>16000.55</td>\n    </tr>\n    <tr>\n      <th>Б2</th>\n      <td>Мультипликативная свертка</td>\n      <td>1104000.00</td>\n      <td>8048.00</td>\n      <td>13333.33</td>\n      <td>20000.00</td>\n    </tr>\n    <tr>\n      <th>В</th>\n      <td>Минимакс</td>\n      <td>1103941.71</td>\n      <td>8047.63</td>\n      <td>13334.75</td>\n      <td>19997.24</td>\n    </tr>\n    <tr>\n      <th>Г</th>\n      <td>Метод последовательных уступок</td>\n      <td>883205.29</td>\n      <td>6438.44</td>\n      <td>10666.77</td>\n      <td>16000.07</td>\n    </tr>\n    <tr>\n      <th>Д</th>\n      <td>Метод достижения цели (fgoalattain)</td>\n      <td>930011.23</td>\n      <td>6964.11</td>\n      <td>18918.13</td>\n      <td>10699.14</td>\n    </tr>\n    <tr>\n      <th>Е</th>\n      <td>Введение метрики в пространстве критериев</td>\n      <td>929210.64</td>\n      <td>6678.84</td>\n      <td>7265.18</td>\n      <td>19999.26</td>\n    </tr>\n  </tbody>\n</table>\n</div>"
     },
     "execution_count": 343,
     "metadata": {},
     "output_type": "execute_result"
    }
   ],
   "source": [
    "results_args = [\n",
    "    f1_opt_result.args,\n",
    "    f2_opt_result.args,\n",
    "    f3_opt_result.args,\n",
    "    f4_opt_result.args,\n",
    "    f5_opt_result.args,\n",
    "    f6_opt_result.args,\n",
    "    f7_opt_result.args\n",
    "]\n",
    "\n",
    "result_x = [\n",
    "    f1_opt_result.get_x(),\n",
    "    f2_opt_result.get_x(),\n",
    "    f3_opt_result.get_x(),\n",
    "    f4_opt_result.get_x(),\n",
    "    f5_opt_result.get_x(),\n",
    "    f6_opt_result.get_x(),\n",
    "    f7_opt_result.get_x()\n",
    "]\n",
    "\n",
    "indices = ['А', 'Б1', 'Б2', 'В', 'Г', 'Д', 'Е']\n",
    "\n",
    "all_results_table = DataFrame({\n",
    "    '': indices,\n",
    "    'Метод перехода к однокритериальной задаче': [\n",
    "        'Выделение главного критерия',\n",
    "        'Аддитивная свертка',\n",
    "        'Мультипликативная свертка',\n",
    "        'Минимакс',\n",
    "        'Метод последовательных уступок',\n",
    "        'Метод достижения цели (fgoalattain)',\n",
    "        'Введение метрики в пространстве критериев'\n",
    "    ],\n",
    "    'z_1': [z1(r) for r in results_args],\n",
    "    'z_2': [z2(r) for r in results_args],\n",
    "    'x_1': [ra[0] for ra in result_x],\n",
    "    'x_2': [ra[1] for ra in result_x],\n",
    "})\n",
    "all_results_table.set_index('')"
   ],
   "metadata": {
    "collapsed": false
   }
  },
  {
   "cell_type": "code",
   "execution_count": 344,
   "outputs": [
    {
     "data": {
      "text/plain": "<Figure size 1300x500 with 1 Axes>",
      "image/png": "[encoded data removed]"
     },
     "metadata": {},
     "output_type": "display_data"
    }
   ],
   "source": [
    "from matplotlib import pyplot\n",
    "\n",
    "\n",
    "class IndexCoordinates:\n",
    "    def __init__(self, index, x, y):\n",
    "        self.indices = [index]\n",
    "        self.x = x\n",
    "        self.y = y\n",
    "        self.x_bounds = [0.99 * x, 1.01 * x]\n",
    "        self.y_bounds = [0.99 * y, 1.01 * y]\n",
    "\n",
    "    def is_intersects(self, x, y):\n",
    "        return self.x_bounds[0] <= x <= self.x_bounds[1] and self.y_bounds[0] <= y <= self.y_bounds[1]\n",
    "\n",
    "\n",
    "fig, ax = pyplot.subplots(figsize=(13, 5))\n",
    "\n",
    "coordinated_indices = []\n",
    "\n",
    "for i, args in enumerate(results_args):\n",
    "    values = (z1(args), z2(args))\n",
    "    ax.scatter(z1(args), z2(args), marker='+', color='blue')\n",
    "    index = indices[i]\n",
    "    is_intersected = False\n",
    "    for coordinated_index in coordinated_indices:\n",
    "        if coordinated_index.is_intersects(*values):\n",
    "            coordinated_index.indices.append(index)\n",
    "            is_intersected = True\n",
    "            break\n",
    "    if not is_intersected:\n",
    "        coordinated_indices.append(IndexCoordinates(index, *values))\n",
    "\n",
    "for index in coordinated_indices:\n",
    "    pyplot.text(index.x, index.y, ','.join(index.indices), fontsize=10)\n",
    "\n",
    "pyplot.show()"
   ],
   "metadata": {
    "collapsed": false
   }
  },
  {
   "cell_type": "markdown",
   "source": [
    "Судя по данным таблицы и графика можно сделать вывод, что все решения являются Парето-оптимальными, т.е при каждом из них не получится улучшить результат одного показателя, не ухудшая при этом другого, а значит любой из предложенных вариантов может быть использован в зависимости от приоритетов предприятия."
   ],
   "metadata": {
    "collapsed": false
   }
  },
  {
   "cell_type": "markdown",
   "source": [
    "## 4. Решение задачи стохастического программирования"
   ],
   "metadata": {
    "collapsed": false
   }
  },
  {
   "cell_type": "markdown",
   "source": [
    "Для решения задачу стохастического программирования в качестве основы была выбрана задача однокритериальной оптимизации методом введения метрики в пространстве критериев (см. п. 2.6):\n",
    "\n",
    "\\begin{gather}\n",
    "f = \\sum_{i=1}^{2}{\\bigg( \\frac{y_i^{min} - y_i}{y_i^{min}} \\bigg)^2} \\rightarrow min\\\\\n",
    "\\end{gather}\n",
    "\n",
    "$$\n",
    "\\begin{bmatrix}\n",
    "    0\\\\\n",
    "    0\\\\\n",
    "    8\\\\\n",
    "    -\\infty\n",
    "\\end{bmatrix}\n",
    "\\leq\n",
    "\\begin{bmatrix}\n",
    "    1 && 0\\\\\n",
    "    0 && 1\\\\\n",
    "    \\frac{b_1}{g_1 k_1} * (1 - c_1) && \\frac{b_2}{g_2 k_2} * (1 - c_2)\\\\\n",
    "    -\\frac{a_1 b_1}{g_1} * (1 - c_1) && -\\frac{a_2 b_2}{g_2} * (1 - c_2)\n",
    "\\end{bmatrix}\n",
    "\\times\n",
    "\\begin{bmatrix}\n",
    "    d_1\\\\\n",
    "    d_2\n",
    "\\end{bmatrix}\n",
    "\\leq\n",
    "\\begin{bmatrix}\n",
    "    6\\\\\n",
    "    5\\\\\n",
    "    10\\\\\n",
    "    0.8 y^{min}_1\n",
    "\\end{bmatrix}\n",
    "$$\n",
    "\n",
    "Пусть стоимость товара $a_i$ в силу нестабильности рынка является независимой нормально распределенной случайной величиной:\n",
    "\n",
    "\\begin{gather}\n",
    "a_i = N(\\bar{a_i}, \\sigma_i)\n",
    "\\end{gather}\n",
    "\n",
    "\\begin{array}{ l l }\n",
    "\\overline{a_1} = 8, && \\sigma_1 = 1.6\\\\\n",
    "\\overline{a_2} = 15, && \\sigma_2 = 3.75\n",
    "\\end{array}\n",
    "\n",
    "где $\\overline{a_i}$ – математическое ожидание случайной величины $a_i$, $\\sigma_i$ – ее параметр распределения.\n",
    "\n",
    "Теперь ограничение на минимальный порог прибыли является вероятностным. Его можно выразить следующим образом:\n",
    "\n",
    "$$\n",
    "P(h \\leq 0.8 y_1^{min}) = P \\bigg( -\\sum_{i=1}^2{\\frac{a_i b_i d_i}{g_i} * (1 - c_i)} \\leq 0.8 y_1^{min} \\bigg) \\geq \\alpha\n",
    "$$\n",
    "\n",
    "где $0 \\leq \\alpha \\leq 1$ – доверительная вероятность. Предлагается решить поставленную задачу стохастического программирования при $\\alpha = 0.1, 0.2, \\dots , 0.9$.\n",
    "\n",
    "Основной подход к решению задач стохастического программирования состоит в преобразовании исходной вероятностной задачи в эквивалентную детерминированную. По определению функции распределения неравенство $P(h \\leq 0.8 y_1^{min})\\geq \\alpha$ выполняется тогда и только тогда, когда:\n",
    "\n",
    "$$\n",
    "\\frac{0.8 y_1^{min} - M[h]}{\\sqrt{D[h]}} \\geq K_{\\alpha}\n",
    "$$\n",
    "\n",
    "где $M[h]$ и $D[h]$ – математическое ожидание и дисперсия выражения $h$ соответственно, а $K_\\alpha$ – это $\\alpha$-квантиль распределения $N(0, 1)$.\n",
    "\n",
    "Можно заметить, что это приводит к детерминированному нелинейному ограничению, которое эквивалентно исходному вероятностному и имеет вид:\n",
    "\n",
    "$$\n",
    "M[h] + K_{\\alpha} \\sqrt{D[h]} \\leq 0.8 y_1^{min}\n",
    "$$\n",
    "\n",
    "При этом, с учетом независимости $a_i$ можно выразить математическое ожидание и дисперсию следующим образом:\n",
    "\n",
    "$$\n",
    "M[h] = -\\sum_{i=1}^2{\\frac{M[a_i] b_i d_i}{g_i} * (1 - c_i)} = -\\sum_{i=1}^2{\\frac{\\overline{a_i} b_i d_i}{g_i} * (1 - c_i)}\\\\\n",
    "D[h] = \\sum_{i=1}^2{\\bigg( -\\frac{D[a_i] b_i d_i}{g_i} * (1 - c_i) \\bigg)^2} = \\sum_{i=1}^2{\\bigg( -\\frac{\\sigma_i b_i d_i}{g_i} * (1 - c_i) \\bigg)^2}\n",
    "$$\n",
    "\n",
    "Итоговое ограничение выглядит следующим образом:\n",
    "\n",
    "$$\n",
    "-\\sum_{i=1}^2{\\frac{\\overline{a_i} b_i d_i}{g_i} * (1 - c_i)} + K_{\\alpha} \\sqrt{\\sum_{i=1}^2{\\bigg( -\\frac{\\sigma_i b_i d_i}{g_i} * (1 - c_i) \\bigg)^2}} \\leq 0.8 y_1^{min}\n",
    "$$\n",
    "\n",
    "Полная формулировка задачи:\n",
    "\n",
    "\\begin{gather}\n",
    "f = \\sum_{i=1}^{2}{\\bigg( \\frac{y_i^{min} - y_i}{y_i^{min}} \\bigg)^2} \\rightarrow min\\\\\n",
    "\\end{gather}\n",
    "\n",
    "$$\n",
    "\\begin{bmatrix}\n",
    "    0\\\\\n",
    "    0\\\\\n",
    "    8\n",
    "\\end{bmatrix}\n",
    "\\leq\n",
    "\\begin{bmatrix}\n",
    "    1 && 0\\\\\n",
    "    0 && 1\\\\\n",
    "    \\frac{b_1}{g_1 k_1} * (1 - c_1) && \\frac{b_2}{g_2 k_2} * (1 - c_2)\n",
    "\\end{bmatrix}\n",
    "\\times\n",
    "\\begin{bmatrix}\n",
    "    d_1\\\\\n",
    "    d_2\n",
    "\\end{bmatrix}\n",
    "\\leq\n",
    "\\begin{bmatrix}\n",
    "    6\\\\\n",
    "    5\\\\\n",
    "    10\n",
    "\\end{bmatrix}\n",
    "$$"
   ],
   "metadata": {
    "collapsed": false
   }
  },
  {
   "cell_type": "markdown",
   "source": [
    "Нелинейное ограничение:"
   ],
   "metadata": {
    "collapsed": false
   }
  },
  {
   "cell_type": "code",
   "execution_count": 345,
   "outputs": [],
   "source": [
    "from math import sqrt\n",
    "\n",
    "expected_value = a\n",
    "dispersion = [1.6, 0]\n",
    "\n",
    "\n",
    "def cons_f(d, q):\n",
    "    result = 0\n",
    "    for i in range(len(d)):\n",
    "        result -= expected_value[i] * b[i] * d[i] * (1 - c[i]) / g[i]\n",
    "    dh = 0\n",
    "    for i in range(len(d)):\n",
    "        dh += (-dispersion[i] * b[i] * d[i] * (1 - c[i]) / g[i]) ** 2\n",
    "    result += q * sqrt(dh)\n",
    "    return [result]"
   ],
   "metadata": {
    "collapsed": false
   }
  },
  {
   "cell_type": "markdown",
   "source": [
    "Решение задачи:"
   ],
   "metadata": {
    "collapsed": false
   }
  },
  {
   "cell_type": "code",
   "execution_count": 347,
   "outputs": [
    {
     "name": "stderr",
     "output_type": "stream",
     "text": [
      "C:\\ProgramData\\Anaconda3\\lib\\site-packages\\scipy\\optimize\\_hessian_update_strategy.py:182: UserWarning: delta_grad == 0.0. Check if the approximated function is linear. If the function is linear better results can be obtained by defining the Hessian as zero instead of using quasi-Newton approximations.\n",
      "  warn('delta_grad == 0.0. Check if the approximated '\n"
     ]
    }
   ],
   "source": [
    "from scipy.optimize import NonlinearConstraint\n",
    "from scipy.stats import norm\n",
    "\n",
    "stochastic_opt_results = []\n",
    "for q in np.arange(0.1, 1, 0.1):\n",
    "    quantile = norm.ppf(0.1)\n",
    "    stochastic_constraint = NonlinearConstraint(lambda d: cons_f(d, quantile), -np.inf, o_min * y1_min)\n",
    "    stochastic_opt_results.append(optimize(f_metric, constraints=[full_constraints, stochastic_constraint]))"
   ],
   "metadata": {
    "collapsed": false
   }
  },
  {
   "cell_type": "markdown",
   "source": [
    "Подробные результаты:"
   ],
   "metadata": {
    "collapsed": false
   }
  },
  {
   "cell_type": "code",
   "execution_count": 348,
   "outputs": [
    {
     "data": {
      "text/plain": "                 z_1     z_2     x_1      x_2\naplha                                        \n0.1        929192.23 6678.68 7264.10 19999.62\n0.2        929192.23 6678.68 7264.10 19999.62\n0.3        929192.23 6678.68 7264.10 19999.62\n0.4        929192.23 6678.68 7264.10 19999.62\n0.5        929192.23 6678.68 7264.10 19999.62\n0.6        929192.23 6678.68 7264.10 19999.62\n0.7        929192.23 6678.68 7264.10 19999.62\n0.8        929192.23 6678.68 7264.10 19999.62\n0.9        929192.23 6678.68 7264.10 19999.62\ndetermined 929210.64 6678.84 7265.18 19999.26",
      "text/html": "<div>\n<style scoped>\n    .dataframe tbody tr th:only-of-type {\n        vertical-align: middle;\n    }\n\n    .dataframe tbody tr th {\n        vertical-align: top;\n    }\n\n    .dataframe thead th {\n        text-align: right;\n    }\n</style>\n<table border=\"1\" class=\"dataframe\">\n  <thead>\n    <tr style=\"text-align: right;\">\n      <th></th>\n      <th>z_1</th>\n      <th>z_2</th>\n      <th>x_1</th>\n      <th>x_2</th>\n    </tr>\n    <tr>\n      <th>aplha</th>\n      <th></th>\n      <th></th>\n      <th></th>\n      <th></th>\n    </tr>\n  </thead>\n  <tbody>\n    <tr>\n      <th>0.1</th>\n      <td>929192.23</td>\n      <td>6678.68</td>\n      <td>7264.10</td>\n      <td>19999.62</td>\n    </tr>\n    <tr>\n      <th>0.2</th>\n      <td>929192.23</td>\n      <td>6678.68</td>\n      <td>7264.10</td>\n      <td>19999.62</td>\n    </tr>\n    <tr>\n      <th>0.3</th>\n      <td>929192.23</td>\n      <td>6678.68</td>\n      <td>7264.10</td>\n      <td>19999.62</td>\n    </tr>\n    <tr>\n      <th>0.4</th>\n      <td>929192.23</td>\n      <td>6678.68</td>\n      <td>7264.10</td>\n      <td>19999.62</td>\n    </tr>\n    <tr>\n      <th>0.5</th>\n      <td>929192.23</td>\n      <td>6678.68</td>\n      <td>7264.10</td>\n      <td>19999.62</td>\n    </tr>\n    <tr>\n      <th>0.6</th>\n      <td>929192.23</td>\n      <td>6678.68</td>\n      <td>7264.10</td>\n      <td>19999.62</td>\n    </tr>\n    <tr>\n      <th>0.7</th>\n      <td>929192.23</td>\n      <td>6678.68</td>\n      <td>7264.10</td>\n      <td>19999.62</td>\n    </tr>\n    <tr>\n      <th>0.8</th>\n      <td>929192.23</td>\n      <td>6678.68</td>\n      <td>7264.10</td>\n      <td>19999.62</td>\n    </tr>\n    <tr>\n      <th>0.9</th>\n      <td>929192.23</td>\n      <td>6678.68</td>\n      <td>7264.10</td>\n      <td>19999.62</td>\n    </tr>\n    <tr>\n      <th>determined</th>\n      <td>929210.64</td>\n      <td>6678.84</td>\n      <td>7265.18</td>\n      <td>19999.26</td>\n    </tr>\n  </tbody>\n</table>\n</div>"
     },
     "execution_count": 348,
     "metadata": {},
     "output_type": "execute_result"
    }
   ],
   "source": [
    "alpha_values = ['{:.1f}'.format(i) for i in np.arange(0.1, 1, 0.1)]\n",
    "alpha_values.append('determined')\n",
    "\n",
    "all_stochastic_opt_results = stochastic_opt_results + [f7_opt_result]\n",
    "\n",
    "z1_values = [z1(r.args) for r in all_stochastic_opt_results]\n",
    "\n",
    "z2_values = [z2(r.args) for r in all_stochastic_opt_results]\n",
    "\n",
    "x1_values = []\n",
    "x2_values = []\n",
    "for r in all_stochastic_opt_results:\n",
    "    x = r.get_x()\n",
    "    x1_values.append(x[0])\n",
    "    x2_values.append(x[1])\n",
    "\n",
    "stochastic_results_table = DataFrame({\n",
    "    'aplha': alpha_values,\n",
    "    'z_1': z1_values,\n",
    "    'z_2': z2_values,\n",
    "    'x_1': x1_values,\n",
    "    'x_2': x2_values,\n",
    "})\n",
    "stochastic_results_table.set_index('aplha')"
   ],
   "metadata": {
    "collapsed": false
   }
  },
  {
   "cell_type": "markdown",
   "source": [
    "Судя по полученным данным какой бы ни была доверительная вероятность $\\alpha$, значение будет одним и тем же и примерно равно значениям, полученных при детерминированном ограничении. Если разобраться, становится понятно, что процесс оптимизации упирается в верхнюю границу параметры $d_2$. При этом все условия выполняются, более того, условие минимально возможной прибыли даже не достигает своего порога.\n",
    "\n",
    "Таким образом получается, что решение задачи методом стохастического программирования с данными условиями не позволяет оценить влияние случайных величин и доверительных вероятностей на критерии оптимальности, т.к. процесс поиска оптимального решения просто не затрагивает значения параметров, при которых значения критериев близки к критическим."
   ],
   "metadata": {
    "collapsed": false
   }
  },
  {
   "cell_type": "markdown",
   "source": [
    "## Вывод"
   ],
   "metadata": {
    "collapsed": false
   }
  },
  {
   "cell_type": "markdown",
   "source": [
    "В данной работе было рассмотрено несколько способов решения задачи оптимизации нескольких критериев.\n",
    "\n",
    "Среди полученных решений, можно заметить следующее:\n",
    "\n",
    "- Решения методами минимакс и мультипликативной свертки почти идентичны\n",
    "- Решения методами выделения главного критерия, аддитивной свертки и, соответственно, последовательных уступок почти идентичны\n",
    "\n",
    "Оба свойства обусловлены тем, что каждая группа подбирая соответствующие ограничениям параметры, дающие лучшие результаты по одному из критериев. В случае 1й группы это максимизация прибыли, а в случае 2й – минимизация затрат.\n",
    "\n",
    "Методами goal attain и метрик критериев дают решения с усредненными результатами критериев.\n",
    "\n",
    "Была попытка проанализировать решения задачи с вероятностным ограничением методом стохастического программирования, однако из-за того, что вне зависимости от вероятностной составляющей, решения упираются в другие ограничения."
   ],
   "metadata": {
    "collapsed": false
   }
  }
 ],
 "metadata": {
  "kernelspec": {
   "display_name": "Python 3",
   "language": "python",
   "name": "python3"
  },
  "language_info": {
   "codemirror_mode": {
    "name": "ipython",
    "version": 2
   },
   "file_extension": ".py",
   "mimetype": "text/x-python",
   "name": "python",
   "nbconvert_exporter": "python",
   "pygments_lexer": "ipython2",
   "version": "2.7.6"
  }
 },
 "nbformat": 4,
 "nbformat_minor": 0
}
