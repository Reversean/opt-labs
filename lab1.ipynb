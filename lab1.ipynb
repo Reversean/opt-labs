{
  "cells": [
    {
      "cell_type": "markdown",
      "source": [
        "<!--<badge>--><a href=\"https://colab.research.google.com/github/Reversean/opt-labs/blob/main/lab1.ipynb\" target=\"_parent\"><img src=\"https://colab.research.google.com/assets/colab-badge.svg\" alt=\"Open In Colab\"/></a><!--</badge>-->"
      ],
      "metadata": {
        "collapsed": false
      }
    },
    {
      "cell_type": "markdown",
      "source": [
        "# \u0420\u0430\u0441\u0447\u0435\u0442\u043d\u043e\u0435 \u0437\u0430\u0434\u0430\u043d\u0438\u0435 1"
      ],
      "metadata": {
        "collapsed": false
      }
    },
    {
      "cell_type": "markdown",
      "source": [
        "## \u0422\u0435\u043c\u0430: \u041c\u043d\u043e\u0433\u043e\u043a\u0440\u0438\u0442\u0435\u0440\u0438\u0430\u043b\u044c\u043d\u0430\u044f \u043e\u043f\u0442\u0438\u043c\u0438\u0437\u0430\u0446\u0438\u044f"
      ],
      "metadata": {
        "collapsed": false
      }
    },
    {
      "cell_type": "markdown",
      "source": [
        "\u0412\u044b\u043f\u043e\u043b\u043d\u0438\u043b \u0441\u0442\u0443\u0434\u0435\u043d\u0442 \u0433\u0440. 3540901/21501 \u041b\u0438\u0445\u043e\u043b\u0435\u0442\u043e\u0432 \u041c.\u0414.\n",
        "\n",
        "\u0420\u0443\u043a\u043e\u0432\u043e\u0434\u0438\u0442\u0435\u043b\u044c, \u043a.\u0442.\u043d., \u0434\u043e\u0446. \u0421\u0438\u0434\u043d\u0435\u0432 \u0410.\u0413."
      ],
      "metadata": {
        "collapsed": false
      }
    },
    {
      "cell_type": "markdown",
      "source": [
        "## \u0417\u0430\u0434\u0430\u0447\u0430 22"
      ],
      "metadata": {
        "collapsed": false
      }
    },
    {
      "cell_type": "markdown",
      "source": [
        "\u0424\u0438\u0440\u043c\u0430 \u043f\u0440\u043e\u0438\u0437\u0432\u043e\u0434\u0438\u0442 \u0434\u0432\u0430 \u043f\u0440\u043e\u0434\u0443\u043a\u0442\u0430 \u0410 \u0438 \u0412, \u043f\u0440\u043e\u0434\u0430\u0432\u0430\u0435\u043c\u044b\u0445 \u0441\u043e\u043e\u0442\u0432\u0435\u0442\u0441\u0442\u0432\u0435\u043d\u043d\u043e \u043f\u043e 8 \u0438 \u043f\u043e 15 \u0440\u0443\u0431. \u0437\u0430 \u0443\u043f\u0430\u043a\u043e\u0432\u043a\u0443. \u0420\u044b\u043d\u043e\u043a \u0441\u0431\u044b\u0442\u0430 \u0434\u043b\u044f \u043a\u0430\u0436\u0434\u043e\u0433\u043e \u0438\u0437 \u043d\u0438\u0445 \u043d\u0435 \u043e\u0433\u0440\u0430\u043d\u0438\u0447\u0435\u043d.\n",
        "\n",
        "\u041f\u0440\u043e\u0434\u0443\u043a\u0442 \u0410 \u043e\u0431\u0440\u0430\u0431\u0430\u0442\u044b\u0432\u0430\u0435\u0442\u0441\u044f \u043d\u0430 \u043c\u0430\u0448\u0438\u043d\u0435 1, \u043f\u0440\u043e\u0434\u0443\u043a\u0442 \u0412 \u2013 \u043d\u0430 \u043c\u0430\u0448\u0438\u043d\u0435 2, \u0437\u0430\u0442\u0435\u043c \u043e\u0431\u0430 \u0443\u043f\u0430\u043a\u043e\u0432\u044b\u0432\u0430\u044e\u0442\u0441\u044f \u043d\u0430 \u0444\u0430\u0431\u0440\u0438\u043a\u0435.\n",
        "\n",
        "\u041c\u0430\u0448\u0438\u043d\u0430 1 (2) \u043e\u0431\u0440\u0430\u0431\u0430\u0442\u044b\u0432\u0430\u0435\u0442 5000 (4000) \u043a\u0433 \u0441\u044b\u0440\u044c\u044f \u0432 \u0447\u0430\u0441 \u0441 \u043f\u043e\u0442\u0435\u0440\u044f\u043c\u0438 10% (20%). \u041c\u0430\u0448\u0438\u043d\u0430 1 (2) \u043c\u043e\u0436\u0435\u0442 \u0440\u0430\u0431\u043e\u0442\u0430\u0442\u044c \u0434\u043e 6 (5) \u0447\u0430\u0441\u043e\u0432 \u0432 \u0434\u0435\u043d\u044c, \u0435\u0435 \u0438\u0441\u043f\u043e\u043b\u044c\u0437\u043e\u0432\u0430\u043d\u0438\u0435 \u0441\u0442\u043e\u0438\u0442 288 (336) \u0440\u0443\u0431./\u0447\u0430\u0441. \u041d\u0430 \u043f\u0440\u043e\u0438\u0437\u0432\u043e\u0434\u0441\u0442\u0432\u043e \u0435\u0434\u0438\u043d\u0438\u0446\u044b \u043f\u0440\u043e\u0434\u0443\u043a\u0442\u0430 \u0410 (\u0412) \u0442\u0440\u0435\u0431\u0443\u0435\u0442\u0441\u044f 1/4 (1/3) \u043a\u0433 \u0441\u044b\u0440\u044c\u044f. 1 \u043a\u0433 \u0441\u044b\u0440\u044c\u044f \u0441\u0442\u043e\u0438\u0442 6 \u043a\u043e\u043f\u0435\u0435\u043a.\n",
        "\n",
        "\u0423\u043f\u0430\u043a\u043e\u0432\u043e\u0447\u043d\u0430\u044f \u0444\u0430\u0431\u0440\u0438\u043a\u0430 \u043c\u043e\u0436\u0435\u0442 \u0440\u0430\u0431\u043e\u0442\u0430\u0442\u044c \u043d\u0435 \u043c\u0435\u043d\u0435\u0435 8, \u043d\u043e \u043d\u0435 \u0431\u043e\u043b\u0435\u0435 10 \u0447\u0430\u0441\u043e\u0432 \u0432 \u0434\u0435\u043d\u044c. \u0417\u0430 1 \u0447\u0430\u0441 \u0440\u0430\u0431\u043e\u0442\u044b \u0444\u0430\u0431\u0440\u0438\u043a\u0438 \u043c\u043e\u0436\u043d\u043e \u0443\u043f\u0430\u043a\u043e\u0432\u0430\u0442\u044c 12000 (8000) \u043f\u0440\u043e\u0434\u0443\u043a\u0442\u0430 \u0410 (\u0412). \u0417\u0430\u0442\u0440\u0430\u0442\u044b \u043d\u0430 \u0440\u0430\u0431\u043e\u0442\u0443 \u0443\u043f\u0430\u043a\u043e\u0432\u043e\u0447\u043d\u043e\u0439 \u0444\u0430\u0431\u0440\u0438\u043a\u0438 \u0441\u043e\u0441\u0442\u0430\u0432\u043b\u044f\u044e\u0442 360 \u0440\u0443\u0431/\u0447\u0430\u0441.\n",
        "\n",
        "\u041a\u043e\u043c\u043f\u0430\u043d\u0438\u044f \u0445\u043e\u0447\u0435\u0442 \u043e\u043f\u0440\u0435\u0434\u0435\u043b\u0438\u0442\u044c \u0442\u0430\u043a\u0438\u0435 \u0437\u043d\u0430\u0447\u0435\u043d\u0438\u044f \u04451 \u0438 \u04452 \u043f\u043e\u0442\u0440\u0435\u0431\u043b\u0435\u043d\u0438\u044f \u0441\u044b\u0440\u044c\u044f \u0434\u043b\u044f \u043f\u0440\u043e\u0434\u0443\u043a\u0442\u043e\u0432 \u0410 \u0438 \u0412, \u043f\u0440\u0438 \u043a\u043e\u0442\u043e\u0440\u044b\u0445 \u0434\u043d\u0435\u0432\u043d\u0430\u044f \u043f\u0440\u0438\u0431\u044b\u043b\u044c \u043c\u0430\u043a\u0441\u0438\u043c\u0430\u043b\u044c\u043d\u0430, \u0430 \u0437\u0430\u0442\u0440\u0430\u0442\u044b \u043f\u0440\u0435\u0434\u043f\u0440\u0438\u044f\u0442\u0438\u044f \u043c\u0438\u043d\u0438\u043c\u0430\u043b\u044c\u043d\u044b \u043f\u0440\u0438 \u0443\u0441\u043b\u043e\u0432\u0438\u0438 \u043f\u043e\u043b\u0443\u0447\u0435\u043d\u0438\u044f \u043d\u0435 \u043c\u0435\u043d\u0435\u0435 80% \u043c\u0430\u043a\u0441\u0438\u043c\u0430\u043b\u044c\u043d\u043e\u0439 \u0434\u043d\u0435\u0432\u043d\u043e\u0439 \u043f\u0440\u0438\u0431\u044b\u043b\u0438.\n"
      ],
      "metadata": {
        "collapsed": false
      }
    },
    {
      "cell_type": "markdown",
      "source": [
        "\u0414\u043b\u044f \u0440\u0435\u0448\u0435\u043d\u0438\u044f \u0440\u0430\u0441\u0447\u0435\u0442\u043d\u043e\u0433\u043e \u0437\u0430\u0434\u0430\u043d\u0438\u044f \u0442\u0440\u0435\u0431\u0443\u0435\u0442\u0441\u044f \u0432\u044b\u043f\u043e\u043b\u043d\u0438\u0442\u044c \u0441\u043b\u0435\u0434\u0443\u044e\u0449\u0438\u0435 \u0448\u0430\u0433\u0438:\n",
        "\n",
        "1. \u041f\u0440\u0435\u043e\u0431\u0440\u0430\u0437\u043e\u0432\u0430\u0442\u044c \u043c\u043d\u043e\u0433\u043e\u043a\u0440\u0438\u0442\u0435\u0440\u0438\u0430\u043b\u044c\u043d\u0443\u044e \u0437\u0430\u0434\u0430\u0447\u0443 \u0432 \u043e\u0434\u043d\u043e\u043a\u0440\u0438\u0442\u0435\u0440\u0438\u0430\u043b\u044c\u043d\u0443\u044e \u043f\u0440\u0438 \u043f\u043e\u043c\u043e\u0449\u0438 \u0441\u043b\u0435\u0434\u0443\u044e\u0449\u0438\u0445 \u043c\u0435\u0442\u043e\u0434\u043e\u0432:\n",
        "    - \u0432\u044b\u0434\u0435\u043b\u0435\u043d\u0438\u0435 \u0433\u043b\u0430\u0432\u043d\u043e\u0433\u043e \u043a\u0440\u0438\u0442\u0435\u0440\u0438\u044f;\n",
        "    - \u0441\u0432\u0435\u0440\u0442\u043a\u0430 \u043a\u0440\u0438\u0442\u0435\u0440\u0438\u0435\u0432 (\u0430\u0434\u0434\u0438\u0442\u0438\u0432\u043d\u0430\u044f \u0438 \u043c\u0443\u043b\u044c\u0442\u0438\u043f\u043b\u0438\u043a\u0430\u0442\u0438\u0432\u043d\u0430\u044f);\n",
        "    - maximin \u0438\u043b\u0438 minimax \u0441\u0432\u0435\u0440\u0442\u043a\u0430;\n",
        "    - \u043c\u0435\u0442\u043e\u0434 \u043f\u043e\u0441\u043b\u0435\u0434\u043e\u0432\u0430\u0442\u0435\u043b\u044c\u043d\u044b\u0445 \u0443\u0441\u0442\u0443\u043f\u043e\u043a;\n",
        "    - fgoalattain;\n",
        "    - \u0432\u0435\u0434\u0435\u043d\u0438\u0435 \u043c\u0435\u0442\u0440\u0438\u043a\u0438 \u0432 \u043f\u0440\u043e\u0441\u0442\u0440\u0430\u043d\u0441\u0442\u0432\u0435 \u043a\u0440\u0438\u0442\u0435\u0440\u0438\u0435\u0432.\n",
        "2. \u0420\u0435\u0448\u0438\u0442\u044c \u0437\u0430\u0434\u0430\u0447\u0443 \u0441\u0442\u043e\u0445\u0430\u0441\u0442\u0438\u0447\u0435\u0441\u043a\u043e\u0433\u043e \u043f\u0440\u043e\u0433\u0440\u0430\u043c\u043c\u0438\u0440\u043e\u0432\u0430\u043d\u0438\u044f \u0434\u043b\u044f \u043e\u0434\u043d\u043e\u0439 \u0438\u0437 \u043e\u0434\u043d\u043e\u043a\u0440\u0438\u0442\u0435\u0440\u0438\u0430\u043b\u044c\u043d\u044b\u0445 \u0437\u0430\u0434\u0430\u0447, \u0438\u0441\u043f\u043e\u043b\u044c\u0437\u0443\u044f \u0442\u0440\u0430\u043d\u0441\u0444\u043e\u0440\u043c\u0430\u0446\u0438\u044e \u0434\u0435\u0442\u0435\u0440\u043c\u0435\u043d\u0438\u0440\u043e\u0432\u0430\u043d\u043d\u043e\u0433\u043e \u043e\u0433\u0440\u0430\u043d\u0438\u0447\u0435\u043d\u0438\u044f \u0432 \u0432\u0435\u0440\u043e\u044f\u0442\u043d\u043e\u0441\u0442\u043d\u043e\u0433\u043e:\n",
        "\n",
        "$$\n",
        "P(\\sum_{j=1}^n a_{ij} x_j - b_i \\leq 0) \\geq \\alpha_i \\\\\n",
        "$$\n",
        "\n",
        "- $\\alpha$ \u043c\u0435\u043d\u044f\u0435\u0442\u0441\u044f \u0432 \u0434\u0438\u0430\u043f\u0430\u0437\u043e\u043d\u0435 $0.1 \\leq \\alpha \\leq 0.9$\n",
        "- $b_i$ \u0438 $a_{ij}$ \u0441\u0447\u0438\u0442\u0430\u044e\u0442\u0441\u044f \u0441\u043b\u0443\u0447\u0430\u0439\u043d\u043e\u0439 \u0432\u0435\u043b\u0438\u0447\u0438\u043d\u043e\u0439"
      ],
      "metadata": {
        "collapsed": false
      }
    },
    {
      "cell_type": "markdown",
      "source": [
        "## 1. \u041c\u0430\u0442\u0435\u043c\u0430\u0442\u0438\u0447\u0435\u0441\u043a\u0430\u044f \u043c\u043e\u0434\u0435\u043b\u044c \u0437\u0430\u0434\u0430\u0447\u0438 \u043c\u043d\u043e\u0433\u043e\u043a\u0440\u0438\u0442\u0435\u0440\u0438\u0430\u043b\u044c\u043d\u043e\u0439 \u043e\u043f\u0442\u0438\u043c\u0438\u0437\u0430\u0446\u0438\u0438"
      ],
      "metadata": {
        "collapsed": false
      }
    },
    {
      "cell_type": "markdown",
      "source": [
        "\u0414\u043b\u044f \u043f\u043e\u0441\u0442\u0440\u043e\u0435\u043d\u0438\u044f \u043c\u0430\u0442\u0435\u043c\u0430\u0442\u0438\u0447\u0435\u0441\u043a\u043e\u0439 \u043c\u043e\u0434\u0435\u043b\u0438 \u043f\u043e\u0441\u0442\u0430\u0432\u043b\u0435\u043d\u043d\u043e\u0439 \u0437\u0430\u0434\u0430\u0447\u0438 \u0432\u0432\u0435\u0434\u0435\u043c \u0440\u044f\u0434 \u043e\u0431\u043e\u0437\u043d\u0430\u0447\u0435\u043d\u0438\u0439:\n",
        "- $a_i$ \u2013 \u0434\u0435\u043d\u0435\u0436\u043d\u0430\u044f \u043f\u0440\u0438\u0431\u044b\u043b\u044c, \u043f\u0440\u0438\u043d\u043e\u0441\u0438\u043c\u0430\u044f \u043f\u0440\u043e\u0434\u0443\u043a\u0442\u043e\u043c $i$ (\u0440\u0443\u0431/\u0435\u0434);\n",
        "- $b_i$ \u2013 \u043f\u043e\u0442\u0440\u0435\u0431\u043b\u0435\u043d\u0438\u0435 \u0441\u044b\u0440\u044c\u044f \u043c\u0430\u0448\u0438\u043d\u043e\u0439 $i$ (\u043a\u0433/\u0447);\n",
        "- $c_i$ \u2013 \u043f\u043e\u0442\u0435\u0440\u0438 \u043f\u0440\u0438 \u043f\u043e\u0442\u0440\u0435\u0431\u043b\u0435\u043d\u0438\u0438 \u0441\u044b\u0440\u044c\u044f \u043c\u0430\u0448\u0438\u043d\u043e\u0439 $i$ (\u043a\u0433/\u0447);\n",
        "- $d_i$ \u2013 \u0432\u0440\u0435\u043c\u044f \u0440\u0430\u0431\u043e\u0442\u044b \u043c\u0430\u0448\u0438\u043d\u044b $i$ (\u0447/\u0441\u0443\u0442);\n",
        "- $e_i$ \u2013 \u0441\u0442\u043e\u0438\u043c\u043e\u0441\u0442\u044c \u0440\u0430\u0431\u043e\u0442\u044b \u043c\u0430\u0448\u0438\u043d\u044b $i$ (\u0440\u0443\u0431/\u0447);\n",
        "- $g_i$ \u2013 \u043a\u043e\u043b-\u0432\u043e \u0441\u044b\u0440\u044c\u044f \u0434\u043b\u044f \u043f\u0440\u043e\u0438\u0437\u0432\u043e\u0434\u0441\u0442\u0432\u0430 \u043f\u0440\u043e\u0434\u0443\u043a\u0442\u0430 $i$ (\u043a\u0433/\u0435\u0434);\n",
        "- $h$ \u2013 \u0441\u0442\u043e\u0438\u043c\u043e\u0441\u0442\u044c \u0441\u044b\u0440\u044c\u044f (\u0440\u0443\u0431/\u043a\u0433);\n",
        "- $k_i$ \u2013 \u0441\u043a\u043e\u0440\u043e\u0441\u0442\u044c \u0443\u043f\u0430\u043a\u043e\u0432\u043a\u0438 \u043f\u0440\u043e\u0434\u0443\u043a\u0442\u043e\u0432 \u0442\u0438\u043f\u0430 $i$ (\u0435\u0434/\u0447);\n",
        "- $l$ \u2013 \u0441\u0442\u043e\u0438\u043c\u043e\u0441\u0442\u044c \u0440\u0430\u0431\u043e\u0442\u044b \u0444\u0430\u0431\u0440\u0438\u043a\u0438 (\u0440\u0443\u0431/\u0447);"
      ],
      "metadata": {
        "collapsed": false
      }
    },
    {
      "cell_type": "markdown",
      "source": [
        "\u041c\u0430\u0442\u0435\u043c\u0430\u0442\u0438\u0447\u0435\u0441\u043a\u0430\u044f \u043c\u043e\u0434\u0435\u043b\u044c \u043f\u043e\u0441\u0442\u0430\u0432\u043b\u0435\u043d\u043d\u043e\u0439 \u0437\u0430\u0434\u0430\u0447\u0438 \u043c\u043e\u0436\u0435\u0442 \u0431\u044b\u0442\u044c \u0437\u0430\u043f\u0438\u0441\u0430\u043d\u0430 \u0441\u043b\u0435\u0434\u0443\u044e\u0449\u0438\u043c \u043e\u0431\u0440\u0430\u0437\u043e\u043c:\n",
        "\n",
        "\\begin{gather}\n",
        "    x_i = b_i d_i\\\\\n",
        "    z_1 = \\sum_{i=1}^2{\\frac{a_i b_i d_i}{g_i} * (1 - c_i)} \\rightarrow max\\\\\n",
        "    z_2 = \\sum_{i=1}^2{d_i e_i + b_i d_i h + \\frac{b_i d_i l * (1 - c_i)}{g_i k_i}} \\rightarrow min\\\\\n",
        "\\end{gather}\n",
        "\n",
        "\\begin{cases}\n",
        "    0 \\leq d_1 \\leq 6\\\\\n",
        "    0 \\leq d_2 \\leq 5\\\\\n",
        "    8 \\leq \\sum_{i=1}^2{\\frac{b_i d_i * (1 - c_i)}{g_i k_i}} \\leq 10\\\\\n",
        "    z_1 \\geq 0.8 z^{max}_1\n",
        "\\end{cases}\n",
        "\n",
        "\u0433\u0434\u0435 $x_i$ \u2013 \u043f\u043e\u0442\u0440\u0435\u0431\u043b\u0435\u043d\u0438\u0435 \u0441\u044b\u0440\u044c\u044f \u0434\u043b\u044f \u043f\u0440\u043e\u0438\u0437\u0432\u043e\u0434\u0441\u0442\u0432\u0430 \u043f\u0440\u043e\u0434\u0443\u043a\u0442\u043e\u0432 $i$ \u0437\u0430 \u0441\u0443\u0442\u043a\u0438, $z_1$ \u2013 \u043f\u0440\u0438\u0431\u044b\u043b\u044c \u0437\u0430 \u0441\u0443\u0442\u043a\u0438, $z_1$ \u2013 \u0437\u0430\u0442\u0440\u0430\u0442\u044b \u043f\u0440\u0435\u0434\u043f\u0440\u0438\u044f\u0442\u0438\u044f \u0437\u0430 \u0441\u0443\u0442\u043a\u0438."
      ],
      "metadata": {
        "collapsed": false
      }
    },
    {
      "cell_type": "markdown",
      "source": [
        "\u0427\u0438\u0441\u043b\u0435\u043d\u043d\u044b\u0435 \u0437\u043d\u0430\u0447\u0435\u043d\u0438\u044f \u043f\u0430\u0440\u0430\u043c\u0435\u0442\u0440\u043e\u0432:\n",
        "\n",
        "\\begin{array}{ l l }\n",
        "    a_1 = 8 \u0440\u0443\u0431; & a_2 = 15 \u0440\u0443\u0431;\\\\\n",
        "    b_1 = 5000 \u043a\u0433/\u0447; & b_2 = 4000 \u043a\u0433/\u0447;\\\\\n",
        "    c_1 = 0.1; & c_2 = 0.2;\\\\\n",
        "    e_1 = 288 \u0440\u0443\u0431/\u0447; & e_2 = 336 \u0440\u0443\u0431/\u0447;\\\\\n",
        "    g_1 = 1/4 \u043a\u0433; & g_2 = 1/3 \u043a\u0433;\\\\\n",
        "    k_1 = 12000; & k_2 = 8000;\\\\\n",
        "    l = 360 \u0440\u0443\u0431/\u0447; & h = 0.06 \u0440\u0443\u0431.\n",
        "\\end{array}"
      ],
      "metadata": {
        "collapsed": false
      }
    },
    {
      "cell_type": "markdown",
      "source": [
        "\u0414\u043b\u044f \u0434\u0430\u043b\u044c\u043d\u0435\u0439\u0448\u0435\u0433\u043e \u0438\u0441\u043f\u043e\u043b\u044c\u0437\u043e\u0432\u0430\u043d\u0438\u044f \u043c\u0430\u0442\u0435\u043c\u0430\u0442\u0438\u0447\u0435\u0441\u043a\u043e\u0439 \u043c\u043e\u0434\u0435\u043b\u0438 \u0434\u043b\u044f \u0440\u0435\u0448\u0435\u043d\u0438\u044f \u0437\u0430\u0434\u0430\u0447 \u043f\u0440\u0438 \u043f\u043e\u043c\u043e\u0449\u0438 \u043f\u0440\u043e\u0433\u0440\u0430\u043c\u043c\u043d\u044b\u0445 \u0431\u0438\u0431\u043b\u0438\u043e\u0442\u0435\u043a, \u0442\u0440\u0435\u0431\u0443\u0435\u0442\u0441\u044f \u0437\u0430\u043c\u0435\u043d\u0438\u0442\u044c \u0444\u0443\u043d\u043a\u0446\u0438\u0438 \u043f\u043e\u0438\u0441\u043a\u0430 \u043c\u0430\u043a\u0441\u0438\u043c\u0443\u043c\u043e\u0432 \u043d\u0430 \u0444\u0443\u043d\u043a\u0446\u0438\u0438 \u043f\u043e\u0438\u0441\u043a\u0430 \u043c\u0438\u043d\u0438\u043c\u0443\u043c\u043e\u0432, \u0430 \u0442\u0430\u043a\u0436\u0435 \u043f\u0440\u0435\u0434\u0441\u0442\u0430\u0432\u0438\u0442\u044c \u043e\u0433\u0440\u0430\u043d\u0438\u0447\u0435\u043d\u0438\u044f \u0432 \u043c\u0430\u0442\u0440\u0438\u0447\u043d\u043e\u043c \u0432\u0438\u0434\u0435:\n",
        "\n",
        "\\begin{gather}\n",
        "    x_i = b_i d_i\\\\\n",
        "    y_1 = -\\sum_{i=1}^2{\\frac{a_i b_i d_i}{g_i} * (1 - c_i)} \\rightarrow min\\\\\n",
        "    y_2 = \\sum_{i=1}^2{d_i e_i + b_i d_i h + \\frac{b_i d_i l}{g_i k_i} * (1 - c_i)} \\rightarrow min\\\\\n",
        "    y_1 \\leq 0.8 y^{min}_1\\\\\n",
        "\\end{gather}\n",
        "\n",
        "$$\n",
        "\\begin{bmatrix}\n",
        "    0\\\\\n",
        "    0\\\\\n",
        "    8\n",
        "\\end{bmatrix}\n",
        "\\leq\n",
        "\\begin{bmatrix}\n",
        "    1 && 0\\\\\n",
        "    0 && 1\\\\\n",
        "    \\frac{b_1}{g_1 k_1} * (1 - c_1) && \\frac{b_2}{g_2 k_2} * (1 - c_2)\\\\\n",
        "\\end{bmatrix}\n",
        "\\times\n",
        "\\begin{bmatrix}\n",
        "    d_1\\\\\n",
        "    d_2\n",
        "\\end{bmatrix}\n",
        "\\leq\n",
        "\\begin{bmatrix}\n",
        "    6\\\\\n",
        "    5\\\\\n",
        "    10\n",
        "\\end{bmatrix}\n",
        "$$"
      ],
      "metadata": {
        "collapsed": false
      }
    },
    {
      "cell_type": "markdown",
      "source": [
        "### 1.1. \u041f\u043e\u0438\u0441\u043a \u043e\u043f\u0442\u0438\u043c\u0443\u043c\u043e\u0432 \u0447\u0430\u0441\u0442\u043d\u044b\u0445 \u043a\u0440\u0438\u0442\u0435\u0440\u0438\u0435\u0432"
      ],
      "metadata": {
        "collapsed": false
      }
    },
    {
      "cell_type": "markdown",
      "source": [
        "\u0422\u0440\u0435\u0431\u0443\u0435\u0442\u0441\u044f \u043d\u0430\u0439\u0442\u0438 \u043e\u043f\u0442\u0438\u043c\u0443\u043c\u044b \u043a\u0430\u0436\u0434\u043e\u0439 \u0446\u0435\u043b\u0435\u0432\u043e\u0439 \u0444\u0443\u043d\u043a\u0446\u0438\u0438 \u043d\u0435\u0437\u0430\u0432\u0438\u0441\u0438\u043c\u043e \u043e\u0442 \u043e\u0441\u0442\u0430\u043b\u044c\u043d\u044b\u0445, \u0442.\u0435. \u043f\u0440\u0438 \u043e\u0434\u043d\u0438\u0445 \u0438 \u0442\u0435\u0445 \u0436\u0435 \u043e\u0433\u0440\u0430\u043d\u0438\u0447\u0435\u043d\u0438\u044f\u0445 \u0440\u0435\u0448\u0438\u0442\u044c \u0434\u0432\u0435 \u043e\u0434\u043d\u043e\u043a\u0440\u0438\u0442\u0435\u0440\u0438\u0430\u043b\u044c\u043d\u044b\u0435 \u0437\u0430\u0434\u0430\u0447\u0438 \u043e\u043f\u0442\u0438\u043c\u0438\u0437\u0430\u0446\u0438\u0438: \u0434\u043b\u044f $y_1$ \u0438 \u0434\u043b\u044f $y_2$.\n",
        "\n",
        "\u0414\u043b\u044f \u043f\u043e\u0438\u0441\u043a\u0430 \u043e\u043f\u0442\u0438\u043c\u0443\u043c\u043e\u0432 \u0438\u0441\u043f\u043e\u043b\u044c\u0437\u043e\u0432\u0430\u043b\u0430\u0441\u044c \u0444\u0443\u043d\u043a\u0446\u0438\u044f `minimize` \u0438\u0437 \u0431\u0438\u0431\u043b\u0438\u043e\u0442\u0435\u043a\u0438 [SciPy](https://docs.scipy.org/doc/scipy/index.html)."
      ],
      "metadata": {
        "collapsed": false
      }
    },
    {
      "cell_type": "markdown",
      "source": [
        "\u041f\u0430\u0440\u0430\u043c\u0435\u0442\u0440\u044b:"
      ],
      "metadata": {
        "collapsed": false
      }
    },
    {
      "cell_type": "code",
      "execution_count": 319,
      "outputs": [],
      "source": [
        "a = [8, 15]  # \u0434\u0435\u043d\u0435\u0436\u043d\u0430\u044f \u043f\u0440\u0438\u0431\u044b\u043b\u044c, \u043f\u0440\u0438\u043d\u043e\u0441\u0438\u043c\u0430\u044f \u043f\u0440\u043e\u0434\u0443\u043a\u0442\u0430\u043c\u0438\n",
        "b = [5000, 4000]  # \u043f\u043e\u0442\u0440\u0435\u0431\u043b\u0435\u043d\u0438\u0435 \u0441\u044b\u0440\u044c\u044f \u043c\u0430\u0448\u0438\u043d\u0430\u043c\u0438\n",
        "c = [0.1, 0.2]  # \u043f\u043e\u0442\u0435\u0440\u0438 \u043f\u0440\u0438 \u043f\u043e\u0442\u0440\u0435\u0431\u043b\u0435\u043d\u0438\u0438 \u0441\u044b\u0440\u044c\u044f \u043c\u0430\u0448\u0438\u043d\u0430\u043c\u0438\n",
        "e = [288, 336]  # \u0441\u0442\u043e\u0438\u043c\u043e\u0441\u0442\u044c \u0440\u0430\u0431\u043e\u0442\u044b \u043c\u0430\u0448\u0438\u043d\n",
        "g = [1 / 4, 1 / 3]  # \u043a\u043e\u043b-\u0432\u043e \u0441\u044b\u0440\u044c\u044f \u0434\u043b\u044f \u043f\u0440\u043e\u0438\u0437\u0432\u043e\u0434\u0441\u0442\u0432\u0430 \u043f\u0440\u043e\u0434\u0443\u043a\u0442\u043e\u0432\n",
        "h = 0.06  # \u0441\u0442\u043e\u0438\u043c\u043e\u0441\u0442\u044c \u0441\u044b\u0440\u044c\u044f\n",
        "k = [12000, 8000]  # \u0441\u043a\u043e\u0440\u043e\u0441\u0442\u044c \u0443\u043f\u0430\u043a\u043e\u0432\u043a\u0438 \u043f\u0440\u043e\u0434\u0443\u043a\u0442\u043e\u0432\n",
        "l = 360  # \u0441\u0442\u043e\u0438\u043c\u043e\u0441\u0442\u044c \u0440\u0430\u0431\u043e\u0442\u044b \u0444\u0430\u0431\u0440\u0438\u043a\u0438\n",
        "\n",
        "m_min = [0, 0]  # \u043c\u0438\u043d\u0438\u043c\u0430\u043b\u044c\u043d\u043e\u0435 \u0432\u0440\u0435\u043c\u044f \u0440\u0430\u0431\u043e\u0442\u044b \u043c\u0430\u0448\u0438\u043d\n",
        "m_max = [6, 5]  # \u043c\u0430\u043a\u0441\u0438\u043c\u0430\u043b\u044c\u043d\u043e\u0435 \u0432\u0440\u0435\u043c\u044f \u0440\u0430\u0431\u043e\u0442\u044b \u043c\u0430\u0448\u0438\u043d\n",
        "n_min = 8  # \u043c\u0438\u043d\u0438\u043c\u0430\u043b\u044c\u043d\u043e\u0435 \u0432\u0440\u0435\u043c\u044f \u0440\u0430\u0431\u043e\u0442\u044b \u0444\u0430\u0431\u0440\u0438\u043a\u0438\n",
        "n_max = 10  # \u043c\u0430\u043a\u0441\u0438\u043c\u0430\u043b\u044c\u043d\u043e\u0435 \u0432\u0440\u0435\u043c\u044f \u0440\u0430\u0431\u043e\u0442\u044b \u0444\u0430\u0431\u0440\u0438\u043a\u0438\n",
        "o_min = 0.8  # \u043a\u043e\u044d\u0444\u0444\u0438\u0446\u0438\u0435\u043d\u0442 \u043c\u0438\u043d\u0438\u043c\u0430\u043b\u044c\u043d\u043e \u0434\u043e\u043f\u0443\u0441\u0442\u0438\u043c\u043e\u0439 \u043f\u0440\u0438\u0431\u044b\u043b\u0438"
      ],
      "metadata": {
        "collapsed": false
      }
    },
    {
      "cell_type": "markdown",
      "source": [
        "\u0426\u0435\u043b\u0435\u0432\u044b\u0435 \u0444\u0443\u043d\u043a\u0446\u0438\u0438:"
      ],
      "metadata": {
        "collapsed": false
      }
    },
    {
      "cell_type": "code",
      "execution_count": 320,
      "outputs": [],
      "source": [
        "def z1(d):\n",
        "    result = 0\n",
        "    for i in range(len(d)):\n",
        "        result += a[i] * b[i] * d[i] * (1 - c[i]) / g[i]\n",
        "    return result\n",
        "\n",
        "\n",
        "def y1(d):\n",
        "    return -z1(d)\n",
        "\n",
        "\n",
        "def z2(d):\n",
        "    result = 0\n",
        "    for i in range(len(d)):\n",
        "        result += d[i] * e[i] + b[i] * d[i] * h + b[i] * d[i] * l * (1 - c[i]) / (g[i] * k[i])\n",
        "    return result\n",
        "\n",
        "\n",
        "def y2(d):\n",
        "    return z2(d)"
      ],
      "metadata": {
        "collapsed": false
      }
    },
    {
      "cell_type": "markdown",
      "source": [
        "\u0424\u0443\u043d\u043a\u0446\u0438\u043e\u043d\u0430\u043b\u044c\u043d\u044b\u0435 \u043e\u0433\u0440\u0430\u043d\u0438\u0447\u0435\u043d\u0438\u044f:"
      ],
      "metadata": {
        "collapsed": false
      }
    },
    {
      "cell_type": "code",
      "execution_count": 321,
      "outputs": [],
      "source": [
        "from scipy.optimize import LinearConstraint, Bounds\n",
        "\n",
        "init_bounds = Bounds(m_min, m_max)\n",
        "init_constraints = LinearConstraint(\n",
        "    [[b[0] * (1 - c[0]) / (g[0] * k[0]), b[1] * (1 - c[1]) / (g[1] * k[1])]],\n",
        "    [n_min],\n",
        "    [n_max]\n",
        ")"
      ],
      "metadata": {
        "collapsed": false
      }
    },
    {
      "cell_type": "markdown",
      "source": [
        "\u041a\u043b\u0430\u0441\u0441 \u0434\u043b\u044f \u0445\u0440\u0430\u043d\u0435\u043d\u0438\u044f \u0440\u0435\u0437\u0443\u043b\u044c\u0442\u0430\u0442\u043e\u0432 \u043e\u043f\u0442\u0438\u043c\u0438\u0437\u0430\u0446\u0438\u0438"
      ],
      "metadata": {
        "collapsed": false
      }
    },
    {
      "cell_type": "code",
      "execution_count": 322,
      "outputs": [],
      "source": [
        "class OptimizationResult:\n",
        "\n",
        "    def __init__(self, args, fun):\n",
        "        self.args = args\n",
        "        self.fun = fun\n",
        "\n",
        "    def get_x(self):\n",
        "        return [d * b[i] for i, d in enumerate(self.args)]\n",
        "\n",
        "    def output_result_x(self):\n",
        "        for i, x in enumerate(self.get_x()):\n",
        "            print('x{} = {:.2f}'.format(i + 1, x))"
      ],
      "metadata": {
        "collapsed": false
      }
    },
    {
      "cell_type": "markdown",
      "source": [
        "\u0424\u0443\u043d\u043a\u0446\u0438\u044f \u0434\u043b\u044f \u043c\u0438\u043d\u0438\u043c\u0438\u0437\u0430\u0446\u0438\u0438 \u0438 \u0441\u043e\u0445\u0440\u0430\u043d\u0435\u043d\u0438\u044f \u0440\u0435\u0437\u0443\u043b\u044c\u0442\u0430\u0442\u043e\u0432 \u0432 \u0432\u0438\u0434\u0435 \u044d\u043a\u0437\u0435\u043c\u043f\u043b\u044f\u0440\u0430 \u043a\u043b\u0430\u0441\u0441\u0430 `OptimizationResult`:"
      ],
      "metadata": {
        "collapsed": false
      }
    },
    {
      "cell_type": "code",
      "execution_count": 323,
      "outputs": [],
      "source": [
        "from scipy.optimize import minimize\n",
        "import numpy as np\n",
        "\n",
        "start_args = np.zeros(2)\n",
        "\n",
        "\n",
        "def optimize(fun, start=start_args, constraints=init_constraints, bounds=init_bounds, hess=lambda _: np.zeros((2, 2))):\n",
        "    result = minimize(\n",
        "        fun,\n",
        "        start,\n",
        "        method='trust-constr',\n",
        "        constraints=constraints,\n",
        "        bounds=bounds,\n",
        "        hess=hess\n",
        "    )\n",
        "    return OptimizationResult(result.x, result.fun)"
      ],
      "metadata": {
        "collapsed": false
      }
    },
    {
      "cell_type": "markdown",
      "source": [
        "\u041f\u043e\u0438\u0441\u043a \u043e\u043f\u0442\u0438\u043c\u0443\u043c\u043e\u0432 \u0447\u0430\u0441\u0442\u043d\u044b\u0445 \u043a\u0440\u0438\u0442\u0435\u0440\u0438\u0435\u0432 $y_1$:"
      ],
      "metadata": {
        "collapsed": false
      }
    },
    {
      "cell_type": "code",
      "execution_count": 324,
      "outputs": [
        {
          "name": "stdout",
          "output_type": "stream",
          "text": [
            "x1 = 13333.34\n",
            "x2 = 19999.99\n",
            "y1_min = -1103999.8076384393\n"
          ]
        }
      ],
      "source": [
        "y1_min_result = optimize(y1)\n",
        "y1_min = y1_min_result.fun\n",
        "\n",
        "y1_min_result.output_result_x()\n",
        "print('y1_min = {}'.format(y1_min))"
      ],
      "metadata": {
        "collapsed": false
      }
    },
    {
      "cell_type": "markdown",
      "source": [
        "\u041f\u043e\u0438\u0441\u043a \u043e\u043f\u0442\u0438\u043c\u0443\u043c\u043e\u0432 \u0447\u0430\u0441\u0442\u043d\u044b\u0445 \u043a\u0440\u0438\u0442\u0435\u0440\u0438\u0435\u0432 $y_2$:"
      ],
      "metadata": {
        "collapsed": false
      }
    },
    {
      "cell_type": "code",
      "execution_count": 325,
      "outputs": [
        {
          "name": "stdout",
          "output_type": "stream",
          "text": [
            "x1 = 26666.64\n",
            "x2 = 0.03\n",
            "y2_min = 6016.001600003909\n"
          ]
        }
      ],
      "source": [
        "y2_min_result = optimize(y2)\n",
        "y2_min = y2_min_result.fun\n",
        "\n",
        "y2_min_result.output_result_x()\n",
        "print('y2_min = {}'.format(y2_min))"
      ],
      "metadata": {
        "collapsed": false
      }
    },
    {
      "cell_type": "markdown",
      "source": [
        "\u0422\u0430\u043a\u0438\u043c \u043e\u0431\u0440\u0430\u0437\u043e\u043c \u0431\u044b\u043b\u0438 \u043f\u043e\u043b\u0443\u0447\u0435\u043d\u044b \u043c\u0438\u043d\u0438\u043c\u0430\u043b\u044c\u043d\u044b\u0435 \u0437\u043d\u0430\u0447\u0435\u043d\u0438\u044f:"
      ],
      "metadata": {
        "collapsed": false
      }
    },
    {
      "cell_type": "code",
      "execution_count": 326,
      "outputs": [
        {
          "data": {
            "text/plain": "               x_1      x_2         min\ncriterion                              \ny_1       13333.34 19999.99 -1103999.81\ny_2       26666.64     0.03     6016.00",
            "text/html": "<div>\n<style scoped>\n    .dataframe tbody tr th:only-of-type {\n        vertical-align: middle;\n    }\n\n    .dataframe tbody tr th {\n        vertical-align: top;\n    }\n\n    .dataframe thead th {\n        text-align: right;\n    }\n</style>\n<table border=\"1\" class=\"dataframe\">\n  <thead>\n    <tr style=\"text-align: right;\">\n      <th></th>\n      <th>x_1</th>\n      <th>x_2</th>\n      <th>min</th>\n    </tr>\n    <tr>\n      <th>criterion</th>\n      <th></th>\n      <th></th>\n      <th></th>\n    </tr>\n  </thead>\n  <tbody>\n    <tr>\n      <th>y_1</th>\n      <td>13333.34</td>\n      <td>19999.99</td>\n      <td>-1103999.81</td>\n    </tr>\n    <tr>\n      <th>y_2</th>\n      <td>26666.64</td>\n      <td>0.03</td>\n      <td>6016.00</td>\n    </tr>\n  </tbody>\n</table>\n</div>"
          },
          "execution_count": 326,
          "metadata": {},
          "output_type": "execute_result"
        }
      ],
      "source": [
        "from pandas import options\n",
        "from pandas import DataFrame\n",
        "\n",
        "options.display.float_format = '{:.2f}'.format\n",
        "\n",
        "opt_x = [y1_min_result.get_x(), y2_min_result.get_x()]\n",
        "\n",
        "min_values_table = DataFrame({\n",
        "    'criterion': ['y_1', 'y_2'],\n",
        "    'x_1': [x[0] for x in opt_x],\n",
        "    'x_2': [x[1] for x in opt_x],\n",
        "    'min': [y1_min, y2_min]\n",
        "})\n",
        "min_values_table.set_index('criterion')"
      ],
      "metadata": {
        "collapsed": false
      }
    },
    {
      "cell_type": "markdown",
      "source": [
        "## 2. \u041f\u0435\u0440\u0435\u0445\u043e\u0434 \u043e\u0442 \u043c\u043d\u043e\u0433\u043e\u043a\u0440\u0438\u0442\u0435\u0440\u0438\u0430\u043b\u044c\u043d\u043e\u0439 \u0437\u0430\u0434\u0430\u0447\u0438 \u043a \u043e\u0434\u043d\u043e\u043a\u0440\u0438\u0442\u0435\u0440\u0438\u0430\u043b\u044c\u043d\u043e\u0439"
      ],
      "metadata": {
        "collapsed": false
      }
    },
    {
      "cell_type": "markdown",
      "source": [
        "### 2.1. \u0412\u044b\u0434\u0435\u043b\u0435\u043d\u0438\u0435 \u0433\u043b\u0430\u0432\u043d\u043e\u0433\u043e \u043a\u0440\u0438\u0442\u0435\u0440\u0438\u044f"
      ],
      "metadata": {
        "collapsed": false
      }
    },
    {
      "cell_type": "markdown",
      "source": [
        "\u041c\u0435\u0442\u043e\u0434 \u0432\u044b\u0434\u0435\u043b\u0435\u043d\u0438\u044f \u0433\u043b\u0430\u0432\u043d\u043e\u0433\u043e \u043a\u0440\u0438\u0442\u0435\u0440\u0438\u044f \u043f\u043e\u0434\u0440\u0430\u0437\u0443\u043c\u0435\u0432\u0430\u0435\u0442 \u0432\u044b\u0431\u043e\u0440 \u043e\u0434\u043d\u043e\u0433\u043e \u043a\u0440\u0438\u0442\u0435\u0440\u0438\u044f \u0432 \u043a\u0430\u0447\u0435\u0441\u0442\u0432\u0435 \u0433\u043b\u0430\u0432\u043d\u043e\u0433\u043e, \u0430 \u0432\u0441\u0435 \u043e\u0441\u0442\u0430\u043b\u044c\u043d\u044b\u0435 \u043a\u0440\u0438\u0442\u0435\u0440\u0438\u0438 \u0434\u043e\u043b\u0436\u043d\u044b \u0431\u044b\u0442\u044c \u043f\u0440\u0435\u043e\u0431\u0440\u0430\u0437\u043e\u0432\u0430\u043d\u044b \u0432 \u043e\u0433\u0440\u0430\u043d\u0438\u0447\u0435\u043d\u0438\u044f.\n",
        "\n",
        "\u0422.\u043a. \u043a\u0440\u0438\u0442\u0435\u0440\u0438\u0439 $y_1$ \u0443\u0436\u0435 \u0438\u043c\u0435\u0435\u0442 \u0441\u0432\u043e\u0435 \u043f\u0440\u0435\u043e\u0431\u0440\u0430\u0437\u043e\u0432\u0430\u043d\u0438\u0435 \u0432 \u0432\u0438\u0434\u0435 \u043e\u0433\u0440\u0430\u043d\u0438\u0447\u0435\u043d\u0438\u044f $y_1 \\leq 0.8 y_1^{min}$, \u0442\u043e \u0438\u0437 \u043a\u0430\u043d\u0434\u0438\u0434\u0430\u0442\u043e\u0432 \u043d\u0430 \u0433\u043b\u0430\u0432\u043d\u044b\u0439 \u043a\u0440\u0438\u0442\u0435\u0440\u0438\u0439 \u043e\u0441\u0442\u0430\u0435\u0442\u0441\u044f \u0442\u043e\u043b\u044c\u043a\u043e $y_2$."
      ],
      "metadata": {
        "collapsed": false
      }
    },
    {
      "cell_type": "markdown",
      "source": [
        "\u0418\u0442\u043e\u0433\u043e\u0432\u0430\u044f \u043c\u0430\u0442\u0435\u043c\u0430\u0442\u0438\u0447\u0435\u0441\u043a\u0430\u044f \u043c\u043e\u0434\u0435\u043b\u044c \u0437\u0430\u0434\u0430\u0447\u0438 \u043e\u0434\u043d\u043e\u043a\u0440\u0438\u0442\u0435\u0440\u0438\u0430\u043b\u044c\u043d\u043e\u0439 \u043e\u043f\u0442\u0438\u043c\u0438\u0437\u0430\u0446\u0438\u0438 \u0438\u043c\u0435\u0435\u0442 \u0441\u043b\u0435\u0434\u0443\u044e\u0449\u0438\u0439 \u0432\u0438\u0434:\n",
        "\n",
        "\\begin{gather}\n",
        "    x_i = b_i d_i\\\\\n",
        "    f = y_2 = \\sum_{i=1}^2{d_i e_i + b_i d_i h + \\frac{b_i d_i l}{g_i k_i} * (1 - c_i)} \\rightarrow min\\\\\n",
        "\\end{gather}\n",
        "\n",
        "$$\n",
        "\\begin{bmatrix}\n",
        "    0\\\\\n",
        "    0\\\\\n",
        "    8\\\\\n",
        "    -\\infty\n",
        "\\end{bmatrix}\n",
        "\\leq\n",
        "\\begin{bmatrix}\n",
        "    1 && 0\\\\\n",
        "    0 && 1\\\\\n",
        "    \\frac{b_1}{g_1 k_1} * (1 - c_1) && \\frac{b_2}{g_2 k_2} * (1 - c_2)\\\\\n",
        "    -\\frac{a_1 b_1}{g_1} * (1 - c_1) && -\\frac{a_2 b_2}{g_2} * (1 - c_2)\n",
        "\\end{bmatrix}\n",
        "\\times\n",
        "\\begin{bmatrix}\n",
        "    d_1\\\\\n",
        "    d_2\n",
        "\\end{bmatrix}\n",
        "\\leq\n",
        "\\begin{bmatrix}\n",
        "    6\\\\\n",
        "    5\\\\\n",
        "    10\\\\\n",
        "    0.8 y^{min}_1\n",
        "\\end{bmatrix}\n",
        "$$"
      ],
      "metadata": {
        "collapsed": false
      }
    },
    {
      "cell_type": "markdown",
      "source": [
        "\u0418\u0437\u043c\u0435\u043d\u0435\u043d\u0438\u0435 \u043e\u0433\u0440\u0430\u043d\u0438\u0447\u0435\u043d\u0438\u0439:"
      ],
      "metadata": {
        "collapsed": false
      }
    },
    {
      "cell_type": "code",
      "execution_count": 327,
      "outputs": [],
      "source": [
        "full_constraints = LinearConstraint(\n",
        "    [\n",
        "        [b[0] * (1 - c[0]) / (g[0] * k[0]), b[1] * (1 - c[1]) / (g[1] * k[1])],\n",
        "        [-a[0] * b[0] * (1 - c[0]) / g[0], -a[1] * b[1] * (1 - c[1]) / g[1]]\n",
        "    ],\n",
        "    [n_min, -np.inf],\n",
        "    [n_max, o_min * y1_min]\n",
        ")"
      ],
      "metadata": {
        "collapsed": false
      }
    },
    {
      "cell_type": "markdown",
      "source": [
        "\u041c\u0435\u0442\u043e\u0434 \u0432\u044b\u0432\u043e\u0434\u0430 \u0440\u0435\u0437\u0443\u043b\u044c\u0442\u0430\u0442\u043e\u0432:"
      ],
      "metadata": {
        "collapsed": false
      }
    },
    {
      "cell_type": "code",
      "execution_count": 328,
      "outputs": [],
      "source": [
        "z1_max = z1(y1_min_result.args)\n",
        "z2_min = z2(y2_min_result.args)\n",
        "\n",
        "\n",
        "def output_results(opt_result: OptimizationResult):\n",
        "    result_args = opt_result.get_x()\n",
        "\n",
        "    z1_fun = z1(opt_result.args)\n",
        "    z2_fun = z2(opt_result.args)\n",
        "\n",
        "    z1_max_percentage = z1_fun / z1_max * 100\n",
        "    z2_min_percentage = z2_fun / z2_min * 100\n",
        "\n",
        "    print('x1 = {:.2f} \u043a\u0433'.format(result_args[0]))\n",
        "    print('x2 = {:.2f} \u043a\u0433'.format(result_args[1]))\n",
        "    print('z1 = {:.2f} \u0440\u0443\u0431 ({:.1f}% \u043e\u0442 \u043e\u043f\u0442\u0438\u043c\u0443\u043c\u0430)'.format(z1_fun, z1_max_percentage))\n",
        "    print('z2 = {:.2f} \u0440\u0443\u0431 ({:.1f}% \u043e\u0442 \u043e\u043f\u0442\u0438\u043c\u0443\u043c\u0430)'.format(z2_fun, z2_min_percentage))"
      ],
      "metadata": {
        "collapsed": false
      }
    },
    {
      "cell_type": "markdown",
      "source": [
        "\u0420\u0435\u0448\u0435\u043d\u0438\u0435 \u043e\u0434\u043d\u043e\u043a\u0440\u0438\u0442\u0435\u0440\u0438\u0430\u043b\u044c\u043d\u043e\u0439 \u0437\u0430\u0434\u0430\u0447\u0438:"
      ],
      "metadata": {
        "collapsed": false
      }
    },
    {
      "cell_type": "code",
      "execution_count": 329,
      "outputs": [
        {
          "name": "stdout",
          "output_type": "stream",
          "text": [
            "x1 = 10666.77 \u043a\u0433\n",
            "x2 = 16000.07 \u043a\u0433\n",
            "z1 = 883205.29 \u0440\u0443\u0431 (80.0% \u043e\u0442 \u043e\u043f\u0442\u0438\u043c\u0443\u043c\u0430)\n",
            "z2 = 6438.44 \u0440\u0443\u0431 (107.0% \u043e\u0442 \u043e\u043f\u0442\u0438\u043c\u0443\u043c\u0430)\n"
          ]
        }
      ],
      "source": [
        "f1_opt_result = optimize(y2, constraints=full_constraints)\n",
        "\n",
        "output_results(f1_opt_result)"
      ],
      "metadata": {
        "collapsed": false
      }
    },
    {
      "cell_type": "markdown",
      "source": [
        "\u0422.\u043a. \u0432 \u043a\u0430\u0447\u0435\u0441\u0442\u0432\u0435 \u0433\u043b\u0430\u0432\u043d\u043e\u0433\u043e \u043a\u0440\u0438\u0442\u0435\u0440\u0438\u044f \u0431\u044b\u043b \u0432\u044b\u0431\u0440\u0430\u043d \u043a\u0440\u0438\u0442\u0435\u0440\u0438\u0439 \u043c\u0438\u043d\u0438\u043c\u0438\u0437\u0430\u0446\u0438\u0438 \u0444\u0438\u043d\u0430\u043d\u0441\u043e\u0432\u044b\u0445 \u0437\u0430\u0442\u0440\u0430\u0442 \u043f\u0440\u0435\u0434\u043f\u0440\u0438\u044f\u0442\u0438\u044f, \u0442\u043e \u0432 \u0440\u0435\u0437\u0443\u043b\u044c\u0442\u0430\u0442\u0435 \u0443\u0434\u0430\u043b\u043e\u0441\u044c \u043f\u043e\u043b\u0443\u0447\u0438\u0442\u044c \u043c\u0438\u043d\u0438\u043c\u0430\u043b\u044c\u043d\u043e \u0432\u043e\u0437\u043c\u043e\u0436\u043d\u043e\u0435 \u0437\u043d\u0430\u0447\u0435\u043d\u0438\u0435 \u0437\u0430\u0442\u0440\u0430\u0442. \u0421\u043e\u043e\u0442\u0432\u0435\u0442\u0441\u0442\u0432\u0435\u043d\u043d\u043e \u0442\u0430\u043a\u0436\u0435 \u0431\u044b\u043b\u043e \u043f\u043e\u043b\u0443\u0447\u0435\u043d\u043e \u043c\u0438\u043d\u0438\u043c\u0430\u043b\u044c\u043d\u043e\u0435 \u0437\u043d\u0430\u0447\u0435\u043d\u0438\u0435 \u043f\u0440\u0438\u0431\u044b\u043b\u0438 \u043f\u0440\u0438 \u0434\u0435\u0439\u0441\u0442\u0432\u0443\u044e\u0449\u0438\u0445 \u043e\u0433\u0440\u0430\u043d\u0438\u0447\u0435\u043d\u0438\u044f\u0445.\n",
        "\n",
        "\u041f\u043e \u043a\u043e\u043b\u0438\u0447\u0435\u0441\u0442\u0432\u0443 \u043f\u043e\u0442\u0440\u0435\u0431\u043b\u044f\u0435\u043c\u043e\u0433\u043e \u0441\u044b\u0440\u044c\u044f \u043c\u043e\u0436\u043d\u043e \u0441\u0434\u0435\u043b\u0430\u0442\u044c \u0432\u044b\u0432\u043e\u0434, \u0447\u0442\u043e \u043f\u0440\u043e\u0438\u0437\u0432\u043e\u0434\u0441\u0442\u0432\u043e \u043f\u0440\u043e\u0434\u0443\u043a\u0442\u0430 B \u0431\u043e\u043b\u0435\u0435 \u043f\u0440\u0438\u0431\u044b\u043b\u044c\u043d\u043e, \u0447\u0435\u043c \u043f\u0440\u043e\u0434\u0443\u043a\u0442\u0430 A. \u041f\u0440\u043e\u0434\u0443\u043a\u0442 A \u043f\u0440\u043e\u0438\u0437\u0432\u043e\u0434\u0438\u0442\u0441\u044f \u0441 \u0446\u0435\u043b\u044c\u044e \u0441\u043e\u0431\u043b\u044e\u0434\u0435\u043d\u0438\u044f \u043e\u0433\u0440\u0430\u043d\u0438\u0447\u0435\u043d\u0438\u0439 (\u0432\u0440\u0435\u043c\u044f \u0440\u0430\u0431\u043e\u0442\u044b \u043c\u0430\u0448\u0438\u043d\u044b, \u0443\u043f\u0430\u043a\u043e\u0432\u043e\u0447\u043d\u043e\u0439 \u0444\u0430\u0431\u0440\u0438\u043a\u0438, \u043c\u0430\u043a\u0441\u0438\u043c\u0438\u0437\u0430\u0446\u0438\u044f \u043f\u0440\u0438\u0431\u044b\u043b\u0438)."
      ],
      "metadata": {
        "collapsed": false
      }
    },
    {
      "cell_type": "markdown",
      "source": [
        "### 2.2. \u0421\u0432\u0435\u0440\u0442\u043a\u0430 \u043a\u0440\u0438\u0442\u0435\u0440\u0438\u0435\u0432"
      ],
      "metadata": {
        "collapsed": false
      }
    },
    {
      "cell_type": "markdown",
      "source": [
        "#### 2.2.1 \u0410\u0434\u0434\u0438\u0442\u0438\u0432\u043d\u0430\u044f \u0441\u0432\u0435\u0440\u0442\u043a\u0430 \u043a\u0440\u0438\u0442\u0435\u0440\u0438\u0435\u0432"
      ],
      "metadata": {
        "collapsed": false
      }
    },
    {
      "cell_type": "markdown",
      "source": [
        "\u0414\u043b\u044f \u0438\u0441\u043f\u043e\u043b\u044c\u0437\u043e\u0432\u0430\u043d\u0438\u044f \u043c\u0435\u0442\u043e\u0434\u0430 \u0430\u0434\u0434\u0438\u0442\u0438\u0432\u043d\u043e\u0439 \u0441\u0432\u0435\u0440\u0442\u043a\u0438 \u0442\u0440\u0435\u0431\u0443\u0435\u0442\u0441\u044f \u0432\u044b\u043f\u043e\u043b\u043d\u0438\u0442\u044c \u043d\u043e\u0440\u043c\u0430\u043b\u0438\u0437\u0430\u0446\u0438\u044e \u043a\u0440\u0438\u0442\u0435\u0440\u0438\u0435\u0432:\n",
        "\n",
        "$$\n",
        "\\overline{y_1} = \\frac{y_1}{|y_1^{min}|}\\\\\n",
        "\\overline{y_2} = \\frac{y_2}{|y_2^{min}|}\n",
        "$$"
      ],
      "metadata": {
        "collapsed": false
      }
    },
    {
      "cell_type": "markdown",
      "source": [
        "\u0424\u043e\u0440\u043c\u0443\u043b\u0430 \u0430\u0434\u0434\u0438\u0442\u0438\u0432\u043d\u043e\u0439 \u0441\u0432\u0435\u0440\u0442\u043a\u0438 \u0438\u043c\u0435\u0435\u0442 \u0432\u0438\u0434:\n",
        "\n",
        "$$\n",
        "F(x) = \\sum_{i=1}^r{\\lambda_i f_i(x)}\n",
        "$$\n",
        "\n",
        "\u0433\u0434\u0435 $f_i(x)$ \u2013 \u043a\u0440\u0438\u0442\u0435\u0440\u0438\u0438 \u043e\u043f\u0442\u0438\u043c\u0430\u043b\u044c\u043d\u043e\u0441\u0442\u0438, $r$ \u2013 \u0438\u0445 \u043e\u0431\u0449\u0435\u0435 \u0447\u0438\u0441\u043b\u043e, \u0430 $\\lambda_i$ \u2013 \u043a\u043e\u044d\u0444\u0444\u0438\u0446\u0438\u0435\u043d\u0442 \u043f\u0440\u0438\u043e\u0440\u0438\u0442\u0435\u0442\u0430 \u043a\u0440\u0438\u0442\u0435\u0440\u0438\u044f."
      ],
      "metadata": {
        "collapsed": false
      }
    },
    {
      "cell_type": "markdown",
      "source": [
        "\u0421\u0447\u0438\u0442\u0430\u044f \u043f\u0440\u0438\u043e\u0440\u0438\u0442\u0435\u0442\u044b \u043a\u0440\u0438\u0442\u0435\u0440\u0438\u0435\u0432 \u044d\u043a\u0432\u0438\u0432\u0430\u043b\u0435\u043d\u0442\u043d\u044b\u043c\u0438, \u0437\u0430\u0434\u0430\u0447\u0430 \u043e\u0434\u043d\u043e\u043a\u0440\u0438\u0442\u0435\u0440\u0438\u0430\u043b\u044c\u043d\u043e\u0439 \u043e\u043f\u0442\u0438\u043c\u0438\u0437\u0430\u0446\u0438\u0438 \u0438\u043c\u0435\u0435\u0442 \u0441\u043b\u0435\u0434\u0443\u044e\u0449\u0438\u0439 \u0432\u0438\u0434:\n",
        "\n",
        "\\begin{gather}\n",
        "    f = \\overline{y_1} + \\overline{y_2} \\rightarrow min\\\\\n",
        "\\end{gather}\n",
        "\n",
        "$$\n",
        "\\begin{bmatrix}\n",
        "    0\\\\\n",
        "    0\\\\\n",
        "    8\\\\\n",
        "    -\\infty\n",
        "\\end{bmatrix}\n",
        "\\leq\n",
        "\\begin{bmatrix}\n",
        "    1 && 0\\\\\n",
        "    0 && 1\\\\\n",
        "    \\frac{b_1}{g_1 k_1} * (1 - c_1) && \\frac{b_2}{g_2 k_2} * (1 - c_2)\\\\\n",
        "    -\\frac{a_1 b_1}{g_1} * (1 - c_1) && -\\frac{a_2 b_2}{g_2} * (1 - c_2)\n",
        "\\end{bmatrix}\n",
        "\\times\n",
        "\\begin{bmatrix}\n",
        "    d_1\\\\\n",
        "    d_2\n",
        "\\end{bmatrix}\n",
        "\\leq\n",
        "\\begin{bmatrix}\n",
        "    6\\\\\n",
        "    5\\\\\n",
        "    10\\\\\n",
        "    0.8 y^{min}_1\n",
        "\\end{bmatrix}\n",
        "\\\\\n",
        "$$"
      ],
      "metadata": {
        "collapsed": false
      }
    },
    {
      "cell_type": "markdown",
      "source": [
        "\u041d\u043e\u0440\u043c\u0430\u043b\u0438\u0437\u043e\u0432\u0430\u043d\u043d\u044b\u0435 \u0444\u0443\u043d\u043a\u0446\u0438\u0438:"
      ],
      "metadata": {
        "collapsed": false
      }
    },
    {
      "cell_type": "code",
      "execution_count": 330,
      "outputs": [],
      "source": [
        "def y1_norm(d):\n",
        "    return y1(d) / y1_min\n",
        "\n",
        "\n",
        "def y2_norm(d):\n",
        "    return y2(d) / y2_min"
      ],
      "metadata": {
        "collapsed": false
      }
    },
    {
      "cell_type": "markdown",
      "source": [
        "\u0424\u0443\u043d\u043a\u0446\u0438\u044f \u0430\u0434\u0434\u0438\u0442\u0438\u0432\u043d\u043e\u0439 \u0441\u0432\u0435\u0440\u0442\u043a\u0438:"
      ],
      "metadata": {
        "collapsed": false
      }
    },
    {
      "cell_type": "code",
      "execution_count": 331,
      "outputs": [],
      "source": [
        "def f_add_conv(d):\n",
        "    return y1_norm(d) + y2_norm(d)"
      ],
      "metadata": {
        "collapsed": false
      }
    },
    {
      "cell_type": "markdown",
      "source": [
        "\u0420\u0435\u0448\u0435\u043d\u0438\u0435 \u0437\u0430\u0434\u0430\u0447\u0438:"
      ],
      "metadata": {
        "collapsed": false
      }
    },
    {
      "cell_type": "code",
      "execution_count": 332,
      "outputs": [
        {
          "name": "stdout",
          "output_type": "stream",
          "text": [
            "x1 = 10666.25 \u043a\u0433\n",
            "x2 = 16000.55 \u043a\u0433\n",
            "z1 = 883207.90 \u0440\u0443\u0431 (80.0% \u043e\u0442 \u043e\u043f\u0442\u0438\u043c\u0443\u043c\u0430)\n",
            "z2 = 6438.45 \u0440\u0443\u0431 (107.0% \u043e\u0442 \u043e\u043f\u0442\u0438\u043c\u0443\u043c\u0430)\n"
          ]
        }
      ],
      "source": [
        "f2_opt_result = optimize(f_add_conv, constraints=full_constraints)\n",
        "\n",
        "output_results(f2_opt_result)"
      ],
      "metadata": {
        "collapsed": false
      }
    },
    {
      "cell_type": "markdown",
      "source": [
        "\u0420\u0435\u0437\u0443\u043b\u044c\u0442\u0430\u0442 \u043e\u043a\u0430\u0437\u0430\u043b\u0441\u044f \u0438\u0434\u0435\u043d\u0442\u0438\u0447\u0435\u043d \u0442\u043e\u043c\u0443, \u0447\u0442\u043e \u0431\u044b\u043b \u043f\u043e\u043b\u0443\u0447\u0435\u043d \u043c\u0435\u0442\u043e\u0434\u043e\u043c \u0432\u044b\u0432\u043e\u0434\u0430 \u0433\u043b\u0430\u0432\u043d\u043e\u0433\u043e \u043a\u0440\u0438\u0442\u0435\u0440\u0438\u044f."
      ],
      "metadata": {
        "collapsed": false
      }
    },
    {
      "cell_type": "markdown",
      "source": [
        "#### 2.2.2. \u041c\u0443\u043b\u044c\u0442\u0438\u043f\u043b\u0438\u043a\u0430\u0442\u0438\u0432\u043d\u0430\u044f \u0441\u0432\u0435\u0440\u0442\u043a\u0430 \u043a\u0440\u0438\u0442\u0435\u0440\u0438\u0435\u0432"
      ],
      "metadata": {
        "collapsed": false
      }
    },
    {
      "cell_type": "markdown",
      "source": [
        "\u041a\u0440\u0438\u0442\u0435\u0440\u0438\u0439 \u043c\u0443\u043b\u044c\u0442\u0438\u043f\u043b\u0438\u043a\u0430\u0442\u0438\u0432\u043d\u043e\u0439 \u0441\u0432\u0435\u0440\u0442\u043a\u0438 \u0440\u0430\u0431\u043e\u0442\u0430\u0435\u0442 \u0442\u043e\u043b\u044c\u043a\u043e \u0434\u043b\u044f \u043a\u0440\u0438\u0442\u0435\u0440\u0438\u0435\u0432 \u0441 \u043c\u0430\u043a\u0441\u0438\u043c\u0438\u0437\u0430\u0446\u0438\u0435\u0439, \u043f\u043e\u044d\u0442\u043e\u043c\u0443 \u0442\u0440\u0435\u0431\u0443\u0435\u0442\u0441\u044f \u043f\u0440\u0438\u0432\u0435\u0441\u0442\u0438 \u0438\u0445 \u0432 \u0441\u043e\u043e\u0442\u0432\u0435\u0442\u0441\u0442\u0432\u0443\u044e\u0449\u0438\u0439 \u0432\u0438\u0434:\n",
        "\n",
        "$$\n",
        "\\tilde{y_1} = -y_1\\\\\n",
        "\\tilde{y_2} = -y_2\n",
        "$$"
      ],
      "metadata": {
        "collapsed": false
      }
    },
    {
      "cell_type": "markdown",
      "source": [
        "\u0424\u043e\u0440\u043c\u0443\u043b\u0430 \u043c\u0443\u043b\u044c\u0442\u0438\u043f\u043b\u0438\u043a\u0430\u0442\u0438\u0432\u043d\u043e\u0439 \u0441\u0432\u0435\u0440\u0442\u043a\u0438 \u0438\u043c\u0435\u0435\u0442 \u0441\u043b\u0435\u0434\u0443\u044e\u0449\u0438\u0439 \u0432\u0438\u0434:\n",
        "\n",
        "$$\n",
        "F(x) = \\prod_{i=1}^{r}{f_i(x)^{\\lambda_i}}\n",
        "$$\n",
        "\n",
        "\u0433\u0434\u0435 $f_i(x)$ \u2013 \u043a\u0440\u0438\u0442\u0435\u0440\u0438\u0438 \u043e\u043f\u0442\u0438\u043c\u0430\u043b\u044c\u043d\u043e\u0441\u0442\u0438, $\\lambda_i$ \u2013 \u043a\u043e\u044d\u0444\u0444\u0438\u0446\u0438\u0435\u043d\u0442 \u043f\u0440\u0438\u043e\u0440\u0438\u0442\u0435\u0442\u0430 \u043a\u0440\u0438\u0442\u0435\u0440\u0438\u044f."
      ],
      "metadata": {
        "collapsed": false
      }
    },
    {
      "cell_type": "markdown",
      "source": [
        "\u0421\u0447\u0438\u0442\u0430\u044f \u043f\u0440\u0438\u043e\u0440\u0438\u0442\u0435\u0442\u044b \u043a\u0440\u0438\u0442\u0435\u0440\u0438\u0435\u0432 \u044d\u043a\u0432\u0438\u0432\u0430\u043b\u0435\u043d\u0442\u043d\u044b\u043c\u0438, \u0437\u0430\u0434\u0430\u0447\u0430 \u043e\u0434\u043d\u043e\u043a\u0440\u0438\u0442\u0435\u0440\u0438\u0430\u043b\u044c\u043d\u043e\u0439 \u043e\u043f\u0442\u0438\u043c\u0438\u0437\u0430\u0446\u0438\u0438 \u0438\u043c\u0435\u0435\u0442 \u0441\u043b\u0435\u0434\u0443\u044e\u0449\u0438\u0439 \u0432\u0438\u0434:\n",
        "\n",
        "\\begin{gather}\n",
        "    f = y_1 * y_2 \\rightarrow min\\\\\n",
        "\\end{gather}\n",
        "\n",
        "$$\n",
        "\\begin{bmatrix}\n",
        "    0\\\\\n",
        "    0\\\\\n",
        "    8\\\\\n",
        "    -\\infty\n",
        "\\end{bmatrix}\n",
        "\\leq\n",
        "\\begin{bmatrix}\n",
        "    1 && 0\\\\\n",
        "    0 && 1\\\\\n",
        "    \\frac{b_1}{g_1 k_1} * (1 - c_1) && \\frac{b_2}{g_2 k_2} * (1 - c_2)\\\\\n",
        "    -\\frac{a_1 b_1}{g_1} * (1 - c_1) && -\\frac{a_2 b_2}{g_2} * (1 - c_2)\n",
        "\\end{bmatrix}\n",
        "\\times\n",
        "\\begin{bmatrix}\n",
        "    d_1\\\\\n",
        "    d_2\n",
        "\\end{bmatrix}\n",
        "\\leq\n",
        "\\begin{bmatrix}\n",
        "    6\\\\\n",
        "    5\\\\\n",
        "    10\\\\\n",
        "    0.8 y^{min}_1\n",
        "\\end{bmatrix}\n",
        "$$"
      ],
      "metadata": {
        "collapsed": false
      }
    },
    {
      "cell_type": "markdown",
      "source": [
        "\u0424\u0443\u043d\u043a\u0446\u0438\u0438 \u043c\u0430\u043a\u0441\u0438\u043c\u0438\u0437\u0430\u0446\u0438\u0438:"
      ],
      "metadata": {
        "collapsed": false
      }
    },
    {
      "cell_type": "code",
      "execution_count": 333,
      "outputs": [],
      "source": [
        "def y1_max(d):\n",
        "    return -y1(d)\n",
        "\n",
        "\n",
        "def y2_max(d):\n",
        "    return -y2(d)"
      ],
      "metadata": {
        "collapsed": false
      }
    },
    {
      "cell_type": "markdown",
      "source": [
        "\u0424\u0443\u043d\u043a\u0446\u0438\u044f \u0430\u0434\u0434\u0438\u0442\u0438\u0432\u043d\u043e\u0439 \u0441\u0432\u0435\u0440\u0442\u043a\u0438:"
      ],
      "metadata": {
        "collapsed": false
      }
    },
    {
      "cell_type": "code",
      "execution_count": 334,
      "outputs": [],
      "source": [
        "def f_mult_conv(d):\n",
        "    return y1_max(d) * y2_max(d)"
      ],
      "metadata": {
        "collapsed": false
      }
    },
    {
      "cell_type": "markdown",
      "source": [
        "\u0420\u0435\u0448\u0435\u043d\u0438\u0435 \u0437\u0430\u0434\u0430\u0447\u0438:"
      ],
      "metadata": {
        "collapsed": false
      }
    },
    {
      "cell_type": "code",
      "execution_count": 335,
      "outputs": [
        {
          "name": "stdout",
          "output_type": "stream",
          "text": [
            "x1 = 13333.33 \u043a\u0433\n",
            "x2 = 20000.00 \u043a\u0433\n",
            "z1 = 1104000.00 \u0440\u0443\u0431 (100.0% \u043e\u0442 \u043e\u043f\u0442\u0438\u043c\u0443\u043c\u0430)\n",
            "z2 = 8048.00 \u0440\u0443\u0431 (133.8% \u043e\u0442 \u043e\u043f\u0442\u0438\u043c\u0443\u043c\u0430)\n"
          ]
        }
      ],
      "source": [
        "f3_opt_result = optimize(f_mult_conv, constraints=full_constraints)\n",
        "\n",
        "output_results(f3_opt_result)"
      ],
      "metadata": {
        "collapsed": false
      }
    },
    {
      "cell_type": "markdown",
      "source": [
        "\u041c\u0435\u0442\u043e\u0434\u043e\u043c \u043c\u0443\u043b\u044c\u0442\u0438\u043f\u043b\u0438\u043a\u0430\u0442\u0438\u0432\u043d\u043e\u0439 \u0441\u0432\u0435\u0440\u0442\u043a\u0438 \u0431\u044b\u043b\u0430 \u0434\u043e\u0441\u0442\u0438\u0433\u043d\u0443\u0442\u0430 \u043c\u0430\u043a\u0441\u0438\u043c\u0430\u043b\u044c\u043d\u043e \u0432\u043e\u0437\u043c\u043e\u0436\u043d\u0430\u044f \u043f\u0440\u0438\u0431\u044b\u043b\u044c. \u041e\u0434\u043d\u0430\u043a\u043e \u0437\u0430\u0442\u0440\u0430\u0442\u044b \u0441\u043e\u043e\u0442\u0432\u0435\u0442\u0441\u0442\u0432\u0435\u043d\u043d\u043e \u0432\u044b\u0440\u043e\u0441\u043b\u0438 \u043d\u0430 33% \u043e\u0442 \u0432\u043e\u0437\u043c\u043e\u0436\u043d\u043e\u0433\u043e \u043c\u0438\u043d\u0438\u043c\u0443\u043c\u0430."
      ],
      "metadata": {
        "collapsed": false
      }
    },
    {
      "cell_type": "markdown",
      "source": [
        "#### 2.3. \u041c\u0438\u043d\u0438\u043c\u0430\u043a\u0441 (\u043c\u0430\u043a\u0441\u0438\u043c\u0438\u043d)"
      ],
      "metadata": {
        "collapsed": false
      }
    },
    {
      "cell_type": "markdown",
      "source": [
        "\u041f\u0440\u0438 \u0438\u0441\u043f\u043e\u043b\u044c\u0437\u043e\u0432\u0430\u043d\u0438\u0438 \u043c\u0435\u0442\u043e\u0434\u0430 \u043c\u0430\u043a\u0441\u0438\u043c\u0438\u043d\u043d\u043e\u0439 \u0441\u0432\u0435\u0440\u0442\u043a\u0438, \u0438\u043d\u0442\u0435\u0433\u0440\u0430\u043b\u044c\u043d\u044b\u0439 \u043a\u0440\u0438\u0442\u0435\u0440\u0438\u0439 \u043c\u043e\u0436\u043d\u043e \u043f\u0440\u0435\u0434\u0441\u0442\u0430\u0432\u0438\u0442\u044c \u0432 \u0441\u043b\u0435\u0434\u0443\u044e\u0449\u0435\u043c \u0432\u0438\u0434\u0435:\n",
        "\n",
        "$$\n",
        "F(x) = \\min_i{\\frac{f_i(x)}{f_i^*}} \\rightarrow max\n",
        "$$\n",
        "\n",
        "\u0433\u0434\u0435 $f_i^*$ \u2013 \u0437\u043d\u0430\u0447\u0435\u043d\u0438\u044f \u043a\u0440\u0438\u0442\u0435\u0440\u0438\u0435\u0432, \u0437\u0430\u0434\u0430\u044e\u0449\u0438\u0435 \u043e\u0433\u0440\u0430\u043d\u0438\u0447\u0435\u043d\u0438\u044f \u0432\u0438\u0434\u0430 $f_i(x) \\geq f_i^*$. \u0422\u0430\u043a\u0438\u043c \u043e\u0431\u0440\u0430\u0437\u043e\u043c \u0434\u043e\u0441\u0442\u0438\u0433\u0430\u0435\u0442\u0441\u044f \u0440\u0435\u0448\u0435\u043d\u0438\u0435, \u0434\u043e\u0441\u0442\u0430\u0432\u043b\u044f\u044e\u0449\u0435\u0435 \u043e\u043f\u0442\u0438\u043c\u0443\u043c \u0445\u0443\u0434\u0448\u0435\u043c\u0443 \u043a\u0440\u0438\u0442\u0435\u0440\u0438\u044e."
      ],
      "metadata": {
        "collapsed": false
      }
    },
    {
      "cell_type": "markdown",
      "source": [
        "\u0421 \u0443\u0447\u0435\u0442\u043e\u043c \u043e\u0433\u0440\u0430\u043d\u0438\u0447\u0435\u043d\u0438\u044f \u043d\u0430 \u0434\u043e\u043f\u0443\u0441\u0442\u0438\u043c\u043e\u0435 \u0437\u043d\u0430\u0447\u0435\u043d\u0438\u0435 \u043a\u0440\u0438\u0442\u0435\u0440\u0438\u044f $y_1$, \u043f\u043e\u043b\u0443\u0447\u0430\u044e\u0442\u0441\u044f \u0441\u043b\u0435\u0434\u0443\u044e\u0449\u0438\u0435 \u043a\u0440\u0438\u0442\u0435\u0440\u0438\u0438:\n",
        "\n",
        "$$\n",
        "f_1^* = 0.8 y_1^{min}\\\\\n",
        "f_2^* = y_2^{min}\n",
        "$$"
      ],
      "metadata": {
        "collapsed": false
      }
    },
    {
      "cell_type": "markdown",
      "source": [
        "\u0418\u0442\u043e\u0433\u043e\u0432\u0430\u044f \u0437\u0430\u0434\u0430\u0447\u0430 \u0438\u043c\u0435\u0435\u0442 \u0441\u043b\u0435\u0434\u0443\u044e\u0449\u0438\u0439 \u0432\u0438\u0434:\n",
        "\n",
        "\\begin{gather}\n",
        "    f = \\max_i{\\biggl\\{-\\frac{y_1}{0.8 y_1^{min}}, -\\frac{y_2}{y_2^{min}}\\biggl\\}} \\rightarrow min\\\\\n",
        "\\end{gather}\n",
        "\n",
        "$$\n",
        "\\begin{bmatrix}\n",
        "    0\\\\\n",
        "    0\\\\\n",
        "    8\n",
        "\\end{bmatrix}\n",
        "\\leq\n",
        "\\begin{bmatrix}\n",
        "    1 && 0\\\\\n",
        "    0 && 1\\\\\n",
        "    \\frac{b_1}{g_1 k_1} * (1 - c_1) && \\frac{b_2}{g_2 k_2} * (1 - c_2)\n",
        "\\end{bmatrix}\n",
        "\\times\n",
        "\\begin{bmatrix}\n",
        "    d_1\\\\\n",
        "    d_2\n",
        "\\end{bmatrix}\n",
        "\\leq\n",
        "\\begin{bmatrix}\n",
        "    6\\\\\n",
        "    5\\\\\n",
        "    10\n",
        "\\end{bmatrix}\n",
        "$$"
      ],
      "metadata": {
        "collapsed": false
      }
    },
    {
      "cell_type": "markdown",
      "source": [
        "\u0424\u0443\u043d\u043a\u0446\u0438\u044f \u043c\u0438\u043d\u0438\u043c\u0430\u043a\u0441\u0430:"
      ],
      "metadata": {
        "collapsed": false
      }
    },
    {
      "cell_type": "code",
      "execution_count": 336,
      "outputs": [],
      "source": [
        "def f_minimax(d):\n",
        "    return max([-y1(d) / (o_min * y1_min), -y2(d) / y2_min])"
      ],
      "metadata": {
        "collapsed": false
      }
    },
    {
      "cell_type": "markdown",
      "source": [
        "\u0420\u0435\u0448\u0435\u043d\u0438\u0435 \u0437\u0430\u0434\u0430\u0447\u0438:"
      ],
      "metadata": {
        "collapsed": false
      }
    },
    {
      "cell_type": "code",
      "execution_count": 337,
      "outputs": [
        {
          "name": "stdout",
          "output_type": "stream",
          "text": [
            "x1 = 13334.75 \u043a\u0433\n",
            "x2 = 19997.24 \u043a\u0433\n",
            "z1 = 1103941.71 \u0440\u0443\u0431 (100.0% \u043e\u0442 \u043e\u043f\u0442\u0438\u043c\u0443\u043c\u0430)\n",
            "z2 = 8047.63 \u0440\u0443\u0431 (133.8% \u043e\u0442 \u043e\u043f\u0442\u0438\u043c\u0443\u043c\u0430)\n"
          ]
        }
      ],
      "source": [
        "f4_opt_result = optimize(f_minimax, constraints=init_constraints)\n",
        "\n",
        "output_results(f4_opt_result)"
      ],
      "metadata": {
        "collapsed": false
      }
    },
    {
      "cell_type": "markdown",
      "source": [
        "\u0420\u0435\u0437\u0443\u043b\u044c\u0442\u0430\u0442 \u043f\u043e\u043b\u0443\u0447\u0438\u043b\u0441\u044f \u043f\u043e\u0447\u0442\u0438 \u0438\u0434\u0435\u043d\u0442\u0438\u0447\u043d\u044b\u043c \u0440\u0435\u0437\u0443\u043b\u044c\u0442\u0430\u0442\u0443, \u043f\u043e\u043b\u0443\u0447\u0435\u043d\u043d\u044b\u043c \u043f\u0440\u0438 \u0438\u0441\u043f\u043e\u043b\u044c\u0437\u043e\u0432\u0430\u043d\u0438\u0438 \u043c\u0443\u043b\u044c\u0442\u0438\u043f\u043b\u0438\u043a\u0430\u0442\u0438\u0432\u043d\u043e\u0439 \u0441\u0432\u0435\u0440\u0442\u043a\u0438."
      ],
      "metadata": {
        "collapsed": false
      }
    },
    {
      "cell_type": "markdown",
      "source": [
        "#### 2.4. \u041c\u0435\u0442\u043e\u0434 \u043f\u043e\u0441\u043b\u0435\u0434\u043e\u0432\u0430\u0442\u0435\u043b\u044c\u043d\u044b\u0445 \u0443\u0441\u0442\u0443\u043f\u043e\u043a"
      ],
      "metadata": {
        "collapsed": false
      }
    },
    {
      "cell_type": "markdown",
      "source": [
        "\u041c\u0435\u0442\u043e\u0434 \u043f\u043e\u0441\u043b\u0435\u0434\u043e\u0432\u0430\u0442\u0435\u043b\u044c\u043d\u044b\u0445 \u0443\u0441\u0442\u0443\u043f\u043e\u043a \u043f\u043e\u0434\u0440\u0430\u0437\u0443\u043c\u0435\u0432\u0430\u0435\u0442, \u0447\u0442\u043e \u0441\u043e\u0433\u043b\u0430\u0441\u043d\u043e \u043f\u0440\u0438\u043e\u0440\u0438\u0442\u0435\u0442\u0443 \u043f\u043e\u0441\u043b\u0435\u0434\u043e\u0432\u0430\u0442\u0435\u043b\u044c\u043d\u043e \u043e\u0441\u0443\u0449\u0435\u0441\u0442\u0432\u043b\u044f\u0435\u0442\u0441\u044f \u043c\u0438\u043d\u0438\u043c\u0438\u0437\u0430\u0446\u0438\u044f \u043a\u0430\u0436\u0434\u043e\u0433\u043e \u043a\u0440\u0438\u0442\u0435\u0440\u0438\u044f, \u0432 \u0440\u0435\u0437\u0443\u043b\u044c\u0442\u0430\u0442\u0435 \u043a\u043e\u0442\u043e\u0440\u043e\u0439 \u0443\u0441\u0442\u0430\u043d\u0430\u0432\u043b\u0438\u0432\u0430\u0435\u0442\u0441\u044f \u0441\u0443\u0431\u044a\u0435\u043a\u0442\u0438\u0432\u043d\u043e\u0435 \u0437\u043d\u0430\u0447\u0435\u043d\u0438\u0435 \u0434\u043e\u043f\u0443\u0441\u0442\u0438\u043c\u043e\u0433\u043e \u0443\u0445\u0443\u0434\u0448\u0435\u043d\u0438\u044f \u044d\u0442\u043e\u0433\u043e \u043a\u0440\u0438\u0442\u0435\u0440\u0438\u044f (\u0443\u0441\u0442\u0443\u043f\u043a\u0438, $\\Delta$). \u041f\u0440\u0438 \u044d\u0442\u043e\u043c \u0432\u0441\u0435 \u043f\u043e\u0441\u043b\u0435\u0434\u0443\u044e\u0449\u0438\u0435 \u043a\u0440\u0438\u0442\u0435\u0440\u0438\u0438 \u0434\u043e\u043b\u0436\u043d\u044b \u043c\u0438\u043d\u0438\u043c\u0438\u0437\u0438\u0440\u043e\u0432\u0430\u0442\u044c\u0441\u044f \u0441 \u0443\u0447\u0435\u0442\u043e\u043c \u0442\u043e\u0433\u043e, \u0447\u0442\u043e \u0437\u043d\u0430\u0447\u0435\u043d\u0438\u044f \u043f\u0440\u0435\u0434\u044b\u0434\u0443\u0449\u0438\u0445 \u043f\u043e \u043f\u0440\u0438\u043e\u0440\u0438\u0442\u0435\u0442\u0443 \u043a\u0440\u0438\u0442\u0435\u0440\u0438\u0435\u0432 \u0434\u043e\u043b\u0436\u043d\u044b \u0431\u044b\u0442\u044c \u043d\u0435 \u0445\u0443\u0436\u0435, \u0447\u0435\u043c \u044d\u0442\u043e \u043f\u043e\u0437\u0432\u043e\u043b\u044f\u044e\u0442 \u0443\u0441\u0442\u0443\u043f\u043a\u0438 ($f \\geq f^{max} + \\Delta$).\n",
        "\n",
        "\u0422.\u043a. \u0434\u043b\u044f $y_1$ \u043f\u043e \u0443\u0441\u043b\u043e\u0432\u0438\u044f\u043c \u0443\u0436\u0435 \u0443\u0441\u0442\u0430\u043d\u043e\u0432\u043b\u0435\u043d\u044b \u0434\u043e\u043f\u0443\u0441\u0442\u0438\u043c\u044b\u0435 \u0443\u0441\u0442\u0443\u043f\u043a\u0438, \u0442\u043e \u0434\u0430\u043d\u043d\u044b\u0439 \u043a\u0440\u0438\u0442\u0435\u0440\u0438\u0439 \u0438\u043c\u0435\u0435\u0442 \u0432\u044b\u0441\u0448\u0438\u0439 \u043f\u0440\u0438\u043e\u0440\u0438\u0442\u0435\u0442. \u0423\u0441\u0442\u0443\u043f\u043a\u0438 \u0434\u043b\u044f $y_1$ \u0440\u0430\u0441\u0441\u0447\u0438\u0442\u044b\u0432\u0430\u044e\u0442\u0441\u044f \u0441\u043b\u0435\u0434\u0443\u044e\u0449\u0438\u043c \u043e\u0431\u0440\u0430\u0437\u043e\u043c:\n",
        "\n",
        "$$\n",
        "\\Delta_1 = -0.2 y_1^{min}\n",
        "$$\n",
        "\n",
        "\u0417\u043d\u0430\u0447\u0435\u043d\u0438\u0435 $y_1^{min}$ \u0443\u0436\u0435 \u0431\u044b\u043b\u043e \u043d\u0430\u0439\u0434\u0435\u043d\u043e \u043f\u0440\u0438 \u043f\u043e\u0438\u0441\u043a\u0435 \u043e\u043f\u0442\u0438\u043c\u0443\u043c\u043e\u0432 \u0447\u0430\u0441\u0442\u043d\u044b\u0445 \u043a\u0440\u0438\u0442\u0435\u0440\u0438\u0435\u0432 (\u0441\u043c. \u043f. 1.1).\n",
        "\n",
        "\u0414\u043b\u044f \u043c\u0438\u043d\u0438\u043c\u0438\u0437\u0430\u0446\u0438\u0438 $y_2$ \u0441 \u0443\u0447\u0435\u0442\u043e\u043c \u043f\u0440\u0435\u0434\u044b\u0434\u0443\u0449\u0438\u0445 \u0443\u0441\u0442\u0443\u043f\u043e\u043a \u043f\u043e\u043b\u0443\u0447\u0430\u0435\u0442\u0441\u044f \u0437\u0430\u0434\u0430\u0447\u0430 \u043e\u0434\u043d\u043e\u043a\u0440\u0438\u0442\u0435\u0440\u0438\u0430\u043b\u044c\u043d\u043e\u0439 \u043c\u0438\u043d\u0438\u043c\u0438\u0437\u0430\u0446\u0438\u0438 \u0441\u043b\u0435\u0434\u0443\u044e\u0449\u0435\u0433\u043e \u0432\u0438\u0434\u0430:\n",
        "\n",
        "\\begin{gather}\n",
        "    x_i = b_i d_i\\\\\n",
        "    f = y_2 = \\sum_{i=1}^2{d_i e_i + b_i d_i h + \\frac{b_i d_i l}{g_i k_i} * (1 - c_i)} \\rightarrow min\n",
        "\\end{gather}\n",
        "\n",
        "$$\n",
        "\\begin{bmatrix}\n",
        "    0\\\\\n",
        "    0\\\\\n",
        "    8\n",
        "\\end{bmatrix}\n",
        "\\leq\n",
        "\\begin{bmatrix}\n",
        "    1 && 0\\\\\n",
        "    0 && 1\\\\\n",
        "    \\frac{b_1}{g_1 k_1} * (1 - c_1) && \\frac{b_2}{g_2 k_2} * (1 - c_2)\n",
        "\\end{bmatrix}\n",
        "\\times\n",
        "\\begin{bmatrix}\n",
        "    d_1\\\\\n",
        "    d_2\n",
        "\\end{bmatrix}\n",
        "\\leq\n",
        "\\begin{bmatrix}\n",
        "    6\\\\\n",
        "    5\\\\\n",
        "    10\n",
        "\\end{bmatrix}\n",
        "\\\\\n",
        "y_1 \\leq y_1^{min} + \\Delta_1 = 0.8 y_1^{min}\\\\\n",
        "$$\n",
        "\n",
        "\u0414\u0430\u043d\u043d\u0430\u044f \u043f\u043e\u0441\u0442\u0430\u043d\u043e\u0432\u043a\u0430 \u0437\u0430\u0434\u0430\u0447\u0438 \u044f\u0432\u043b\u044f\u0435\u0442\u0441\u044f \u044d\u043a\u0432\u0438\u0432\u0430\u043b\u0435\u043d\u0442\u043d\u043e\u0439 \u043f\u043e\u0441\u0442\u0430\u043d\u043e\u0432\u043a\u0435 \u0437\u0430\u0434\u0430\u0447\u0435 \u0434\u043b\u044f \u043f\u043e\u0438\u0441\u043a\u0430 \u043e\u043f\u0442\u0438\u043c\u0443\u043c\u0430 \u043c\u0435\u0442\u043e\u0434\u043e\u043c \u0432\u044b\u0431\u043e\u0440\u0430 \u0433\u043b\u0430\u0432\u043d\u043e\u0433\u043e \u043a\u0440\u0438\u0442\u0435\u0440\u0438\u044f (\u0441\u043c. \u043f. 2.1), \u0430 \u0437\u043d\u0430\u0447\u0438\u0442 \u0440\u0435\u0437\u0443\u043b\u044c\u0442\u0430\u0442 \u0440\u0435\u0448\u0435\u043d\u0438\u044f \u044d\u0442\u043e\u0439 \u0437\u0430\u0434\u0430\u0447\u0438 \u0431\u0443\u0434\u0435\u0442 \u0442\u043e\u0447\u043d\u043e \u0442\u0430\u043a\u0438\u043c \u0436\u0435."
      ],
      "metadata": {
        "collapsed": false
      }
    },
    {
      "cell_type": "code",
      "execution_count": 338,
      "outputs": [
        {
          "name": "stdout",
          "output_type": "stream",
          "text": [
            "x1 = 10666.77 \u043a\u0433\n",
            "x2 = 16000.07 \u043a\u0433\n",
            "z1 = 883205.29 \u0440\u0443\u0431 (80.0% \u043e\u0442 \u043e\u043f\u0442\u0438\u043c\u0443\u043c\u0430)\n",
            "z2 = 6438.44 \u0440\u0443\u0431 (107.0% \u043e\u0442 \u043e\u043f\u0442\u0438\u043c\u0443\u043c\u0430)\n"
          ]
        }
      ],
      "source": [
        "f5_opt_result = f1_opt_result\n",
        "\n",
        "output_results(f5_opt_result)"
      ],
      "metadata": {
        "collapsed": false
      }
    },
    {
      "cell_type": "markdown",
      "source": [
        "#### 2.5. \u041c\u0435\u0442\u043e\u0434 \u0434\u043e\u0441\u0442\u0438\u0436\u0435\u043d\u0438\u044f \u0446\u0435\u043b\u0438 (fgoalattain)"
      ],
      "metadata": {
        "collapsed": false
      }
    },
    {
      "cell_type": "markdown",
      "source": [
        "\u041f\u0440\u043e\u0431\u043b\u0435\u043c\u0443 \u043c\u043d\u043e\u0433\u043e\u0446\u0435\u043b\u0435\u0432\u043e\u0439 \u043e\u043f\u0442\u0438\u043c\u0438\u0437\u0430\u0446\u0438\u0438 \u043f\u0440\u0438 \u043f\u043e\u043c\u043e\u0449\u0438 \u043c\u0435\u0442\u043e\u0434\u0430 \u0434\u043e\u0441\u0442\u0438\u0436\u0435\u043d\u0438\u044f \u0446\u0435\u043b\u0438, \u043a\u043e\u0442\u043e\u0440\u044b\u0439 \u043c\u043e\u0436\u0435\u0442 \u0431\u044b\u0442\u044c \u0441\u0444\u043e\u0440\u043c\u0443\u043b\u0438\u0440\u043e\u0432\u0430\u043d\u0430 \u0441\u043b\u0435\u0434\u0443\u044e\u0449\u0438\u043c \u043e\u0431\u0440\u0430\u0437\u043e\u043c:\n",
        "\n",
        "$$\n",
        "\\min_{x, \\gamma} \\gamma, \\quad\n",
        "\\begin{equation}\n",
        "    \\begin{cases}\n",
        "        F(x) - \\omega \\gamma \\leq goal\\\\\n",
        "        G(x) \\leq b\n",
        "    \\end{cases}\n",
        "\\end{equation}\n",
        "$$\n",
        "\n",
        "\u0433\u0434\u0435 $F(x) = (f_1(x), f_2(x), \\dots , f_r(x))$ \u2013 \u0432\u0435\u043a\u0442\u043e\u0440 \u043a\u0440\u0438\u0442\u0435\u0440\u0438\u0435\u0432 \u043e\u043f\u0442\u0438\u043c\u0438\u0437\u0430\u0446\u0438\u0438, $goal = (f_1^*, f_2^*, \u2026 , f_r^*)$ \u2013 \u0432\u0435\u043a\u0442\u043e\u0440 \u0446\u0435\u043b\u0435\u0439, \u043a\u043e\u0442\u043e\u0440\u044b\u0435 \u043c\u043e\u0433\u0443\u0442 \u0431\u044b\u0442\u044c \u0434\u043e\u0441\u0442\u0438\u0436\u0438\u043c\u044b\u043c\u0438 \u0438\u043b\u0438 \u043d\u0435\u0434\u043e\u0441\u0442\u0438\u0436\u0438\u043c\u044b\u043c\u0438, $\\gamma$ \u2013 \u0441\u043a\u0430\u043b\u044f\u0440\u043d\u044b\u0439 \u043a\u0440\u0438\u0442\u0435\u0440\u0438\u0439 (attain factor), \u043e\u0431\u043e\u0437\u043d\u0430\u0447\u0430\u044e\u0449\u0438\u0439 \u043e\u0442\u043d\u043e\u0441\u0438\u0442\u0435\u043b\u044c\u043d\u0443\u044e \u0440\u0430\u0437\u043d\u0438\u0446\u0443 \u043c\u0435\u0436\u0434\u0443 \u0444\u0443\u043d\u043a\u0446\u0438\u044f\u043c\u0438 \u0438 \u0446\u0435\u043b\u044f\u043c\u0438, $\\omega$ \u2013 \u0432\u0435\u043a\u0442\u043e\u0440 \u0432\u0435\u0441\u043e\u0432\u044b\u0445 \u043a\u043e\u044d\u0444\u0444\u0438\u0446\u0438\u0435\u043d\u0442\u043e\u0432, \u043a\u043e\u0442\u043e\u0440\u044b\u0435 \u0440\u0435\u043a\u043e\u043c\u0435\u043d\u0434\u0443\u0435\u0442\u0441\u044f \u043f\u0440\u0438\u043d\u0438\u043c\u0430\u0442\u044c \u0440\u0430\u0432\u043d\u044b\u043c\u0438 $|goal|$ \u0434\u043b\u044f \u0442\u043e\u0433\u043e \u0447\u0442\u043e\u0431\u044b \u043e\u0431\u0435\u0441\u043f\u0435\u0447\u0438\u0442\u044c \u0442\u0443 \u0436\u0435 \u0441\u0430\u043c\u0443\u044e \u0434\u043e\u043b\u044e \u043d\u0435\u0434\u043e\u0441\u0442\u0438\u0433\u043d\u0443\u0442\u044b\u0445 \u0438\u043b\u0438 \u043f\u0435\u0440\u0435\u0434\u043e\u0441\u0442\u0438\u0433\u043d\u0443\u0442\u044b\u0445 \u0430\u043a\u0442\u0438\u0432\u043d\u044b\u0445 \u0446\u0435\u043b\u0435\u0439, $G(x) \u2264 b$ \u2013 \u0441\u0438\u0441\u0442\u0435\u043c\u0430 \u043e\u0433\u0440\u0430\u043d\u0438\u0447\u0435\u043d\u0438\u0439.\n",
        "\n",
        "\u0414\u0430\u043d\u043d\u0443\u044e \u0437\u0430\u0434\u0430\u0447\u0443 \u043c\u043e\u0436\u043d\u043e \u043f\u0435\u0440\u0435\u0444\u043e\u0440\u043c\u0443\u043b\u0438\u0440\u043e\u0432\u0430\u0442\u044c \u0441\u043b\u0435\u0434\u0443\u044e\u0449\u0438\u043c \u043e\u0431\u0440\u0430\u0437\u043e\u043c:\n",
        "\n",
        "\\begin{gather}\n",
        "    f = max_i{\\frac{F_i(x) - F_i^*}{\\omega_i}} \\rightarrow min\\\\\n",
        "    F(x) = (y_1(x), y_2(x))\\\\\n",
        "    goal = (y_1^{min}, y_2^{min})\\\\\n",
        "    \\omega = (|y_1^{min}|, |y_2^{min}|)\\\\\n",
        "\\end{gather}\n",
        "\n",
        "$$\n",
        "\\begin{bmatrix}\n",
        "    0\\\\\n",
        "    0\\\\\n",
        "    8\\\\\n",
        "    -\\infty\n",
        "\\end{bmatrix}\n",
        "\\leq\n",
        "\\begin{bmatrix}\n",
        "    1 && 0\\\\\n",
        "    0 && 1\\\\\n",
        "    \\frac{b_1}{g_1 k_1} * (1 - c_1) && \\frac{b_2}{g_2 k_2} * (1 - c_2)\\\\\n",
        "    -\\frac{a_1 b_1}{g_1} * (1 - c_1) && -\\frac{a_2 b_2}{g_2} * (1 - c_2)\n",
        "\\end{bmatrix}\n",
        "\\times\n",
        "\\begin{bmatrix}\n",
        "    d_1\\\\\n",
        "    d_2\n",
        "\\end{bmatrix}\n",
        "\\leq\n",
        "\\begin{bmatrix}\n",
        "    6\\\\\n",
        "    5\\\\\n",
        "    10\\\\\n",
        "    0.8 y^{min}_1\n",
        "\\end{bmatrix}\n",
        "$$"
      ],
      "metadata": {
        "collapsed": false
      }
    },
    {
      "cell_type": "markdown",
      "source": [
        "\u0424\u0443\u043d\u043a\u0446\u0438\u044f \u0434\u043e\u0441\u0442\u0438\u0436\u0435\u043d\u0438\u044f \u0446\u0435\u043b\u0438:"
      ],
      "metadata": {
        "collapsed": false
      }
    },
    {
      "cell_type": "code",
      "execution_count": 339,
      "outputs": [],
      "source": [
        "criteria = [y1, y2]\n",
        "goals = np.array([y1_min, y2_min])\n",
        "weights = np.abs(goals)\n",
        "\n",
        "\n",
        "def f_goal_attainment(d):\n",
        "    values = np.array([criterion(d) for criterion in criteria])\n",
        "    quality = (values - goals) / weights\n",
        "    return np.max(quality)"
      ],
      "metadata": {
        "collapsed": false
      }
    },
    {
      "cell_type": "markdown",
      "source": [
        "\u0420\u0435\u0448\u0435\u043d\u0438\u0435 \u0437\u0430\u0434\u0430\u0447\u0438:"
      ],
      "metadata": {
        "collapsed": false
      }
    },
    {
      "cell_type": "code",
      "execution_count": 340,
      "outputs": [
        {
          "name": "stdout",
          "output_type": "stream",
          "text": [
            "x1 = 18918.13 \u043a\u0433\n",
            "x2 = 10699.14 \u043a\u0433\n",
            "z1 = 930011.23 \u0440\u0443\u0431 (84.2% \u043e\u0442 \u043e\u043f\u0442\u0438\u043c\u0443\u043c\u0430)\n",
            "z2 = 6964.11 \u0440\u0443\u0431 (115.8% \u043e\u0442 \u043e\u043f\u0442\u0438\u043c\u0443\u043c\u0430)\n"
          ]
        }
      ],
      "source": [
        "f6_opt_result = optimize(f_goal_attainment, constraints=full_constraints)\n",
        "\n",
        "output_results(f6_opt_result)"
      ],
      "metadata": {
        "collapsed": false
      }
    },
    {
      "cell_type": "markdown",
      "source": [
        "\u0414\u0430\u043d\u043d\u044b\u0439 \u0440\u0435\u0437\u0443\u043b\u044c\u0442\u0430\u0442 \u044f\u0432\u043b\u044f\u0435\u0442\u0441\u044f \u043f\u043e\u043f\u044b\u0442\u043a\u043e\u0439 \u0443\u0441\u0440\u0435\u0434\u043d\u0438\u0442\u044c \u0437\u043d\u0430\u0447\u0435\u043d\u0438\u044f \u043a\u0440\u0438\u0442\u0435\u0440\u0438\u0435\u0432. \u041e\u0434\u043d\u0430\u043a\u043e \u0437\u043d\u0430\u044f, \u0447\u0442\u043e \u0441\u0430\u043c\u043e\u0435 \u0431\u043e\u043b\u044c\u0448\u0435\u0435 \u043e\u0442\u043a\u043b\u043e\u043d\u0435\u043d\u0438\u0435 \u043e\u0442 \u043c\u0438\u043d\u0438\u043c\u0430\u043b\u044c\u043d\u043e\u0433\u043e \u0437\u043d\u0430\u0447\u0435\u043d\u0438\u044f $z_1$ \u0440\u0430\u0432\u043d\u043e 20%, \u0430 \u0434\u043b\u044f $z_2$ \u043c\u0430\u043a\u0441\u0438\u043c\u0430\u043b\u044c\u043d\u043e\u0435 \u043e\u0442\u043a\u043b\u043e\u043d\u0435\u043d\u0438\u0435 \u043e\u0442 \u043c\u0438\u043d\u0438\u043c\u0430\u043b\u044c\u043d\u043e\u0433\u043e \u0437\u043d\u0430\u0447\u0435\u043d\u0438\u044f \u0440\u0430\u0432\u043d\u043e \u043f\u0440\u0438\u043c\u0435\u0440\u043d\u043e 33%, \u043c\u043e\u0436\u043d\u043e \u0437\u0430\u043c\u0435\u0442\u0438\u0442\u044c, \u0447\u0442\u043e \u0432 \u0442\u0435\u043a\u0443\u0449\u0435\u043c \u0440\u0435\u0437\u0443\u043b\u044c\u0442\u0430\u0442\u0435 \u043e\u0442\u043a\u043b\u043e\u043d\u0435\u043d\u0438\u044f \u043d\u0435\u0440\u0430\u0432\u043d\u043e\u043c\u0435\u0440\u043d\u044b \u043e\u0442\u043d\u043e\u0441\u0438\u0442\u0435\u043b\u044c\u043d\u043e \u0434\u0440\u0443\u0433 \u043d\u0430 \u0434\u0440\u0443\u0433\u0430."
      ],
      "metadata": {
        "collapsed": false
      }
    },
    {
      "cell_type": "markdown",
      "source": [
        "#### 2.6. \u0412\u0432\u0435\u0434\u0435\u043d\u0438\u0435 \u043c\u0435\u0442\u0440\u0438\u043a\u0438 \u0432 \u043f\u0440\u043e\u0441\u0442\u0440\u0430\u043d\u0441\u0442\u0432\u0435 \u043a\u0440\u0438\u0442\u0435\u0440\u0438\u0435\u0432"
      ],
      "metadata": {
        "collapsed": false
      }
    },
    {
      "cell_type": "markdown",
      "source": [
        "\u0414\u043b\u044f \u043f\u0435\u0440\u0435\u0445\u043e\u0434\u0430 \u043a \u043e\u0434\u043d\u043e\u043a\u0440\u0438\u0442\u0435\u0440\u0438\u0430\u043b\u044c\u043d\u043e\u0439 \u0437\u0430\u0434\u0430\u0447\u0435 \u043e\u043f\u0442\u0438\u043c\u0438\u0437\u0430\u0446\u0438\u0438 \u043c\u0435\u0442\u043e\u0434\u043e\u043c \u0432\u0432\u0435\u0434\u0435\u043d\u0438\u044f \u043c\u0435\u0442\u0440\u0438\u043a\u0438 \u0432 \u043f\u0440\u043e\u0441\u0442\u0440\u0430\u043d\u0441\u0442\u0432\u0435 \u0446\u0435\u043b\u0435\u0432\u044b\u0445 \u0444\u0443\u043d\u043a\u0446\u0438\u0439 \u043d\u0435\u043e\u0431\u0445\u043e\u0434\u0438\u043c\u043e \u043e\u043f\u0440\u0435\u0434\u0435\u043b\u0438\u0442\u044c \u043a\u043e\u043e\u0440\u0434\u0438\u043d\u0430\u0442\u044b \"\u0438\u0434\u0435\u0430\u043b\u044c\u043d\u043e\u0439\" \u0442\u043e\u0447\u043a\u0438 $a = (f_1^*, f_2^*, \\dots , f_r^*), \u0433\u0434\u0435 f_i^* = min{f_i(x)}$. \u0414\u0430\u043d\u043d\u044b\u0435 \u0437\u043d\u0430\u0447\u0435\u043d\u0438\u044f \u0431\u044b\u043b\u0438 \u043f\u043e\u043b\u0443\u0447\u0435\u043d\u044b \u0432 \u0445\u043e\u0434\u0435 \u043e\u043f\u0440\u0435\u0434\u0435\u043b\u0435\u043d\u0438\u044f \u043f\u043e\u0438\u0441\u043a\u0430 \u043e\u043f\u0442\u0438\u043c\u0443\u043c\u043e\u0432 \u0447\u0430\u0441\u0442\u043d\u044b\u0445 \u043a\u0440\u0438\u0442\u0435\u0440\u0438\u0435\u0432 (\u0441\u043c. \u043f. 1.1).\n",
        "\n",
        "\u0422\u0430\u043a\u0436\u0435 \u0442\u0440\u0435\u0431\u0443\u0435\u0442\u0441\u044f \u0432\u0432\u0435\u0441\u0442\u0438 \u043c\u0435\u0442\u0440\u0438\u043a\u0443 \u0435\u0432\u043a\u043b\u0438\u0434\u043e\u0432\u0430 \u0440\u0430\u0441\u0441\u0442\u043e\u044f\u043d\u0438\u044f \u0432 \u043f\u0440\u043e\u0441\u0442\u0440\u0430\u043d\u0441\u0442\u0432\u0435 \u043a\u0440\u0438\u0442\u0435\u0440\u0438\u0435\u0432:\n",
        "\n",
        "$$\n",
        "\\rho (y, a) = \\bigg[ \\sum_{i=1}^{n}{(a_i - y_i)^2} \\bigg]^\\frac{1}{2}\n",
        "$$\n",
        "\n",
        "\u0418\u0442\u043e\u0433\u043e\u0432\u0443\u044e \u0437\u0430\u0434\u0430\u0447\u0443 \u043c\u043e\u0436\u043d\u043e \u0441\u0444\u043e\u0440\u043c\u0443\u043b\u0438\u0440\u043e\u0432\u0430\u0442\u044c \u0441\u043b\u0435\u0434\u0443\u044e\u0449\u0438\u043c \u043e\u0431\u0440\u0430\u0437\u043e\u043c:\n",
        "\n",
        "\\begin{gather}\n",
        "    f = \\sum_{i=1}^{2}{\\bigg( \\frac{y_i^{min} - y_i}{y_i^{min}} \\bigg)^2} \\rightarrow min\\\\\n",
        "\\end{gather}\n",
        "\n",
        "$$\n",
        "\\begin{bmatrix}\n",
        "    0\\\\\n",
        "    0\\\\\n",
        "    8\\\\\n",
        "    -\\infty\n",
        "\\end{bmatrix}\n",
        "\\leq\n",
        "\\begin{bmatrix}\n",
        "    1 && 0\\\\\n",
        "    0 && 1\\\\\n",
        "    \\frac{b_1}{g_1 k_1} * (1 - c_1) && \\frac{b_2}{g_2 k_2} * (1 - c_2)\\\\\n",
        "    -\\frac{a_1 b_1}{g_1} * (1 - c_1) && -\\frac{a_2 b_2}{g_2} * (1 - c_2)\n",
        "\\end{bmatrix}\n",
        "\\times\n",
        "\\begin{bmatrix}\n",
        "    d_1\\\\\n",
        "    d_2\n",
        "\\end{bmatrix}\n",
        "\\leq\n",
        "\\begin{bmatrix}\n",
        "    6\\\\\n",
        "    5\\\\\n",
        "    10\\\\\n",
        "    0.8 y^{min}_1\n",
        "\\end{bmatrix}\n",
        "$$"
      ],
      "metadata": {
        "collapsed": false
      }
    },
    {
      "cell_type": "markdown",
      "source": [
        "\u0424\u0443\u043d\u043a\u0446\u0438\u044f \u043c\u0438\u043d\u0438\u043c\u0438\u0437\u0430\u0446\u0438\u0438:"
      ],
      "metadata": {
        "collapsed": false
      }
    },
    {
      "cell_type": "code",
      "execution_count": 341,
      "outputs": [],
      "source": [
        "def f_metric(d):\n",
        "    values = np.array([criterion(d) for criterion in criteria])\n",
        "    metrics = (1 - values / goals) ** 2\n",
        "    return np.sum(metrics)"
      ],
      "metadata": {
        "collapsed": false
      }
    },
    {
      "cell_type": "markdown",
      "source": [
        "\u0420\u0435\u0448\u0435\u043d\u0438\u0435 \u0437\u0430\u0434\u0430\u0447\u0438:"
      ],
      "metadata": {
        "collapsed": false
      }
    },
    {
      "cell_type": "code",
      "execution_count": 342,
      "outputs": [
        {
          "name": "stdout",
          "output_type": "stream",
          "text": [
            "x1 = 7265.18 \u043a\u0433\n",
            "x2 = 19999.26 \u043a\u0433\n",
            "z1 = 929210.64 \u0440\u0443\u0431 (84.2% \u043e\u0442 \u043e\u043f\u0442\u0438\u043c\u0443\u043c\u0430)\n",
            "z2 = 6678.84 \u0440\u0443\u0431 (111.0% \u043e\u0442 \u043e\u043f\u0442\u0438\u043c\u0443\u043c\u0430)\n"
          ]
        }
      ],
      "source": [
        "f7_opt_result = optimize(f_metric, constraints=full_constraints)\n",
        "\n",
        "output_results(f7_opt_result)"
      ],
      "metadata": {
        "collapsed": false
      }
    },
    {
      "cell_type": "markdown",
      "source": [
        "\u0412 \u0434\u0430\u043d\u043d\u043e\u043c \u0440\u0435\u0437\u0443\u043b\u044c\u0442\u0430\u0442\u0435 \u0440\u0430\u0437\u043d\u0438\u0446\u044b \u043c\u0435\u0436\u0434\u0443 \u0437\u043d\u0430\u0447\u0435\u043d\u0438\u044f\u043c\u0438 \u0438 \u043e\u043f\u0442\u0438\u0443\u043c\u0430\u043c\u0438 \u043f\u043e\u043b\u0443\u0447\u0438\u043b\u0438\u0441\u044c \u0431\u043e\u043b\u0435\u0435 \u0440\u0430\u0432\u043d\u043e\u043c\u0435\u0440\u043d\u044b\u043c\u0438, \u0447\u0435\u043c \u0432 \u0440\u0435\u0437\u0443\u043b\u044c\u0442\u0430\u0442\u0435 \u0441 \u043f\u0440\u0438\u043c\u0435\u043d\u0435\u043d\u0438\u0435\u043c \u043c\u0435\u0442\u043e\u0434\u0430 goal attain."
      ],
      "metadata": {
        "collapsed": false
      }
    },
    {
      "cell_type": "markdown",
      "source": [
        "## 3. \u041e\u0446\u0435\u043d\u043a\u0430 \u041f\u0430\u0440\u0435\u0442\u043e-\u043e\u043f\u0442\u0438\u043c\u0430\u043b\u044c\u043d\u043e\u0441\u0442\u0438 \u043f\u043e\u043b\u0443\u0447\u0435\u043d\u043d\u044b\u0445 \u0440\u0435\u0448\u0435\u043d\u0438\u0439"
      ],
      "metadata": {
        "collapsed": false
      }
    },
    {
      "cell_type": "markdown",
      "source": [
        "\u0414\u043b\u044f \u0443\u043c\u0435\u043d\u044c\u0448\u0435\u043d\u0438\u044f \u043a\u043e\u043b\u0438\u0447\u0435\u0441\u0442\u0432\u0430 \u0430\u043b\u044c\u0442\u0435\u0440\u043d\u0430\u0442\u0438\u0432 \u0432\u044b\u0431\u043e\u0440\u0430 \u043c\u043e\u0436\u043d\u043e \u0432\u044b\u0434\u0435\u043b\u0438\u0442\u044c \u043c\u043d\u043e\u0436\u0435\u0441\u0442\u0432\u043e \u041f\u0430\u0440\u0435\u0442\u043e \u0441\u0440\u0435\u0434\u0438 \u0432\u0441\u0435\u0445 \u043f\u043e\u043b\u0443\u0447\u0435\u043d\u043d\u044b\u0445 \u0440\u0435\u0448\u0435\u043d\u0438\u0439, \u0442.\u0435. \u043d\u0430\u0439\u0442\u0438 \u043c\u043d\u043e\u0436\u0435\u0441\u0442\u0432\u043e \u043d\u0435\u0434\u043e\u043c\u0438\u043d\u0438\u0440\u0443\u0435\u043c\u044b\u0445 \u0440\u0435\u0448\u0435\u043d\u0438\u0439."
      ],
      "metadata": {
        "collapsed": false
      }
    },
    {
      "cell_type": "code",
      "execution_count": 343,
      "outputs": [
        {
          "data": {
            "text/plain": "    \u041c\u0435\u0442\u043e\u0434 \u043f\u0435\u0440\u0435\u0445\u043e\u0434\u0430 \u043a \u043e\u0434\u043d\u043e\u043a\u0440\u0438\u0442\u0435\u0440\u0438\u0430\u043b\u044c\u043d\u043e\u0439 \u0437\u0430\u0434\u0430\u0447\u0435        z_1     z_2      x_1  \\\n                                                                            \n\u0410                 \u0412\u044b\u0434\u0435\u043b\u0435\u043d\u0438\u0435 \u0433\u043b\u0430\u0432\u043d\u043e\u0433\u043e \u043a\u0440\u0438\u0442\u0435\u0440\u0438\u044f  883205.29 6438.44 10666.77   \n\u04111                         \u0410\u0434\u0434\u0438\u0442\u0438\u0432\u043d\u0430\u044f \u0441\u0432\u0435\u0440\u0442\u043a\u0430  883207.90 6438.45 10666.25   \n\u04112                  \u041c\u0443\u043b\u044c\u0442\u0438\u043f\u043b\u0438\u043a\u0430\u0442\u0438\u0432\u043d\u0430\u044f \u0441\u0432\u0435\u0440\u0442\u043a\u0430 1104000.00 8048.00 13333.33   \n\u0412                                    \u041c\u0438\u043d\u0438\u043c\u0430\u043a\u0441 1103941.71 8047.63 13334.75   \n\u0413              \u041c\u0435\u0442\u043e\u0434 \u043f\u043e\u0441\u043b\u0435\u0434\u043e\u0432\u0430\u0442\u0435\u043b\u044c\u043d\u044b\u0445 \u0443\u0441\u0442\u0443\u043f\u043e\u043a  883205.29 6438.44 10666.77   \n\u0414         \u041c\u0435\u0442\u043e\u0434 \u0434\u043e\u0441\u0442\u0438\u0436\u0435\u043d\u0438\u044f \u0446\u0435\u043b\u0438 (fgoalattain)  930011.23 6964.11 18918.13   \n\u0415   \u0412\u0432\u0435\u0434\u0435\u043d\u0438\u0435 \u043c\u0435\u0442\u0440\u0438\u043a\u0438 \u0432 \u043f\u0440\u043e\u0441\u0442\u0440\u0430\u043d\u0441\u0442\u0432\u0435 \u043a\u0440\u0438\u0442\u0435\u0440\u0438\u0435\u0432  929210.64 6678.84  7265.18   \n\n        x_2  \n             \n\u0410  16000.07  \n\u04111 16000.55  \n\u04112 20000.00  \n\u0412  19997.24  \n\u0413  16000.07  \n\u0414  10699.14  \n\u0415  19999.26  ",
            "text/html": "<div>\n<style scoped>\n    .dataframe tbody tr th:only-of-type {\n        vertical-align: middle;\n    }\n\n    .dataframe tbody tr th {\n        vertical-align: top;\n    }\n\n    .dataframe thead th {\n        text-align: right;\n    }\n</style>\n<table border=\"1\" class=\"dataframe\">\n  <thead>\n    <tr style=\"text-align: right;\">\n      <th></th>\n      <th>\u041c\u0435\u0442\u043e\u0434 \u043f\u0435\u0440\u0435\u0445\u043e\u0434\u0430 \u043a \u043e\u0434\u043d\u043e\u043a\u0440\u0438\u0442\u0435\u0440\u0438\u0430\u043b\u044c\u043d\u043e\u0439 \u0437\u0430\u0434\u0430\u0447\u0435</th>\n      <th>z_1</th>\n      <th>z_2</th>\n      <th>x_1</th>\n      <th>x_2</th>\n    </tr>\n    <tr>\n      <th></th>\n      <th></th>\n      <th></th>\n      <th></th>\n      <th></th>\n      <th></th>\n    </tr>\n  </thead>\n  <tbody>\n    <tr>\n      <th>\u0410</th>\n      <td>\u0412\u044b\u0434\u0435\u043b\u0435\u043d\u0438\u0435 \u0433\u043b\u0430\u0432\u043d\u043e\u0433\u043e \u043a\u0440\u0438\u0442\u0435\u0440\u0438\u044f</td>\n      <td>883205.29</td>\n      <td>6438.44</td>\n      <td>10666.77</td>\n      <td>16000.07</td>\n    </tr>\n    <tr>\n      <th>\u04111</th>\n      <td>\u0410\u0434\u0434\u0438\u0442\u0438\u0432\u043d\u0430\u044f \u0441\u0432\u0435\u0440\u0442\u043a\u0430</td>\n      <td>883207.90</td>\n      <td>6438.45</td>\n      <td>10666.25</td>\n      <td>16000.55</td>\n    </tr>\n    <tr>\n      <th>\u04112</th>\n      <td>\u041c\u0443\u043b\u044c\u0442\u0438\u043f\u043b\u0438\u043a\u0430\u0442\u0438\u0432\u043d\u0430\u044f \u0441\u0432\u0435\u0440\u0442\u043a\u0430</td>\n      <td>1104000.00</td>\n      <td>8048.00</td>\n      <td>13333.33</td>\n      <td>20000.00</td>\n    </tr>\n    <tr>\n      <th>\u0412</th>\n      <td>\u041c\u0438\u043d\u0438\u043c\u0430\u043a\u0441</td>\n      <td>1103941.71</td>\n      <td>8047.63</td>\n      <td>13334.75</td>\n      <td>19997.24</td>\n    </tr>\n    <tr>\n      <th>\u0413</th>\n      <td>\u041c\u0435\u0442\u043e\u0434 \u043f\u043e\u0441\u043b\u0435\u0434\u043e\u0432\u0430\u0442\u0435\u043b\u044c\u043d\u044b\u0445 \u0443\u0441\u0442\u0443\u043f\u043e\u043a</td>\n      <td>883205.29</td>\n      <td>6438.44</td>\n      <td>10666.77</td>\n      <td>16000.07</td>\n    </tr>\n    <tr>\n      <th>\u0414</th>\n      <td>\u041c\u0435\u0442\u043e\u0434 \u0434\u043e\u0441\u0442\u0438\u0436\u0435\u043d\u0438\u044f \u0446\u0435\u043b\u0438 (fgoalattain)</td>\n      <td>930011.23</td>\n      <td>6964.11</td>\n      <td>18918.13</td>\n      <td>10699.14</td>\n    </tr>\n    <tr>\n      <th>\u0415</th>\n      <td>\u0412\u0432\u0435\u0434\u0435\u043d\u0438\u0435 \u043c\u0435\u0442\u0440\u0438\u043a\u0438 \u0432 \u043f\u0440\u043e\u0441\u0442\u0440\u0430\u043d\u0441\u0442\u0432\u0435 \u043a\u0440\u0438\u0442\u0435\u0440\u0438\u0435\u0432</td>\n      <td>929210.64</td>\n      <td>6678.84</td>\n      <td>7265.18</td>\n      <td>19999.26</td>\n    </tr>\n  </tbody>\n</table>\n</div>"
          },
          "execution_count": 343,
          "metadata": {},
          "output_type": "execute_result"
        }
      ],
      "source": [
        "results_args = [\n",
        "    f1_opt_result.args,\n",
        "    f2_opt_result.args,\n",
        "    f3_opt_result.args,\n",
        "    f4_opt_result.args,\n",
        "    f5_opt_result.args,\n",
        "    f6_opt_result.args,\n",
        "    f7_opt_result.args\n",
        "]\n",
        "\n",
        "result_x = [\n",
        "    f1_opt_result.get_x(),\n",
        "    f2_opt_result.get_x(),\n",
        "    f3_opt_result.get_x(),\n",
        "    f4_opt_result.get_x(),\n",
        "    f5_opt_result.get_x(),\n",
        "    f6_opt_result.get_x(),\n",
        "    f7_opt_result.get_x()\n",
        "]\n",
        "\n",
        "indices = ['\u0410', '\u04111', '\u04112', '\u0412', '\u0413', '\u0414', '\u0415']\n",
        "\n",
        "all_results_table = DataFrame({\n",
        "    '': indices,\n",
        "    '\u041c\u0435\u0442\u043e\u0434 \u043f\u0435\u0440\u0435\u0445\u043e\u0434\u0430 \u043a \u043e\u0434\u043d\u043e\u043a\u0440\u0438\u0442\u0435\u0440\u0438\u0430\u043b\u044c\u043d\u043e\u0439 \u0437\u0430\u0434\u0430\u0447\u0435': [\n",
        "        '\u0412\u044b\u0434\u0435\u043b\u0435\u043d\u0438\u0435 \u0433\u043b\u0430\u0432\u043d\u043e\u0433\u043e \u043a\u0440\u0438\u0442\u0435\u0440\u0438\u044f',\n",
        "        '\u0410\u0434\u0434\u0438\u0442\u0438\u0432\u043d\u0430\u044f \u0441\u0432\u0435\u0440\u0442\u043a\u0430',\n",
        "        '\u041c\u0443\u043b\u044c\u0442\u0438\u043f\u043b\u0438\u043a\u0430\u0442\u0438\u0432\u043d\u0430\u044f \u0441\u0432\u0435\u0440\u0442\u043a\u0430',\n",
        "        '\u041c\u0438\u043d\u0438\u043c\u0430\u043a\u0441',\n",
        "        '\u041c\u0435\u0442\u043e\u0434 \u043f\u043e\u0441\u043b\u0435\u0434\u043e\u0432\u0430\u0442\u0435\u043b\u044c\u043d\u044b\u0445 \u0443\u0441\u0442\u0443\u043f\u043e\u043a',\n",
        "        '\u041c\u0435\u0442\u043e\u0434 \u0434\u043e\u0441\u0442\u0438\u0436\u0435\u043d\u0438\u044f \u0446\u0435\u043b\u0438 (fgoalattain)',\n",
        "        '\u0412\u0432\u0435\u0434\u0435\u043d\u0438\u0435 \u043c\u0435\u0442\u0440\u0438\u043a\u0438 \u0432 \u043f\u0440\u043e\u0441\u0442\u0440\u0430\u043d\u0441\u0442\u0432\u0435 \u043a\u0440\u0438\u0442\u0435\u0440\u0438\u0435\u0432'\n",
        "    ],\n",
        "    'z_1': [z1(r) for r in results_args],\n",
        "    'z_2': [z2(r) for r in results_args],\n",
        "    'x_1': [ra[0] for ra in result_x],\n",
        "    'x_2': [ra[1] for ra in result_x],\n",
        "})\n",
        "all_results_table.set_index('')"
      ],
      "metadata": {
        "collapsed": false
      }
    },
    {
      "cell_type": "code",
      "execution_count": 344,
      "outputs": [
        {
          "data": {
            "text/plain": "<Figure size 1300x500 with 1 Axes>",
            "image/png": "[encoded data removed]"
          },
          "metadata": {},
          "output_type": "display_data"
        }
      ],
      "source": [
        "from matplotlib import pyplot\n",
        "\n",
        "\n",
        "class IndexCoordinates:\n",
        "    def __init__(self, index, x, y):\n",
        "        self.indices = [index]\n",
        "        self.x = x\n",
        "        self.y = y\n",
        "        self.x_bounds = [0.99 * x, 1.01 * x]\n",
        "        self.y_bounds = [0.99 * y, 1.01 * y]\n",
        "\n",
        "    def is_intersects(self, x, y):\n",
        "        return self.x_bounds[0] <= x <= self.x_bounds[1] and self.y_bounds[0] <= y <= self.y_bounds[1]\n",
        "\n",
        "\n",
        "fig, ax = pyplot.subplots(figsize=(13, 5))\n",
        "\n",
        "coordinated_indices = []\n",
        "\n",
        "for i, args in enumerate(results_args):\n",
        "    values = (z1(args), z2(args))\n",
        "    ax.scatter(z1(args), z2(args), marker='+', color='blue')\n",
        "    index = indices[i]\n",
        "    is_intersected = False\n",
        "    for coordinated_index in coordinated_indices:\n",
        "        if coordinated_index.is_intersects(*values):\n",
        "            coordinated_index.indices.append(index)\n",
        "            is_intersected = True\n",
        "            break\n",
        "    if not is_intersected:\n",
        "        coordinated_indices.append(IndexCoordinates(index, *values))\n",
        "\n",
        "for index in coordinated_indices:\n",
        "    pyplot.text(index.x, index.y, ','.join(index.indices), fontsize=10)\n",
        "\n",
        "pyplot.show()"
      ],
      "metadata": {
        "collapsed": false
      }
    },
    {
      "cell_type": "markdown",
      "source": [
        "\u0421\u0443\u0434\u044f \u043f\u043e \u0434\u0430\u043d\u043d\u044b\u043c \u0442\u0430\u0431\u043b\u0438\u0446\u044b \u0438 \u0433\u0440\u0430\u0444\u0438\u043a\u0430 \u043c\u043e\u0436\u043d\u043e \u0441\u0434\u0435\u043b\u0430\u0442\u044c \u0432\u044b\u0432\u043e\u0434, \u0447\u0442\u043e \u0432\u0441\u0435 \u0440\u0435\u0448\u0435\u043d\u0438\u044f \u044f\u0432\u043b\u044f\u044e\u0442\u0441\u044f \u041f\u0430\u0440\u0435\u0442\u043e-\u043e\u043f\u0442\u0438\u043c\u0430\u043b\u044c\u043d\u044b\u043c\u0438, \u0442.\u0435 \u043f\u0440\u0438 \u043a\u0430\u0436\u0434\u043e\u043c \u0438\u0437 \u043d\u0438\u0445 \u043d\u0435 \u043f\u043e\u043b\u0443\u0447\u0438\u0442\u0441\u044f \u0443\u043b\u0443\u0447\u0448\u0438\u0442\u044c \u0440\u0435\u0437\u0443\u043b\u044c\u0442\u0430\u0442 \u043e\u0434\u043d\u043e\u0433\u043e \u043f\u043e\u043a\u0430\u0437\u0430\u0442\u0435\u043b\u044f, \u043d\u0435 \u0443\u0445\u0443\u0434\u0448\u0430\u044f \u043f\u0440\u0438 \u044d\u0442\u043e\u043c \u0434\u0440\u0443\u0433\u043e\u0433\u043e, \u0430 \u0437\u043d\u0430\u0447\u0438\u0442 \u043b\u044e\u0431\u043e\u0439 \u0438\u0437 \u043f\u0440\u0435\u0434\u043b\u043e\u0436\u0435\u043d\u043d\u044b\u0445 \u0432\u0430\u0440\u0438\u0430\u043d\u0442\u043e\u0432 \u043c\u043e\u0436\u0435\u0442 \u0431\u044b\u0442\u044c \u0438\u0441\u043f\u043e\u043b\u044c\u0437\u043e\u0432\u0430\u043d \u0432 \u0437\u0430\u0432\u0438\u0441\u0438\u043c\u043e\u0441\u0442\u0438 \u043e\u0442 \u043f\u0440\u0438\u043e\u0440\u0438\u0442\u0435\u0442\u043e\u0432 \u043f\u0440\u0435\u0434\u043f\u0440\u0438\u044f\u0442\u0438\u044f."
      ],
      "metadata": {
        "collapsed": false
      }
    },
    {
      "cell_type": "markdown",
      "source": [
        "## 4. \u0420\u0435\u0448\u0435\u043d\u0438\u0435 \u0437\u0430\u0434\u0430\u0447\u0438 \u0441\u0442\u043e\u0445\u0430\u0441\u0442\u0438\u0447\u0435\u0441\u043a\u043e\u0433\u043e \u043f\u0440\u043e\u0433\u0440\u0430\u043c\u043c\u0438\u0440\u043e\u0432\u0430\u043d\u0438\u044f"
      ],
      "metadata": {
        "collapsed": false
      }
    },
    {
      "cell_type": "markdown",
      "source": [
        "\u0414\u043b\u044f \u0440\u0435\u0448\u0435\u043d\u0438\u044f \u0437\u0430\u0434\u0430\u0447\u0443 \u0441\u0442\u043e\u0445\u0430\u0441\u0442\u0438\u0447\u0435\u0441\u043a\u043e\u0433\u043e \u043f\u0440\u043e\u0433\u0440\u0430\u043c\u043c\u0438\u0440\u043e\u0432\u0430\u043d\u0438\u044f \u0432 \u043a\u0430\u0447\u0435\u0441\u0442\u0432\u0435 \u043e\u0441\u043d\u043e\u0432\u044b \u0431\u044b\u043b\u0430 \u0432\u044b\u0431\u0440\u0430\u043d\u0430 \u0437\u0430\u0434\u0430\u0447\u0430 \u043e\u0434\u043d\u043e\u043a\u0440\u0438\u0442\u0435\u0440\u0438\u0430\u043b\u044c\u043d\u043e\u0439 \u043e\u043f\u0442\u0438\u043c\u0438\u0437\u0430\u0446\u0438\u0438 \u043c\u0435\u0442\u043e\u0434\u043e\u043c \u0432\u0432\u0435\u0434\u0435\u043d\u0438\u044f \u043c\u0435\u0442\u0440\u0438\u043a\u0438 \u0432 \u043f\u0440\u043e\u0441\u0442\u0440\u0430\u043d\u0441\u0442\u0432\u0435 \u043a\u0440\u0438\u0442\u0435\u0440\u0438\u0435\u0432 (\u0441\u043c. \u043f. 2.6):\n",
        "\n",
        "\\begin{gather}\n",
        "f = \\sum_{i=1}^{2}{\\bigg( \\frac{y_i^{min} - y_i}{y_i^{min}} \\bigg)^2} \\rightarrow min\\\\\n",
        "\\end{gather}\n",
        "\n",
        "$$\n",
        "\\begin{bmatrix}\n",
        "    0\\\\\n",
        "    0\\\\\n",
        "    8\\\\\n",
        "    -\\infty\n",
        "\\end{bmatrix}\n",
        "\\leq\n",
        "\\begin{bmatrix}\n",
        "    1 && 0\\\\\n",
        "    0 && 1\\\\\n",
        "    \\frac{b_1}{g_1 k_1} * (1 - c_1) && \\frac{b_2}{g_2 k_2} * (1 - c_2)\\\\\n",
        "    -\\frac{a_1 b_1}{g_1} * (1 - c_1) && -\\frac{a_2 b_2}{g_2} * (1 - c_2)\n",
        "\\end{bmatrix}\n",
        "\\times\n",
        "\\begin{bmatrix}\n",
        "    d_1\\\\\n",
        "    d_2\n",
        "\\end{bmatrix}\n",
        "\\leq\n",
        "\\begin{bmatrix}\n",
        "    6\\\\\n",
        "    5\\\\\n",
        "    10\\\\\n",
        "    0.8 y^{min}_1\n",
        "\\end{bmatrix}\n",
        "$$\n",
        "\n",
        "\u041f\u0443\u0441\u0442\u044c \u0441\u0442\u043e\u0438\u043c\u043e\u0441\u0442\u044c \u0442\u043e\u0432\u0430\u0440\u0430 $a_i$ \u0432 \u0441\u0438\u043b\u0443 \u043d\u0435\u0441\u0442\u0430\u0431\u0438\u043b\u044c\u043d\u043e\u0441\u0442\u0438 \u0440\u044b\u043d\u043a\u0430 \u044f\u0432\u043b\u044f\u0435\u0442\u0441\u044f \u043d\u0435\u0437\u0430\u0432\u0438\u0441\u0438\u043c\u043e\u0439 \u043d\u043e\u0440\u043c\u0430\u043b\u044c\u043d\u043e \u0440\u0430\u0441\u043f\u0440\u0435\u0434\u0435\u043b\u0435\u043d\u043d\u043e\u0439 \u0441\u043b\u0443\u0447\u0430\u0439\u043d\u043e\u0439 \u0432\u0435\u043b\u0438\u0447\u0438\u043d\u043e\u0439:\n",
        "\n",
        "\\begin{gather}\n",
        "a_i = N(\\bar{a_i}, \\sigma_i)\n",
        "\\end{gather}\n",
        "\n",
        "\\begin{array}{ l l }\n",
        "\\overline{a_1} = 8, && \\sigma_1 = 1.6\\\\\n",
        "\\overline{a_2} = 15, && \\sigma_2 = 3.75\n",
        "\\end{array}\n",
        "\n",
        "\u0433\u0434\u0435 $\\overline{a_i}$ \u2013 \u043c\u0430\u0442\u0435\u043c\u0430\u0442\u0438\u0447\u0435\u0441\u043a\u043e\u0435 \u043e\u0436\u0438\u0434\u0430\u043d\u0438\u0435 \u0441\u043b\u0443\u0447\u0430\u0439\u043d\u043e\u0439 \u0432\u0435\u043b\u0438\u0447\u0438\u043d\u044b $a_i$, $\\sigma_i$ \u2013 \u0435\u0435 \u043f\u0430\u0440\u0430\u043c\u0435\u0442\u0440 \u0440\u0430\u0441\u043f\u0440\u0435\u0434\u0435\u043b\u0435\u043d\u0438\u044f.\n",
        "\n",
        "\u0422\u0435\u043f\u0435\u0440\u044c \u043e\u0433\u0440\u0430\u043d\u0438\u0447\u0435\u043d\u0438\u0435 \u043d\u0430 \u043c\u0438\u043d\u0438\u043c\u0430\u043b\u044c\u043d\u044b\u0439 \u043f\u043e\u0440\u043e\u0433 \u043f\u0440\u0438\u0431\u044b\u043b\u0438 \u044f\u0432\u043b\u044f\u0435\u0442\u0441\u044f \u0432\u0435\u0440\u043e\u044f\u0442\u043d\u043e\u0441\u0442\u043d\u044b\u043c. \u0415\u0433\u043e \u043c\u043e\u0436\u043d\u043e \u0432\u044b\u0440\u0430\u0437\u0438\u0442\u044c \u0441\u043b\u0435\u0434\u0443\u044e\u0449\u0438\u043c \u043e\u0431\u0440\u0430\u0437\u043e\u043c:\n",
        "\n",
        "$$\n",
        "P(h \\leq 0.8 y_1^{min}) = P \\bigg( -\\sum_{i=1}^2{\\frac{a_i b_i d_i}{g_i} * (1 - c_i)} \\leq 0.8 y_1^{min} \\bigg) \\geq \\alpha\n",
        "$$\n",
        "\n",
        "\u0433\u0434\u0435 $0 \\leq \\alpha \\leq 1$ \u2013 \u0434\u043e\u0432\u0435\u0440\u0438\u0442\u0435\u043b\u044c\u043d\u0430\u044f \u0432\u0435\u0440\u043e\u044f\u0442\u043d\u043e\u0441\u0442\u044c. \u041f\u0440\u0435\u0434\u043b\u0430\u0433\u0430\u0435\u0442\u0441\u044f \u0440\u0435\u0448\u0438\u0442\u044c \u043f\u043e\u0441\u0442\u0430\u0432\u043b\u0435\u043d\u043d\u0443\u044e \u0437\u0430\u0434\u0430\u0447\u0443 \u0441\u0442\u043e\u0445\u0430\u0441\u0442\u0438\u0447\u0435\u0441\u043a\u043e\u0433\u043e \u043f\u0440\u043e\u0433\u0440\u0430\u043c\u043c\u0438\u0440\u043e\u0432\u0430\u043d\u0438\u044f \u043f\u0440\u0438 $\\alpha = 0.1, 0.2, \\dots , 0.9$.\n",
        "\n",
        "\u041e\u0441\u043d\u043e\u0432\u043d\u043e\u0439 \u043f\u043e\u0434\u0445\u043e\u0434 \u043a \u0440\u0435\u0448\u0435\u043d\u0438\u044e \u0437\u0430\u0434\u0430\u0447 \u0441\u0442\u043e\u0445\u0430\u0441\u0442\u0438\u0447\u0435\u0441\u043a\u043e\u0433\u043e \u043f\u0440\u043e\u0433\u0440\u0430\u043c\u043c\u0438\u0440\u043e\u0432\u0430\u043d\u0438\u044f \u0441\u043e\u0441\u0442\u043e\u0438\u0442 \u0432 \u043f\u0440\u0435\u043e\u0431\u0440\u0430\u0437\u043e\u0432\u0430\u043d\u0438\u0438 \u0438\u0441\u0445\u043e\u0434\u043d\u043e\u0439 \u0432\u0435\u0440\u043e\u044f\u0442\u043d\u043e\u0441\u0442\u043d\u043e\u0439 \u0437\u0430\u0434\u0430\u0447\u0438 \u0432 \u044d\u043a\u0432\u0438\u0432\u0430\u043b\u0435\u043d\u0442\u043d\u0443\u044e \u0434\u0435\u0442\u0435\u0440\u043c\u0438\u043d\u0438\u0440\u043e\u0432\u0430\u043d\u043d\u0443\u044e. \u041f\u043e \u043e\u043f\u0440\u0435\u0434\u0435\u043b\u0435\u043d\u0438\u044e \u0444\u0443\u043d\u043a\u0446\u0438\u0438 \u0440\u0430\u0441\u043f\u0440\u0435\u0434\u0435\u043b\u0435\u043d\u0438\u044f \u043d\u0435\u0440\u0430\u0432\u0435\u043d\u0441\u0442\u0432\u043e $P(h \\leq 0.8 y_1^{min})\\geq \\alpha$ \u0432\u044b\u043f\u043e\u043b\u043d\u044f\u0435\u0442\u0441\u044f \u0442\u043e\u0433\u0434\u0430 \u0438 \u0442\u043e\u043b\u044c\u043a\u043e \u0442\u043e\u0433\u0434\u0430, \u043a\u043e\u0433\u0434\u0430:\n",
        "\n",
        "$$\n",
        "\\frac{0.8 y_1^{min} - M[h]}{\\sqrt{D[h]}} \\geq K_{\\alpha}\n",
        "$$\n",
        "\n",
        "\u0433\u0434\u0435 $M[h]$ \u0438 $D[h]$ \u2013 \u043c\u0430\u0442\u0435\u043c\u0430\u0442\u0438\u0447\u0435\u0441\u043a\u043e\u0435 \u043e\u0436\u0438\u0434\u0430\u043d\u0438\u0435 \u0438 \u0434\u0438\u0441\u043f\u0435\u0440\u0441\u0438\u044f \u0432\u044b\u0440\u0430\u0436\u0435\u043d\u0438\u044f $h$ \u0441\u043e\u043e\u0442\u0432\u0435\u0442\u0441\u0442\u0432\u0435\u043d\u043d\u043e, \u0430 $K_\\alpha$ \u2013 \u044d\u0442\u043e $\\alpha$-\u043a\u0432\u0430\u043d\u0442\u0438\u043b\u044c \u0440\u0430\u0441\u043f\u0440\u0435\u0434\u0435\u043b\u0435\u043d\u0438\u044f $N(0, 1)$.\n",
        "\n",
        "\u041c\u043e\u0436\u043d\u043e \u0437\u0430\u043c\u0435\u0442\u0438\u0442\u044c, \u0447\u0442\u043e \u044d\u0442\u043e \u043f\u0440\u0438\u0432\u043e\u0434\u0438\u0442 \u043a \u0434\u0435\u0442\u0435\u0440\u043c\u0438\u043d\u0438\u0440\u043e\u0432\u0430\u043d\u043d\u043e\u043c\u0443 \u043d\u0435\u043b\u0438\u043d\u0435\u0439\u043d\u043e\u043c\u0443 \u043e\u0433\u0440\u0430\u043d\u0438\u0447\u0435\u043d\u0438\u044e, \u043a\u043e\u0442\u043e\u0440\u043e\u0435 \u044d\u043a\u0432\u0438\u0432\u0430\u043b\u0435\u043d\u0442\u043d\u043e \u0438\u0441\u0445\u043e\u0434\u043d\u043e\u043c\u0443 \u0432\u0435\u0440\u043e\u044f\u0442\u043d\u043e\u0441\u0442\u043d\u043e\u043c\u0443 \u0438 \u0438\u043c\u0435\u0435\u0442 \u0432\u0438\u0434:\n",
        "\n",
        "$$\n",
        "M[h] + K_{\\alpha} \\sqrt{D[h]} \\leq 0.8 y_1^{min}\n",
        "$$\n",
        "\n",
        "\u041f\u0440\u0438 \u044d\u0442\u043e\u043c, \u0441 \u0443\u0447\u0435\u0442\u043e\u043c \u043d\u0435\u0437\u0430\u0432\u0438\u0441\u0438\u043c\u043e\u0441\u0442\u0438 $a_i$ \u043c\u043e\u0436\u043d\u043e \u0432\u044b\u0440\u0430\u0437\u0438\u0442\u044c \u043c\u0430\u0442\u0435\u043c\u0430\u0442\u0438\u0447\u0435\u0441\u043a\u043e\u0435 \u043e\u0436\u0438\u0434\u0430\u043d\u0438\u0435 \u0438 \u0434\u0438\u0441\u043f\u0435\u0440\u0441\u0438\u044e \u0441\u043b\u0435\u0434\u0443\u044e\u0449\u0438\u043c \u043e\u0431\u0440\u0430\u0437\u043e\u043c:\n",
        "\n",
        "$$\n",
        "M[h] = -\\sum_{i=1}^2{\\frac{M[a_i] b_i d_i}{g_i} * (1 - c_i)} = -\\sum_{i=1}^2{\\frac{\\overline{a_i} b_i d_i}{g_i} * (1 - c_i)}\\\\\n",
        "D[h] = \\sum_{i=1}^2{\\bigg( -\\frac{D[a_i] b_i d_i}{g_i} * (1 - c_i) \\bigg)^2} = \\sum_{i=1}^2{\\bigg( -\\frac{\\sigma_i b_i d_i}{g_i} * (1 - c_i) \\bigg)^2}\n",
        "$$\n",
        "\n",
        "\u0418\u0442\u043e\u0433\u043e\u0432\u043e\u0435 \u043e\u0433\u0440\u0430\u043d\u0438\u0447\u0435\u043d\u0438\u0435 \u0432\u044b\u0433\u043b\u044f\u0434\u0438\u0442 \u0441\u043b\u0435\u0434\u0443\u044e\u0449\u0438\u043c \u043e\u0431\u0440\u0430\u0437\u043e\u043c:\n",
        "\n",
        "$$\n",
        "-\\sum_{i=1}^2{\\frac{\\overline{a_i} b_i d_i}{g_i} * (1 - c_i)} + K_{\\alpha} \\sqrt{\\sum_{i=1}^2{\\bigg( -\\frac{\\sigma_i b_i d_i}{g_i} * (1 - c_i) \\bigg)^2}} \\leq 0.8 y_1^{min}\n",
        "$$\n",
        "\n",
        "\u041f\u043e\u043b\u043d\u0430\u044f \u0444\u043e\u0440\u043c\u0443\u043b\u0438\u0440\u043e\u0432\u043a\u0430 \u0437\u0430\u0434\u0430\u0447\u0438:\n",
        "\n",
        "\\begin{gather}\n",
        "f = \\sum_{i=1}^{2}{\\bigg( \\frac{y_i^{min} - y_i}{y_i^{min}} \\bigg)^2} \\rightarrow min\\\\\n",
        "\\end{gather}\n",
        "\n",
        "$$\n",
        "\\begin{bmatrix}\n",
        "    0\\\\\n",
        "    0\\\\\n",
        "    8\n",
        "\\end{bmatrix}\n",
        "\\leq\n",
        "\\begin{bmatrix}\n",
        "    1 && 0\\\\\n",
        "    0 && 1\\\\\n",
        "    \\frac{b_1}{g_1 k_1} * (1 - c_1) && \\frac{b_2}{g_2 k_2} * (1 - c_2)\n",
        "\\end{bmatrix}\n",
        "\\times\n",
        "\\begin{bmatrix}\n",
        "    d_1\\\\\n",
        "    d_2\n",
        "\\end{bmatrix}\n",
        "\\leq\n",
        "\\begin{bmatrix}\n",
        "    6\\\\\n",
        "    5\\\\\n",
        "    10\n",
        "\\end{bmatrix}\n",
        "$$"
      ],
      "metadata": {
        "collapsed": false
      }
    },
    {
      "cell_type": "markdown",
      "source": [
        "\u041d\u0435\u043b\u0438\u043d\u0435\u0439\u043d\u043e\u0435 \u043e\u0433\u0440\u0430\u043d\u0438\u0447\u0435\u043d\u0438\u0435:"
      ],
      "metadata": {
        "collapsed": false
      }
    },
    {
      "cell_type": "code",
      "execution_count": 345,
      "outputs": [],
      "source": [
        "from math import sqrt\n",
        "\n",
        "expected_value = a\n",
        "dispersion = [1.6, 0]\n",
        "\n",
        "\n",
        "def cons_f(d, q):\n",
        "    result = 0\n",
        "    for i in range(len(d)):\n",
        "        result -= expected_value[i] * b[i] * d[i] * (1 - c[i]) / g[i]\n",
        "    dh = 0\n",
        "    for i in range(len(d)):\n",
        "        dh += (-dispersion[i] * b[i] * d[i] * (1 - c[i]) / g[i]) ** 2\n",
        "    result += q * sqrt(dh)\n",
        "    return [result]"
      ],
      "metadata": {
        "collapsed": false
      }
    },
    {
      "cell_type": "markdown",
      "source": [
        "\u0420\u0435\u0448\u0435\u043d\u0438\u0435 \u0437\u0430\u0434\u0430\u0447\u0438:"
      ],
      "metadata": {
        "collapsed": false
      }
    },
    {
      "cell_type": "code",
      "execution_count": 347,
      "outputs": [
        {
          "name": "stderr",
          "output_type": "stream",
          "text": [
            "C:\\ProgramData\\Anaconda3\\lib\\site-packages\\scipy\\optimize\\_hessian_update_strategy.py:182: UserWarning: delta_grad == 0.0. Check if the approximated function is linear. If the function is linear better results can be obtained by defining the Hessian as zero instead of using quasi-Newton approximations.\n",
            "  warn('delta_grad == 0.0. Check if the approximated '\n"
          ]
        }
      ],
      "source": [
        "from scipy.optimize import NonlinearConstraint\n",
        "from scipy.stats import norm\n",
        "\n",
        "stochastic_opt_results = []\n",
        "for q in np.arange(0.1, 1, 0.1):\n",
        "    quantile = norm.ppf(0.1)\n",
        "    stochastic_constraint = NonlinearConstraint(lambda d: cons_f(d, quantile), -np.inf, o_min * y1_min)\n",
        "    stochastic_opt_results.append(optimize(f_metric, constraints=[full_constraints, stochastic_constraint]))"
      ],
      "metadata": {
        "collapsed": false
      }
    },
    {
      "cell_type": "markdown",
      "source": [
        "\u041f\u043e\u0434\u0440\u043e\u0431\u043d\u044b\u0435 \u0440\u0435\u0437\u0443\u043b\u044c\u0442\u0430\u0442\u044b:"
      ],
      "metadata": {
        "collapsed": false
      }
    },
    {
      "cell_type": "code",
      "execution_count": 348,
      "outputs": [
        {
          "data": {
            "text/plain": "                 z_1     z_2     x_1      x_2\naplha                                        \n0.1        929192.23 6678.68 7264.10 19999.62\n0.2        929192.23 6678.68 7264.10 19999.62\n0.3        929192.23 6678.68 7264.10 19999.62\n0.4        929192.23 6678.68 7264.10 19999.62\n0.5        929192.23 6678.68 7264.10 19999.62\n0.6        929192.23 6678.68 7264.10 19999.62\n0.7        929192.23 6678.68 7264.10 19999.62\n0.8        929192.23 6678.68 7264.10 19999.62\n0.9        929192.23 6678.68 7264.10 19999.62\ndetermined 929210.64 6678.84 7265.18 19999.26",
            "text/html": "<div>\n<style scoped>\n    .dataframe tbody tr th:only-of-type {\n        vertical-align: middle;\n    }\n\n    .dataframe tbody tr th {\n        vertical-align: top;\n    }\n\n    .dataframe thead th {\n        text-align: right;\n    }\n</style>\n<table border=\"1\" class=\"dataframe\">\n  <thead>\n    <tr style=\"text-align: right;\">\n      <th></th>\n      <th>z_1</th>\n      <th>z_2</th>\n      <th>x_1</th>\n      <th>x_2</th>\n    </tr>\n    <tr>\n      <th>aplha</th>\n      <th></th>\n      <th></th>\n      <th></th>\n      <th></th>\n    </tr>\n  </thead>\n  <tbody>\n    <tr>\n      <th>0.1</th>\n      <td>929192.23</td>\n      <td>6678.68</td>\n      <td>7264.10</td>\n      <td>19999.62</td>\n    </tr>\n    <tr>\n      <th>0.2</th>\n      <td>929192.23</td>\n      <td>6678.68</td>\n      <td>7264.10</td>\n      <td>19999.62</td>\n    </tr>\n    <tr>\n      <th>0.3</th>\n      <td>929192.23</td>\n      <td>6678.68</td>\n      <td>7264.10</td>\n      <td>19999.62</td>\n    </tr>\n    <tr>\n      <th>0.4</th>\n      <td>929192.23</td>\n      <td>6678.68</td>\n      <td>7264.10</td>\n      <td>19999.62</td>\n    </tr>\n    <tr>\n      <th>0.5</th>\n      <td>929192.23</td>\n      <td>6678.68</td>\n      <td>7264.10</td>\n      <td>19999.62</td>\n    </tr>\n    <tr>\n      <th>0.6</th>\n      <td>929192.23</td>\n      <td>6678.68</td>\n      <td>7264.10</td>\n      <td>19999.62</td>\n    </tr>\n    <tr>\n      <th>0.7</th>\n      <td>929192.23</td>\n      <td>6678.68</td>\n      <td>7264.10</td>\n      <td>19999.62</td>\n    </tr>\n    <tr>\n      <th>0.8</th>\n      <td>929192.23</td>\n      <td>6678.68</td>\n      <td>7264.10</td>\n      <td>19999.62</td>\n    </tr>\n    <tr>\n      <th>0.9</th>\n      <td>929192.23</td>\n      <td>6678.68</td>\n      <td>7264.10</td>\n      <td>19999.62</td>\n    </tr>\n    <tr>\n      <th>determined</th>\n      <td>929210.64</td>\n      <td>6678.84</td>\n      <td>7265.18</td>\n      <td>19999.26</td>\n    </tr>\n  </tbody>\n</table>\n</div>"
          },
          "execution_count": 348,
          "metadata": {},
          "output_type": "execute_result"
        }
      ],
      "source": [
        "alpha_values = ['{:.1f}'.format(i) for i in np.arange(0.1, 1, 0.1)]\n",
        "alpha_values.append('determined')\n",
        "\n",
        "all_stochastic_opt_results = stochastic_opt_results + [f7_opt_result]\n",
        "\n",
        "z1_values = [z1(r.args) for r in all_stochastic_opt_results]\n",
        "\n",
        "z2_values = [z2(r.args) for r in all_stochastic_opt_results]\n",
        "\n",
        "x1_values = []\n",
        "x2_values = []\n",
        "for r in all_stochastic_opt_results:\n",
        "    x = r.get_x()\n",
        "    x1_values.append(x[0])\n",
        "    x2_values.append(x[1])\n",
        "\n",
        "stochastic_results_table = DataFrame({\n",
        "    'aplha': alpha_values,\n",
        "    'z_1': z1_values,\n",
        "    'z_2': z2_values,\n",
        "    'x_1': x1_values,\n",
        "    'x_2': x2_values,\n",
        "})\n",
        "stochastic_results_table.set_index('aplha')"
      ],
      "metadata": {
        "collapsed": false
      }
    },
    {
      "cell_type": "markdown",
      "source": [
        "\u0421\u0443\u0434\u044f \u043f\u043e \u043f\u043e\u043b\u0443\u0447\u0435\u043d\u043d\u044b\u043c \u0434\u0430\u043d\u043d\u044b\u043c \u043a\u0430\u043a\u043e\u0439 \u0431\u044b \u043d\u0438 \u0431\u044b\u043b\u0430 \u0434\u043e\u0432\u0435\u0440\u0438\u0442\u0435\u043b\u044c\u043d\u0430\u044f \u0432\u0435\u0440\u043e\u044f\u0442\u043d\u043e\u0441\u0442\u044c $\\alpha$, \u0437\u043d\u0430\u0447\u0435\u043d\u0438\u0435 \u0431\u0443\u0434\u0435\u0442 \u043e\u0434\u043d\u0438\u043c \u0438 \u0442\u0435\u043c \u0436\u0435 \u0438 \u043f\u0440\u0438\u043c\u0435\u0440\u043d\u043e \u0440\u0430\u0432\u043d\u043e \u0437\u043d\u0430\u0447\u0435\u043d\u0438\u044f\u043c, \u043f\u043e\u043b\u0443\u0447\u0435\u043d\u043d\u044b\u0445 \u043f\u0440\u0438 \u0434\u0435\u0442\u0435\u0440\u043c\u0438\u043d\u0438\u0440\u043e\u0432\u0430\u043d\u043d\u043e\u043c \u043e\u0433\u0440\u0430\u043d\u0438\u0447\u0435\u043d\u0438\u0438. \u0415\u0441\u043b\u0438 \u0440\u0430\u0437\u043e\u0431\u0440\u0430\u0442\u044c\u0441\u044f, \u0441\u0442\u0430\u043d\u043e\u0432\u0438\u0442\u0441\u044f \u043f\u043e\u043d\u044f\u0442\u043d\u043e, \u0447\u0442\u043e \u043f\u0440\u043e\u0446\u0435\u0441\u0441 \u043e\u043f\u0442\u0438\u043c\u0438\u0437\u0430\u0446\u0438\u0438 \u0443\u043f\u0438\u0440\u0430\u0435\u0442\u0441\u044f \u0432 \u0432\u0435\u0440\u0445\u043d\u044e\u044e \u0433\u0440\u0430\u043d\u0438\u0446\u0443 \u043f\u0430\u0440\u0430\u043c\u0435\u0442\u0440\u044b $d_2$. \u041f\u0440\u0438 \u044d\u0442\u043e\u043c \u0432\u0441\u0435 \u0443\u0441\u043b\u043e\u0432\u0438\u044f \u0432\u044b\u043f\u043e\u043b\u043d\u044f\u044e\u0442\u0441\u044f, \u0431\u043e\u043b\u0435\u0435 \u0442\u043e\u0433\u043e, \u0443\u0441\u043b\u043e\u0432\u0438\u0435 \u043c\u0438\u043d\u0438\u043c\u0430\u043b\u044c\u043d\u043e \u0432\u043e\u0437\u043c\u043e\u0436\u043d\u043e\u0439 \u043f\u0440\u0438\u0431\u044b\u043b\u0438 \u0434\u0430\u0436\u0435 \u043d\u0435 \u0434\u043e\u0441\u0442\u0438\u0433\u0430\u0435\u0442 \u0441\u0432\u043e\u0435\u0433\u043e \u043f\u043e\u0440\u043e\u0433\u0430.\n",
        "\n",
        "\u0422\u0430\u043a\u0438\u043c \u043e\u0431\u0440\u0430\u0437\u043e\u043c \u043f\u043e\u043b\u0443\u0447\u0430\u0435\u0442\u0441\u044f, \u0447\u0442\u043e \u0440\u0435\u0448\u0435\u043d\u0438\u0435 \u0437\u0430\u0434\u0430\u0447\u0438 \u043c\u0435\u0442\u043e\u0434\u043e\u043c \u0441\u0442\u043e\u0445\u0430\u0441\u0442\u0438\u0447\u0435\u0441\u043a\u043e\u0433\u043e \u043f\u0440\u043e\u0433\u0440\u0430\u043c\u043c\u0438\u0440\u043e\u0432\u0430\u043d\u0438\u044f \u0441 \u0434\u0430\u043d\u043d\u044b\u043c\u0438 \u0443\u0441\u043b\u043e\u0432\u0438\u044f\u043c\u0438 \u043d\u0435 \u043f\u043e\u0437\u0432\u043e\u043b\u044f\u0435\u0442 \u043e\u0446\u0435\u043d\u0438\u0442\u044c \u0432\u043b\u0438\u044f\u043d\u0438\u0435 \u0441\u043b\u0443\u0447\u0430\u0439\u043d\u044b\u0445 \u0432\u0435\u043b\u0438\u0447\u0438\u043d \u0438 \u0434\u043e\u0432\u0435\u0440\u0438\u0442\u0435\u043b\u044c\u043d\u044b\u0445 \u0432\u0435\u0440\u043e\u044f\u0442\u043d\u043e\u0441\u0442\u0435\u0439 \u043d\u0430 \u043a\u0440\u0438\u0442\u0435\u0440\u0438\u0438 \u043e\u043f\u0442\u0438\u043c\u0430\u043b\u044c\u043d\u043e\u0441\u0442\u0438, \u0442.\u043a. \u043f\u0440\u043e\u0446\u0435\u0441\u0441 \u043f\u043e\u0438\u0441\u043a\u0430 \u043e\u043f\u0442\u0438\u043c\u0430\u043b\u044c\u043d\u043e\u0433\u043e \u0440\u0435\u0448\u0435\u043d\u0438\u044f \u043f\u0440\u043e\u0441\u0442\u043e \u043d\u0435 \u0437\u0430\u0442\u0440\u0430\u0433\u0438\u0432\u0430\u0435\u0442 \u0437\u043d\u0430\u0447\u0435\u043d\u0438\u044f \u043f\u0430\u0440\u0430\u043c\u0435\u0442\u0440\u043e\u0432, \u043f\u0440\u0438 \u043a\u043e\u0442\u043e\u0440\u044b\u0445 \u0437\u043d\u0430\u0447\u0435\u043d\u0438\u044f \u043a\u0440\u0438\u0442\u0435\u0440\u0438\u0435\u0432 \u0431\u043b\u0438\u0437\u043a\u0438 \u043a \u043a\u0440\u0438\u0442\u0438\u0447\u0435\u0441\u043a\u0438\u043c."
      ],
      "metadata": {
        "collapsed": false
      }
    },
    {
      "cell_type": "markdown",
      "source": [
        "## \u0412\u044b\u0432\u043e\u0434"
      ],
      "metadata": {
        "collapsed": false
      }
    },
    {
      "cell_type": "markdown",
      "source": [
        "\u0412 \u0434\u0430\u043d\u043d\u043e\u0439 \u0440\u0430\u0431\u043e\u0442\u0435 \u0431\u044b\u043b\u043e \u0440\u0430\u0441\u0441\u043c\u043e\u0442\u0440\u0435\u043d\u043e \u043d\u0435\u0441\u043a\u043e\u043b\u044c\u043a\u043e \u0441\u043f\u043e\u0441\u043e\u0431\u043e\u0432 \u0440\u0435\u0448\u0435\u043d\u0438\u044f \u0437\u0430\u0434\u0430\u0447\u0438 \u043e\u043f\u0442\u0438\u043c\u0438\u0437\u0430\u0446\u0438\u0438 \u043d\u0435\u0441\u043a\u043e\u043b\u044c\u043a\u0438\u0445 \u043a\u0440\u0438\u0442\u0435\u0440\u0438\u0435\u0432.\n",
        "\n",
        "\u0421\u0440\u0435\u0434\u0438 \u043f\u043e\u043b\u0443\u0447\u0435\u043d\u043d\u044b\u0445 \u0440\u0435\u0448\u0435\u043d\u0438\u0439, \u043c\u043e\u0436\u043d\u043e \u0437\u0430\u043c\u0435\u0442\u0438\u0442\u044c \u0441\u043b\u0435\u0434\u0443\u044e\u0449\u0435\u0435:\n",
        "\n",
        "- \u0420\u0435\u0448\u0435\u043d\u0438\u044f \u043c\u0435\u0442\u043e\u0434\u0430\u043c\u0438 \u043c\u0438\u043d\u0438\u043c\u0430\u043a\u0441 \u0438 \u043c\u0443\u043b\u044c\u0442\u0438\u043f\u043b\u0438\u043a\u0430\u0442\u0438\u0432\u043d\u043e\u0439 \u0441\u0432\u0435\u0440\u0442\u043a\u0438 \u043f\u043e\u0447\u0442\u0438 \u0438\u0434\u0435\u043d\u0442\u0438\u0447\u043d\u044b\n",
        "- \u0420\u0435\u0448\u0435\u043d\u0438\u044f \u043c\u0435\u0442\u043e\u0434\u0430\u043c\u0438 \u0432\u044b\u0434\u0435\u043b\u0435\u043d\u0438\u044f \u0433\u043b\u0430\u0432\u043d\u043e\u0433\u043e \u043a\u0440\u0438\u0442\u0435\u0440\u0438\u044f, \u0430\u0434\u0434\u0438\u0442\u0438\u0432\u043d\u043e\u0439 \u0441\u0432\u0435\u0440\u0442\u043a\u0438 \u0438, \u0441\u043e\u043e\u0442\u0432\u0435\u0442\u0441\u0442\u0432\u0435\u043d\u043d\u043e, \u043f\u043e\u0441\u043b\u0435\u0434\u043e\u0432\u0430\u0442\u0435\u043b\u044c\u043d\u044b\u0445 \u0443\u0441\u0442\u0443\u043f\u043e\u043a \u043f\u043e\u0447\u0442\u0438 \u0438\u0434\u0435\u043d\u0442\u0438\u0447\u043d\u044b\n",
        "\n",
        "\u041e\u0431\u0430 \u0441\u0432\u043e\u0439\u0441\u0442\u0432\u0430 \u043e\u0431\u0443\u0441\u043b\u043e\u0432\u043b\u0435\u043d\u044b \u0442\u0435\u043c, \u0447\u0442\u043e \u043a\u0430\u0436\u0434\u0430\u044f \u0433\u0440\u0443\u043f\u043f\u0430 \u043f\u043e\u0434\u0431\u0438\u0440\u0430\u044f \u0441\u043e\u043e\u0442\u0432\u0435\u0442\u0441\u0442\u0432\u0443\u044e\u0449\u0438\u0435 \u043e\u0433\u0440\u0430\u043d\u0438\u0447\u0435\u043d\u0438\u044f\u043c \u043f\u0430\u0440\u0430\u043c\u0435\u0442\u0440\u044b, \u0434\u0430\u044e\u0449\u0438\u0435 \u043b\u0443\u0447\u0448\u0438\u0435 \u0440\u0435\u0437\u0443\u043b\u044c\u0442\u0430\u0442\u044b \u043f\u043e \u043e\u0434\u043d\u043e\u043c\u0443 \u0438\u0437 \u043a\u0440\u0438\u0442\u0435\u0440\u0438\u0435\u0432. \u0412 \u0441\u043b\u0443\u0447\u0430\u0435 1\u0439 \u0433\u0440\u0443\u043f\u043f\u044b \u044d\u0442\u043e \u043c\u0430\u043a\u0441\u0438\u043c\u0438\u0437\u0430\u0446\u0438\u044f \u043f\u0440\u0438\u0431\u044b\u043b\u0438, \u0430 \u0432 \u0441\u043b\u0443\u0447\u0430\u0435 2\u0439 \u2013 \u043c\u0438\u043d\u0438\u043c\u0438\u0437\u0430\u0446\u0438\u044f \u0437\u0430\u0442\u0440\u0430\u0442.\n",
        "\n",
        "\u041c\u0435\u0442\u043e\u0434\u0430\u043c\u0438 goal attain \u0438 \u043c\u0435\u0442\u0440\u0438\u043a \u043a\u0440\u0438\u0442\u0435\u0440\u0438\u0435\u0432 \u0434\u0430\u044e\u0442 \u0440\u0435\u0448\u0435\u043d\u0438\u044f \u0441 \u0443\u0441\u0440\u0435\u0434\u043d\u0435\u043d\u043d\u044b\u043c\u0438 \u0440\u0435\u0437\u0443\u043b\u044c\u0442\u0430\u0442\u0430\u043c\u0438 \u043a\u0440\u0438\u0442\u0435\u0440\u0438\u0435\u0432.\n",
        "\n",
        "\u0411\u044b\u043b\u0430 \u043f\u043e\u043f\u044b\u0442\u043a\u0430 \u043f\u0440\u043e\u0430\u043d\u0430\u043b\u0438\u0437\u0438\u0440\u043e\u0432\u0430\u0442\u044c \u0440\u0435\u0448\u0435\u043d\u0438\u044f \u0437\u0430\u0434\u0430\u0447\u0438 \u0441 \u0432\u0435\u0440\u043e\u044f\u0442\u043d\u043e\u0441\u0442\u043d\u044b\u043c \u043e\u0433\u0440\u0430\u043d\u0438\u0447\u0435\u043d\u0438\u0435\u043c \u043c\u0435\u0442\u043e\u0434\u043e\u043c \u0441\u0442\u043e\u0445\u0430\u0441\u0442\u0438\u0447\u0435\u0441\u043a\u043e\u0433\u043e \u043f\u0440\u043e\u0433\u0440\u0430\u043c\u043c\u0438\u0440\u043e\u0432\u0430\u043d\u0438\u044f, \u043e\u0434\u043d\u0430\u043a\u043e \u0438\u0437-\u0437\u0430 \u0442\u043e\u0433\u043e, \u0447\u0442\u043e \u0432\u043d\u0435 \u0437\u0430\u0432\u0438\u0441\u0438\u043c\u043e\u0441\u0442\u0438 \u043e\u0442 \u0432\u0435\u0440\u043e\u044f\u0442\u043d\u043e\u0441\u0442\u043d\u043e\u0439 \u0441\u043e\u0441\u0442\u0430\u0432\u043b\u044f\u044e\u0449\u0435\u0439, \u0440\u0435\u0448\u0435\u043d\u0438\u044f \u0443\u043f\u0438\u0440\u0430\u044e\u0442\u0441\u044f \u0432 \u0434\u0440\u0443\u0433\u0438\u0435 \u043e\u0433\u0440\u0430\u043d\u0438\u0447\u0435\u043d\u0438\u044f."
      ],
      "metadata": {
        "collapsed": false
      }
    }
  ],
  "metadata": {
    "kernelspec": {
      "display_name": "Python 3",
      "language": "python",
      "name": "python3"
    },
    "language_info": {
      "codemirror_mode": {
        "name": "ipython",
        "version": 2
      },
      "file_extension": ".py",
      "mimetype": "text/x-python",
      "name": "python",
      "nbconvert_exporter": "python",
      "pygments_lexer": "ipython2",
      "version": "2.7.6"
    }
  },
  "nbformat": 4,
  "nbformat_minor": 0
}