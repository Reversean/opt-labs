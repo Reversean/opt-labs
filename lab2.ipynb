{
 "cells": [
  {
   "cell_type": "markdown",
   "source": [
    "{{ badge }}"
   ],
   "metadata": {
    "collapsed": false
   }
  },
  {
   "cell_type": "markdown",
   "source": [
    "# Расчетное задание 2"
   ],
   "metadata": {
    "collapsed": false
   }
  },
  {
   "cell_type": "markdown",
   "source": [
    "## Марковские модели принятия решений"
   ],
   "metadata": {
    "collapsed": false
   }
  },
  {
   "cell_type": "markdown",
   "source": [
    "Выполнил студент гр. 3540901/21501 Лихолетов М.Д.\n",
    "\n",
    "Руководитель, к.т.н., доц. Сиднев А.Г."
   ],
   "metadata": {
    "collapsed": false
   }
  },
  {
   "cell_type": "markdown",
   "source": [
    "## Задача"
   ],
   "metadata": {
    "collapsed": false
   }
  },
  {
   "cell_type": "markdown",
   "source": [
    "Пример 5, стр. 272, из книги Макарова И.М. \"Теория выбора и принятия решений\".\n",
    "\n",
    "Пусть имеется машина (станок), которая обслуживается периодически один раз в час. В каждый момент она может находиться в одном из двух состояний: рабочем (состояние 1) и нерабочем (состояние 2). Если машина на некотором шаге проработала непрерывно 1 час, то доход равен 3 рублям. При этом вероятность остаться на следующем шаге в состоянии 1 равна 0.7, а вероятность перейти в состояние 2 равна 0.3. Если машина отказала на некотором шаге, то ее можно отремонтировать двумя способами. Первый является ускоренным, требует затрат в 2 рубля (доход равен -2) и обеспечивает переход в состояние 1 с вероятностью 0.6. Второй, обычный способ требует затрат в 1 рубль и обеспечивает переход в состояние 1 с вероятностью 0.4.\n",
    "\n",
    "Требуется найти оптимальную стратегию для $N = \\infty$  методом итераций по стратегиям."
   ],
   "metadata": {
    "collapsed": false
   }
  },
  {
   "cell_type": "markdown",
   "source": [
    "## Формирование параметров задачи"
   ],
   "metadata": {
    "collapsed": false
   }
  },
  {
   "cell_type": "markdown",
   "source": [
    "Машина может находиться в одном из двух состояниях:\n",
    "\n",
    "- Рабочее ($S_1$)\n",
    "- Нерабочее ($S_2$)"
   ],
   "metadata": {
    "collapsed": false
   }
  },
  {
   "cell_type": "markdown",
   "source": [
    "Для машины можно предпринимать следующие решения:\n",
    "\n",
    "1. Ничего не делать ($X_1$)\n",
    "2. Осуществить ускоренный ремонт ($X_2$)\n",
    "3. Осуществить обычный ремонт ($X_3$)"
   ],
   "metadata": {
    "collapsed": false
   }
  },
  {
   "cell_type": "markdown",
   "source": [
    "Матрицы переходных вероятностей, соответствующие состояниям и решениям выше:\n",
    "\n",
    "\\begin{gather}\n",
    "    P(i | X_{l_{i - 1}}) \\equiv\n",
    "    \\begin{cases}\n",
    "        P_1, \\quad X_{l_{i - 1}} = X_1\\\\\n",
    "        P_2, \\quad X_{l_{i - 1}} = X_2\\\\\n",
    "        P_3, \\quad X_{l_{i - 1}} = X_3\n",
    "    \\end{cases}\n",
    "\\end{gather}\n",
    "\n",
    "$$\n",
    "P_1 =\n",
    "\\begin{bmatrix}\n",
    "    0.7 & 0.3\\\\\n",
    "    0 & 0\n",
    "\\end{bmatrix}\n",
    "\\quad\n",
    "P_2 =\n",
    "\\begin{bmatrix}\n",
    "    0 & 0\\\\\n",
    "    0.6 & 0.4\n",
    "\\end{bmatrix}\n",
    "\\quad\n",
    "P_3 =\n",
    "\\begin{bmatrix}\n",
    "    0 & 0\\\\\n",
    "    0.4 & 0.6\n",
    "\\end{bmatrix}\n",
    "$$\n",
    "\n",
    "где $P(i | X_{l_{i - 1}})$ – матрица переходов, применяемая на этапе $i$ на основе решения, принятого на этапе $i-1$, $X_{l_{i-1}}$ – решение, принятое на этапе $i$."
   ],
   "metadata": {
    "collapsed": false
   }
  },
  {
   "cell_type": "markdown",
   "source": [
    "Матрицы доходов:\n",
    "\n",
    "\\begin{gather}\n",
    "    R(i | X_{l_{i - 1}}) \\equiv\n",
    "    \\begin{cases}\n",
    "        R_1, \\quad X_{l_{i - 1}} = X_1\\\\\n",
    "        R_2, \\quad X_{l_{i - 1}} = X_2\\\\\n",
    "        R_3, \\quad X_{l_{i - 1}} = X_3\n",
    "    \\end{cases}\n",
    "\\end{gather}\n",
    "\n",
    "$$\n",
    "R_1 =\n",
    "\\begin{bmatrix}\n",
    "    3 & 3\\\\\n",
    "    0 & 0\n",
    "\\end{bmatrix}\n",
    "\\quad\n",
    "R_2 =\n",
    "\\begin{bmatrix}\n",
    "    0 & 0\\\\\n",
    "    -2 & -2\n",
    "\\end{bmatrix}\n",
    "\\quad\n",
    "R_3 =\n",
    "\\begin{bmatrix}\n",
    "    0 & 0\\\\\n",
    "    -1 & -1\n",
    "\\end{bmatrix}\n",
    "$$\n",
    "\n",
    "\n",
    "где $R(i | X_{l_{i - 1}})$ – матрица доходов, применяемая на этапе $i$ на основе решения, принятого на этапе $i-1$, $X_{l_{i-1}}$ – решение, принятое на этапе $i$."
   ],
   "metadata": {
    "collapsed": false
   }
  },
  {
   "cell_type": "markdown",
   "source": [
    "Требуется найти оптимальную стратегию $\\tau$ – вектор решений, которые будут применены при соответствующих состояниях.\n",
    "\n",
    "В текущих условиях могут быть предложены следующие стационарные стратегии:\n",
    "\n",
    "- ускоренный ремонт в случае поломки ($\\tau_1 = \\{ X_1, X_2 \\}$)\n",
    "- обычный ремонт в случае поломки ($\\tau_2 = \\{ X_1, X_3 \\}$)"
   ],
   "metadata": {
    "collapsed": false
   }
  },
  {
   "cell_type": "markdown",
   "source": [
    "Задачу поиска оптимальной стратегии на бесконечном горизонте событий методом итераций по стратегиям можно сформулировать как максимизацию ожидаемого дохода:\n",
    "\n",
    "\\begin{gather}\n",
    "E + F(j) = \\nu_j + \\sum_{k = 1}^m{p_{jk} F(k)}\\\\\n",
    "\\nu_j = \\sum_{k = 1}^m{p_{jk} r_{jk}}\\\\\n",
    "j = \\overline{1, m}\\\\\n",
    "m = 2\n",
    "\\end{gather}\n",
    "\n",
    "где $E$ – ожидаемый доход за один этап безотносительно к состоянию на следующем этапе, $F(j)$ – ожидаемый доход, если на следующем этапе будет осуществлен переход в состояние $S_j$, $\\nu_j$ – ожидаемый доход относительно состояния на предыдущем этапе, если на следующем этапе будет осуществлен переход в состояние $S_j$, $p_{jk}$ – вероятность перехода из состояния $S_j$ в состояние $S_k$, $r_{jk}$ – доход при соответствующем переходе, $m$ – количество возможных состояний."
   ],
   "metadata": {
    "collapsed": false
   }
  },
  {
   "cell_type": "markdown",
   "source": [
    "Итерационный процесс поиска решения состоит из 2 этапов:\n",
    "\n",
    "1. Этап оценивания параметров\n",
    "2. Этап улучшения стратегии"
   ],
   "metadata": {
    "collapsed": false
   }
  },
  {
   "cell_type": "markdown",
   "source": [
    "## 1 Итерация"
   ],
   "metadata": {
    "collapsed": false
   }
  },
  {
   "cell_type": "markdown",
   "source": [
    "### Этап оценивания параметров"
   ],
   "metadata": {
    "collapsed": false
   }
  },
  {
   "cell_type": "markdown",
   "source": [
    "На этапе оценивания требуется для рассматриваемой стратегии найти составляющие ожидаемого дохода ($E_{\\tau}$ и $F_{\\tau}(k)$), т.е. решить систему уравнений:\n",
    "\n",
    "\\begin{gather}\n",
    "E_{\\tau} + F_{\\tau}(j) - \\sum_{k=1}^{m} p_{jk}(\\tau) F_{\\tau}(k) = \\nu_j(\\tau)\\\\\n",
    "\\nu_j(\\tau) = \\sum_{k=1}^{m} p_{jk}(\\tau) r_{jk}(\\tau)\\\\\n",
    "j = \\overline{1, m}\\\\\n",
    "F_{\\tau}(m) = 0\\\\\n",
    "m = 2\n",
    "\\end{gather}\n",
    "\n",
    "где $\\tau$ – произвольная стратегия."
   ],
   "metadata": {
    "collapsed": false
   }
  },
  {
   "cell_type": "markdown",
   "source": [
    "Начать можно с решения системы уравнений для оценивания стратегии $\\tau_1 = { X_1, X_2 }$ (ускоренный ремонт в случае поломки)."
   ],
   "metadata": {
    "collapsed": false
   }
  },
  {
   "cell_type": "markdown",
   "source": [
    "Матрицы вероятностей и доходов соответственно:\n",
    "\n",
    "$$\n",
    "P =\n",
    "\\begin{bmatrix}\n",
    "    0.7 & 0.3\\\\\n",
    "    0.6 & 0.4\n",
    "\\end{bmatrix}\n",
    "\\quad\n",
    "R =\n",
    "\\begin{bmatrix}\n",
    "    3 & 3\\\\\n",
    "    -2 & -2\n",
    "\\end{bmatrix}\n",
    "$$"
   ],
   "metadata": {
    "collapsed": false
   }
  },
  {
   "cell_type": "markdown",
   "source": [
    "Система уравнений для оценивания стратегии $\\tau_1$:\n",
    "\n",
    "\\begin{cases}\n",
    "    E_{\\tau_1} + 0.3 F_{\\tau_1}(1) = 3\\\\\n",
    "    E_{\\tau_1} - 0.6 F_{\\tau_1}(1) = -2\n",
    "\\end{cases}"
   ],
   "metadata": {
    "collapsed": false
   }
  },
  {
   "cell_type": "markdown",
   "source": [
    "Функция для решения системы уравнений оценки стратегии:"
   ],
   "metadata": {
    "collapsed": false
   }
  },
  {
   "cell_type": "code",
   "execution_count": 1,
   "outputs": [],
   "source": [
    "from sympy import symbols, solve\n",
    "\n",
    "E = symbols('E')\n",
    "F = symbols('F')\n",
    "\n",
    "\n",
    "def solve_eval(eq1, eq2):\n",
    "    solving_result = solve([eq1, eq2], [E, F], dict=True)[0]\n",
    "    result = dict((k, float(v)) for (k, v) in solving_result.items())\n",
    "    print('E = {:.2f}'.format(result[E]))\n",
    "    print('F = {:.2f}'.format(result[F]))\n",
    "    return result"
   ],
   "metadata": {
    "collapsed": false
   }
  },
  {
   "cell_type": "markdown",
   "source": [
    "Решение системы уравнений для стратегии $\\tau_1$:"
   ],
   "metadata": {
    "collapsed": false
   }
  },
  {
   "cell_type": "code",
   "execution_count": 2,
   "outputs": [
    {
     "name": "stdout",
     "output_type": "stream",
     "text": [
      "E = 1.33\n",
      "F = 5.56\n"
     ]
    }
   ],
   "source": [
    "eval1 = solve_eval(E + 0.3 * F - 3, E - 0.6 * F + 2)"
   ],
   "metadata": {
    "collapsed": false
   }
  },
  {
   "cell_type": "markdown",
   "source": [
    "### Этап улучшения стратегии"
   ],
   "metadata": {
    "collapsed": false
   }
  },
  {
   "cell_type": "markdown",
   "source": [
    "На этапе улучшения стратегии требуется для каждого состояния найти допустимое решение, при котором достигается максимальный суммарный ожидаемый доход с учетом значений ожидаемого дохода, определенных на этапе оценивания:\n",
    "\n",
    "\\begin{gather}\n",
    "    \\max_{X_i} \\bigg( \\nu_j(X_i) + \\sum_{k=1}^m p_{jk}(X_i) F_{\\tau}(k) \\bigg)\\\\\n",
    "    \\nu_j(X_i) = \\sum_{k=1}^{m} p_{jk}(X_i) r_{jk}(\\tau)\\\\\n",
    "    j = \\overline{1, m}\\\\\n",
    "    i = \\overline{1, s}\\\\\n",
    "    F_{\\tau}(m) = 0\\\\\n",
    "    m = 2\\\\\n",
    "    s = 3\n",
    "\\end{gather}"
   ],
   "metadata": {
    "collapsed": false
   }
  },
  {
   "cell_type": "markdown",
   "source": [
    "Ожидаемые доходы для соответствующих состояний и решений при применении стратегии $\\tau_1$:"
   ],
   "metadata": {
    "collapsed": false
   }
  },
  {
   "cell_type": "code",
   "execution_count": 3,
   "outputs": [
    {
     "data": {
      "text/plain": "         X1        X2        X3\nS                              \n1  6.888889  0.000000  0.000000\n2  0.000000  1.333333  1.222222",
      "text/html": "<div>\n<style scoped>\n    .dataframe tbody tr th:only-of-type {\n        vertical-align: middle;\n    }\n\n    .dataframe tbody tr th {\n        vertical-align: top;\n    }\n\n    .dataframe thead th {\n        text-align: right;\n    }\n</style>\n<table border=\"1\" class=\"dataframe\">\n  <thead>\n    <tr style=\"text-align: right;\">\n      <th></th>\n      <th>X1</th>\n      <th>X2</th>\n      <th>X3</th>\n    </tr>\n    <tr>\n      <th>S</th>\n      <th></th>\n      <th></th>\n      <th></th>\n    </tr>\n  </thead>\n  <tbody>\n    <tr>\n      <th>1</th>\n      <td>6.888889</td>\n      <td>0.000000</td>\n      <td>0.000000</td>\n    </tr>\n    <tr>\n      <th>2</th>\n      <td>0.000000</td>\n      <td>1.333333</td>\n      <td>1.222222</td>\n    </tr>\n  </tbody>\n</table>\n</div>"
     },
     "execution_count": 3,
     "metadata": {},
     "output_type": "execute_result"
    }
   ],
   "source": [
    "from pandas import DataFrame\n",
    "\n",
    "improve_table = DataFrame({\n",
    "    'S': range(1, 3),\n",
    "    'X1': [3 + 0.7 * eval1[F], 0],\n",
    "    'X2': [0, -2 + 0.6 * eval1[F]],\n",
    "    'X3': [0, -1 + 0.4 * eval1[F]]\n",
    "})\n",
    "improve_table.set_index('S')"
   ],
   "metadata": {
    "collapsed": false
   }
  },
  {
   "cell_type": "markdown",
   "source": [
    "Оптимальным решением для состояния $S_1$ очевидно будет решение $X_1$, а для $S_2$ соответственно решение $X_2$.\n",
    "\n",
    "Полученная стратегия полностью совпадает со стратегией $\\tau_1$, а значит за одну итерацию удалось найти оптимальную стратегию."
   ],
   "metadata": {
    "collapsed": false
   }
  },
  {
   "cell_type": "markdown",
   "source": [
    "## Вывод"
   ],
   "metadata": {
    "collapsed": false
   }
  },
  {
   "cell_type": "markdown",
   "source": [
    "В данной работе было рассмотрен метод итерации по стратегиям для решения марковской задачи принятия решения.\n",
    "\n",
    "Т.к. по условиям имеется всего 2 адекватные стратегии, задача является довольно тривиальной, и удалось за одну итерацию найти оптимальную стратегию.\n",
    "\n",
    "Стоит добавить, что если бы в первой итерации была бы выбрана стратегия $\\{ X_1, X_3 \\}$, то скорее всего на этапе улучшения стратегии полученная стратегия оказалась бы отличной от рассматриваемой, и пришлось бы проводить еще одну итерацию, рассмотренную в данном отчете."
   ],
   "metadata": {
    "collapsed": false
   }
  }
 ],
 "metadata": {
  "kernelspec": {
   "display_name": "Python 3",
   "language": "python",
   "name": "python3"
  },
  "language_info": {
   "codemirror_mode": {
    "name": "ipython",
    "version": 2
   },
   "file_extension": ".py",
   "mimetype": "text/x-python",
   "name": "python",
   "nbconvert_exporter": "python",
   "pygments_lexer": "ipython2",
   "version": "2.7.6"
  }
 },
 "nbformat": 4,
 "nbformat_minor": 0
}
