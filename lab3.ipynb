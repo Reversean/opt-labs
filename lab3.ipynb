{
  "cells": [
    {
      "cell_type": "markdown",
      "source": [
        "<!--<badge>--><a href=\"https://colab.research.google.com/github/Reversean/opt-labs/blob/main/lab3.ipynb\" target=\"_parent\"><img src=\"https://colab.research.google.com/assets/colab-badge.svg\" alt=\"Open In Colab\"/></a><!--</badge>-->"
      ],
      "metadata": {
        "collapsed": false
      }
    },
    {
      "cell_type": "markdown",
      "source": [
        "# \u0420\u0430\u0441\u0447\u0435\u0442\u043d\u043e\u0435 \u0437\u0430\u0434\u0430\u043d\u0438\u0435 3"
      ],
      "metadata": {
        "collapsed": false
      }
    },
    {
      "cell_type": "markdown",
      "source": [
        "## \u041e\u043f\u0442\u0438\u043c\u0438\u0437\u0430\u0446\u0438\u044f \u0421\u0421\u041c\u041e"
      ],
      "metadata": {
        "collapsed": false
      }
    },
    {
      "cell_type": "markdown",
      "source": [
        "\u0412\u044b\u043f\u043e\u043b\u043d\u0438\u043b \u0441\u0442\u0443\u0434\u0435\u043d\u0442 \u0433\u0440. 3540901/21501 \u041b\u0438\u0445\u043e\u043b\u0435\u0442\u043e\u0432 \u041c.\u0414.\n",
        "\n",
        "\u0420\u0443\u043a\u043e\u0432\u043e\u0434\u0438\u0442\u0435\u043b\u044c, \u043a.\u0442.\u043d., \u0434\u043e\u0446. \u0421\u0438\u0434\u043d\u0435\u0432 \u0410.\u0413."
      ],
      "metadata": {
        "collapsed": false
      }
    },
    {
      "cell_type": "markdown",
      "source": [
        "## \u0417\u0430\u0434\u0430\u043d\u0438\u0435"
      ],
      "metadata": {
        "collapsed": false
      }
    },
    {
      "cell_type": "markdown",
      "source": [
        "**\u0412\u0430\u0440\u0438\u0430\u043d\u0442 142**"
      ],
      "metadata": {
        "collapsed": false
      }
    },
    {
      "cell_type": "markdown",
      "source": [
        "\u041e\u043f\u0442\u0438\u043c\u0438\u0437\u0430\u0446\u0438\u044f \u043e\u0434\u043d\u043e\u043a\u0430\u043d\u0430\u043b\u044c\u043d\u043e\u0439 \u043d\u0435\u043c\u0430\u0440\u043a\u043e\u0432\u0441\u043a\u043e\u0439 \u0441\u0435\u0442\u0438.\n",
        "\n",
        "\\begin{gather}\n",
        "    ca_0 = 0.49\\\\\n",
        "    \\lambda_0 = 24\\\\\n",
        "    \\mu = 800\\\\\n",
        "    \\{ \u0441s_j \\} = \\{ 0.25, 0.25, 0.25, 0.25 \\}\n",
        "\\end{gather}\n",
        "\n",
        "$$\n",
        "Q = \\{ q_{ij} \\}_{\\substack{i = \\overline{0,n} \\\\ j = \\overline{0,n}}} =\n",
        "\\begin{bmatrix}\n",
        "    0 & 0.1 & 0.1 & 0.5 & 0.3 \\\\\n",
        "    0.1 & 0 & 0.1 & 0.3 & 0.5 \\\\\n",
        "    0.2 & 0.1 & 0 & 0.5 & 0.2 \\\\\n",
        "    0 & 0.2 & 0.5 & 0 & 0.3 \\\\\n",
        "    0 & 0.2 & 0.3 & 0.4 & 0.1 \\\\\n",
        "\\end{bmatrix}\n",
        "$$\n",
        "\n",
        "\u0433\u0434\u0435 $n$ \u2013 \u0447\u0438\u0441\u043b\u043e \u0443\u0437\u043b\u043e\u0432 \u0441\u0435\u0442\u0438, $ca_0$ \u2013 \u043a\u0432\u0430\u0434\u0440\u0430\u0442 \u043a\u043e\u044d\u0444\u0444\u0438\u0446\u0438\u0435\u043d\u0442\u0430 \u0432\u0430\u0440\u0438\u0430\u0446\u0438\u0438 \u0432\u0445\u043e\u0434\u043d\u043e\u0433\u043e \u043f\u0440\u043e\u0442\u043e\u043a\u0430, $\\{ cs_j \\}$ \u2013 \u0432\u0435\u043a\u0442\u043e\u0440 \u043a\u0432\u0430\u0434\u0440\u0430\u0442\u043e\u0432 \u043a\u043e\u044d\u0444\u0444\u0438\u0446\u0438\u0435\u043d\u0442\u043e\u0432 \u0432\u0430\u0440\u0438\u0430\u0446\u0438\u0438 \u0437\u0430\u043a\u043e\u043d\u043e\u0432 \u043e\u0431\u0441\u043b\u0443\u0436\u0438\u0432\u0430\u043d\u0438\u044f \u0432 \u0443\u0437\u043b\u0430\u0445 \u0441\u0435\u0442\u0438, $q_{ij}$ \u2013 \u0432\u0435\u0440\u043e\u044f\u0442\u043d\u043e\u0441\u0442\u044c \u043f\u0435\u0440\u0435\u0445\u043e\u0434\u0430 \u0437\u0430\u044f\u0432\u043a\u0438 \u043d\u0430 \u0443\u0437\u0435\u043b $j$ \u043f\u043e\u0441\u043b\u0435 \u0442\u043e\u0433\u043e, \u043a\u0430\u043a \u0434\u0430\u043d\u043d\u0443\u044e \u0437\u0430\u044f\u0432\u043a\u0443 \u043e\u0431\u0440\u0430\u0431\u043e\u0442\u0430\u043b \u0443\u0437\u0435\u043b $i$, $\\mu$ \u2013 \u043e\u0436\u0438\u0434\u0430\u0435\u043c\u043e\u0435 \u0432\u0440\u0435\u043c\u044f \u043e\u0431\u0441\u043b\u0443\u0436\u0438\u0432\u0430\u043d\u0438\u044f \u0437\u0430\u044f\u0432\u043a\u0438 \u043e\u0434\u043d\u0438\u043c \u0443\u0437\u043b\u043e\u043c, $\\lambda_0$ \u2013 \u043e\u0436\u0438\u0434\u0430\u0435\u043c\u043e\u0435 \u0432\u0440\u0435\u043c\u044f \u043f\u043e\u0441\u0442\u0443\u043f\u043b\u0435\u043d\u0438\u044f \u0437\u0430\u044f\u0432\u043a\u0438 \u043d\u0430 \u0443\u0437\u0435\u043b 0.\n",
        "\n",
        "\u041f\u0443\u0441\u0442\u044c \u0437\u0430\u044f\u0432\u043a\u0430 \u0438\u0437 0-\u0433\u043e \u0443\u0437\u043b\u0430 \u0441 \u0432\u0435\u0440\u043e\u044f\u0442\u043d\u043e\u0441\u0442\u044c\u044e 1 \u043f\u043e\u0441\u0442\u0443\u043f\u0430\u0435\u0442 \u0432 \u043e\u0434\u0438\u043d \u0438\u0437 \u0443\u0437\u043b\u043e\u0432 \u0441\u0435\u0442\u0438. \u0422\u043e \u0435\u0441\u0442\u044c \u0432 \u043c\u0430\u0442\u0440\u0438\u0446\u0435 \u043f\u0435\u0440\u0435\u0434\u0430\u0447 $Q$ \u0432\u0441\u0435 \u044d\u043b\u0435\u043c\u0435\u043d\u0442\u044b 0-\u0439 \u0441\u0442\u0440\u043e\u043a\u0438 \u043a\u0440\u043e\u043c\u0435 \u043d\u0435\u043a\u043e\u0442\u043e\u0440\u043e\u0433\u043e \u044d\u043b\u0435\u043c\u0435\u043d\u0442\u0430 $l$, \u0440\u0430\u0432\u043d\u043e\u0433\u043e 1, \u0440\u0430\u0432\u043d\u044b 0, \u0442\u043e\u0433\u0434\u0430 $ca_0 = ca_{0l}$. \u0415\u0441\u043b\u0438 \u0437\u0430\u044f\u0432\u043a\u0430 \u0438\u0437 0-\u0433\u043e \u0443\u0437\u043b\u0430 \u043f\u043e\u0441\u0442\u0443\u043f\u0430\u0435\u0442 \u0431\u043e\u043b\u0435\u0435, \u0447\u0435\u043c \u0432 \u043e\u0434\u0438\u043d \u0443\u0437\u0435\u043b, \u0442\u043e \u0438 \u0432 \u044d\u0442\u043e\u043c \u0441\u043b\u0443\u0447\u0430\u0435 \u043f\u0440\u0435\u0434\u043f\u043e\u043b\u0430\u0433\u0430\u0435\u0442\u0441\u044f, \u0447\u0442\u043e $ca_{0l} = ca_0, \\, l = \\overline{1,n}$.\n",
        "\n",
        "\u0422\u0440\u0435\u0431\u0443\u0435\u0442\u0441\u044f \u043c\u0438\u043d\u0438\u043c\u0438\u0437\u0438\u0440\u043e\u0432\u0430\u0442\u044c \u0441\u0443\u043c\u043c\u0430\u0440\u043d\u043e\u0435 \u0447\u0438\u0441\u043b\u043e \u0437\u0430\u044f\u0432\u043e\u043a \u0432 \u0441\u0435\u0442\u0438 $L(\\mu)$ \u043f\u0440\u0438 \u043e\u0433\u0440\u0430\u043d\u0438\u0447\u0435\u043d\u0438\u0438 \u043d\u0430 \u0441\u0443\u043c\u043c\u0430\u0440\u043d\u0443\u044e \u0438\u043d\u0442\u0435\u043d\u0441\u0438\u0432\u043d\u043e\u0441\u0442\u044c \u043e\u0431\u0441\u043b\u0443\u0436\u0438\u0432\u0430\u043d\u0438\u044f \u0432 \u0443\u0437\u043b\u0430\u0445 $\\mu$:\n",
        "\n",
        "\\begin{gather}\n",
        "    min L(\\mu) = \\sum_{j=1}^n L_j\\\\\n",
        "    \\mu = \\sum_j^n \\mu_j\n",
        "\\end{gather}"
      ],
      "metadata": {
        "collapsed": false
      }
    },
    {
      "cell_type": "markdown",
      "source": [
        "\u0414\u0430\u043d\u043d\u0430\u044f \u0437\u0430\u0434\u0430\u0447\u0430 \u043e\u0442\u043d\u043e\u0441\u0438\u0442\u0441\u044f \u043a \u043a\u043b\u0430\u0441\u0441\u0443 \u0437\u0430\u0434\u0430\u0447 SP2.1/G/S/R. \u0410\u043b\u0433\u043e\u0440\u0438\u0442\u043c \u0440\u0435\u0448\u0435\u043d\u0438\u044f \u0437\u0430\u0434\u0430\u0447\u0438 \u0441\u043e\u0441\u0442\u043e\u0438\u0442 \u0438\u0437 \u0441\u043b\u0435\u0434\u0443\u044e\u0449\u0438\u0445 \u044d\u0442\u0430\u043f\u043e\u0432:\n",
        "\n",
        "1. \u041f\u043e\u0438\u0441\u043a \u0432\u0435\u0440\u043e\u044f\u0442\u043d\u043e\u0433\u043e \u0440\u0430\u0441\u043f\u0440\u0435\u0434\u0435\u043b\u0435\u043d\u0438\u044f $\\mu_j = \\mu_j^0$ \u0438 \u0432\u044b\u0447\u0438\u0441\u043b\u0435\u043d\u0438\u0435 $ca_j$ \u0438 $cs_j$\n",
        "2. \u0418\u0442\u0435\u0440\u0430\u0442\u0438\u0432\u043d\u044b\u0439 \u043f\u043e\u0438\u0441\u043a \u043c\u0438\u043d\u0438\u043c\u0430\u043b\u044c\u043d\u043e\u0433\u043e \u0441\u0443\u043c\u043c\u0430\u0440\u043d\u043e\u0433\u043e \u0447\u0438\u0441\u043b\u0430 \u0437\u0430\u044f\u0432\u043e\u043a $L(\\mu)$"
      ],
      "metadata": {
        "collapsed": false
      }
    },
    {
      "cell_type": "markdown",
      "source": [
        "## 1. \u041f\u043e\u0438\u0441\u043a \u0434\u043e\u043f\u0443\u0441\u0442\u0438\u043c\u043e\u0433\u043e \u0440\u0435\u0448\u0435\u043d\u0438\u044f"
      ],
      "metadata": {
        "collapsed": false
      }
    },
    {
      "cell_type": "markdown",
      "source": [
        "\u0421\u043a\u043e\u0440\u043e\u0441\u0442\u044c \u043f\u043e\u0441\u0442\u0443\u043f\u043b\u0435\u043d\u0438\u044f \u0437\u0430\u044f\u0432\u043e\u043a \u0432 \u0443\u0437\u0435\u043b $j$ \u043c\u043e\u0436\u043d\u043e \u0440\u0430\u0441\u0441\u0447\u0438\u0442\u0430\u0442\u044c \u0441\u043b\u0435\u0434\u0443\u044e\u0449\u0438\u043c \u043e\u0431\u0440\u0430\u0437\u043e\u043c:\n",
        "\n",
        "$$\n",
        "\\lambda_j = \\sum_{i=0}^n q_{ij} \\lambda_i\n",
        "$$\n",
        "\n",
        "\u0433\u0434\u0435 $lambda_j$ \u2013 \u043e\u0436\u0438\u0434\u0430\u0435\u043c\u043e\u0435 \u0432\u0440\u0435\u043c\u044f \u043f\u043e\u0441\u0442\u0443\u043f\u043b\u0435\u043d\u0438\u044f \u0437\u0430\u044f\u0432\u043a\u0438 \u043d\u0430 \u0443\u0437\u0435\u043b $j$."
      ],
      "metadata": {
        "collapsed": false
      }
    },
    {
      "cell_type": "markdown",
      "source": [
        "\u0417\u043d\u0430\u044f $Q$ \u0438 $\\lambda_0$, \u043f\u043e\u043b\u0443\u0447\u0430\u0435\u0442\u0441\u044f \u0441\u043b\u0435\u0434\u0443\u044e\u0449\u0430\u044f \u0441\u0438\u0441\u0442\u0435\u043c\u0430 \u0443\u0440\u0430\u0432\u043d\u0435\u043d\u0438\u0439:\n",
        "\n",
        "$$\n",
        "Q = \\{ q_{ij} \\}_{\\substack{i = \\overline{0,n} \\\\ j = \\overline{0,n}}} =\n",
        "\\begin{bmatrix}\n",
        "    0 & 0.1 & 0.1 & 0.5 & 0.3 \\\\\n",
        "    0.1 & 0 & 0.1 & 0.3 & 0.5 \\\\\n",
        "    0.2 & 0.1 & 0 & 0.5 & 0.2 \\\\\n",
        "    0 & 0.2 & 0.5 & 0 & 0.3 \\\\\n",
        "    0 & 0.2 & 0.3 & 0.4 & 0.1 \\\\\n",
        "\\end{bmatrix}\n",
        "; \\quad\n",
        "\\begin{cases}\n",
        "    \\lambda_0 = 24\\\\\n",
        "    \\lambda_1 = 0.1 \\lambda_0 + 0.1 \\lambda_2 + 0.2 \\lambda_3 + 0.2 \\lambda_4\\\\\n",
        "    \\lambda_2 = 0.1 \\lambda_0 + 0.1 \\lambda_1 + 0.5 \\lambda_3 + 0.3 \\lambda_4\\\\\n",
        "    \\lambda_3 = 0.5 \\lambda_0 + 0.3 \\lambda_1 + 0.5 \\lambda_2 + 0.4 \\lambda_4\\\\\n",
        "    \\lambda_4 = 0.3 \\lambda_0 + 0.5 \\lambda_1 + 0.2 \\lambda_2 + 0.3 \\lambda_3 + 0.1 \\lambda_4\n",
        "\\end{cases}\n",
        "$$"
      ],
      "metadata": {
        "collapsed": false
      }
    },
    {
      "cell_type": "code",
      "execution_count": 38,
      "outputs": [
        {
          "data": {
            "text/plain": "[24.0000000000000,\n 53.5942446043165,\n 93.2028776978417,\n 113.162589928058,\n 96.2071942446043]"
          },
          "execution_count": 38,
          "metadata": {},
          "output_type": "execute_result"
        }
      ],
      "source": [
        "from sympy import Indexed, IndexedBase, Tuple, solve\n",
        "\n",
        "lambda_j = IndexedBase('lambda_j')\n",
        "lambda_j_equations = Tuple(\n",
        "    lambda_j[0] - 24,\n",
        "    0.1 * lambda_j[0] - 1.0 * lambda_j[1] + 0.1 * lambda_j[2] + 0.2 * lambda_j[3] + 0.2 * lambda_j[4],\n",
        "    0.1 * lambda_j[0] + 0.1 * lambda_j[1] - 1.0 * lambda_j[2] + 0.5 * lambda_j[3] + 0.3 * lambda_j[4],\n",
        "    0.5 * lambda_j[0] + 0.3 * lambda_j[1] + 0.5 * lambda_j[2] - 1.0 * lambda_j[3] + 0.4 * lambda_j[4],\n",
        "    0.3 * lambda_j[0] + 0.5 * lambda_j[1] + 0.2 * lambda_j[2] + 0.3 * lambda_j[3] - 0.9 * lambda_j[4],\n",
        ")\n",
        "lambda_j = list(solve(lambda_j_equations, lambda_j_equations.atoms(Indexed)).values())\n",
        "lambda_j"
      ],
      "metadata": {
        "collapsed": false,
        "ExecuteTime": {
          "end_time": "2023-05-23T20:42:14.816185300Z",
          "start_time": "2023-05-23T20:42:14.614189200Z"
        }
      }
    },
    {
      "cell_type": "markdown",
      "source": [
        "\u0414\u0430\u043b\u0435\u0435 \u0442\u0440\u0435\u0431\u0443\u0435\u0442\u0441\u044f \u043d\u0430\u0439\u0442\u0438 $ca_j$, \u0434\u043b\u044f \u0447\u0435\u0433\u043e \u0442\u0440\u0435\u0431\u0443\u0435\u0442\u0441\u044f \u043d\u0430\u0439\u0442\u0438 \u0432\u0441\u0435 $\\lambda_{ij} = \\lambda_i * q_{ij}$:"
      ],
      "metadata": {
        "collapsed": false
      }
    },
    {
      "cell_type": "code",
      "execution_count": 39,
      "outputs": [
        {
          "data": {
            "text/plain": "[[0, 2.40000000000000, 2.40000000000000, 12.0000000000000, 7.20000000000000],\n [5.35942446043165, 0, 5.35942446043165, 16.0782733812950, 26.7971223021583],\n [18.6405755395683, 9.32028776978417, 0, 46.6014388489209, 18.6405755395683],\n [0, 22.6325179856115, 56.5812949640288, 0, 33.9487769784173],\n [0, 19.2414388489209, 28.8621582733813, 38.4828776978417, 9.62071942446043]]"
          },
          "execution_count": 39,
          "metadata": {},
          "output_type": "execute_result"
        }
      ],
      "source": [
        "%precision % .4f\n",
        "\n",
        "Q = [\n",
        "    [0, 0.1, 0.1, 0.5, 0.3],\n",
        "    [0.1, 0, 0.1, 0.3, 0.5],\n",
        "    [0.2, 0.1, 0, 0.5, 0.2],\n",
        "    [0, 0.2, 0.5, 0, 0.3],\n",
        "    [0, 0.2, 0.3, 0.4, 0.1]\n",
        "]\n",
        "\n",
        "lambda_ij = []\n",
        "for i, q_row in enumerate(Q):\n",
        "    temp = []\n",
        "    for q in q_row:\n",
        "        temp.append(lambda_j[i] * q)\n",
        "    lambda_ij.append(temp)\n",
        "lambda_ij"
      ],
      "metadata": {
        "collapsed": false,
        "ExecuteTime": {
          "end_time": "2023-05-23T20:42:14.876194500Z",
          "start_time": "2023-05-23T20:42:14.833185600Z"
        }
      }
    },
    {
      "cell_type": "markdown",
      "source": [
        "\u0422\u0435\u043f\u0435\u0440\u044c \u043c\u043e\u0436\u043d\u043e \u043d\u0430\u0439\u0442\u0438 $ca_j$:\n",
        "\n",
        "\\begin{gather}\n",
        "ca_j = \\frac{\\lambda_{0j}}{\\lambda_j} ca_{0j} + \\sum_{i=1}^n \\frac{\\lambda_{ij}}{\\lambda_j} ca_{ij} = \\sum_{i=0}^n \\frac{\\lambda_{ij}}{\\lambda_j} ca_{ij}\\\\\n",
        "cd_{ij} = q_{ij} cd_{ij} + 1 - q_{ij}\n",
        "\\end{gather}"
      ],
      "metadata": {
        "collapsed": false
      }
    },
    {
      "cell_type": "code",
      "execution_count": 40,
      "outputs": [
        {
          "data": {
            "text/plain": "[0.49,\n 0.993604246075317,\n 0.9873695457999723,\n 0.9678555042962269,\n 0.9836027132501883]"
          },
          "execution_count": 40,
          "metadata": {},
          "output_type": "execute_result"
        }
      ],
      "source": [
        "from numpy.linalg import inv\n",
        "from numpy import zeros, eye, matmul\n",
        "\n",
        "caA = zeros((5, 5))\n",
        "caB = zeros((5, 1))\n",
        "\n",
        "for i, l_i in enumerate(lambda_ij):\n",
        "    for j, l_ij in enumerate(l_i):\n",
        "        caA[j][i] = l_ij / lambda_j[j] * Q[i][j]\n",
        "        caB[j] = caB[j] + l_ij / lambda_j[j] * (1 - Q[i][j])\n",
        "caA = caA - eye(5)\n",
        "caA[0] = [1, 0, 0, 0, 0]\n",
        "caB[0][0] = -0.49\n",
        "caj = [c[0] for c in matmul(inv(caA), -caB)]\n",
        "caj"
      ],
      "metadata": {
        "collapsed": false,
        "ExecuteTime": {
          "end_time": "2023-05-23T20:42:14.889185700Z",
          "start_time": "2023-05-23T20:42:14.848186200Z"
        }
      }
    },
    {
      "cell_type": "markdown",
      "source": [
        "\u0422\u0430\u043a\u0436\u0435 \u0442\u0440\u0435\u0431\u0443\u0435\u0442\u0441\u044f \u0432\u044b\u0447\u0438\u0441\u043b\u0438\u0442\u044c $L_j$ \u0438 $P_j$:\n",
        "\n",
        "\\begin{gather}\n",
        "p_j = \\frac{\\lambda_j}{\\mu_j m_j}\\\\\n",
        "L_j(\\lambda_j, ca_j, \\mu_j, cs_j) = \\frac{(\\frac{\\lambda_j}{\\mu_j})^2 (ca_j + cs_j) \\times g(\\lambda_j, ca_j, \\mu_j, cs_j)}{2 \\big(1 - \\frac{\\lambda_j}{\\mu_j}\\big)} + \\frac{\\lambda_j}{\\mu_j}\\\\\n",
        "PI_j(\\mu_j) = -V_j \\frac{\\delta L_j(\\mu_j)}{\\delta(\\mu_j)} = \\frac{\\lambda_j}{(\\lambda_j - \\mu_j)^2}$\\\\\n",
        "\n",
        "cs_1 = 0.25\n",
        "\\end{gather}"
      ],
      "metadata": {
        "collapsed": false
      }
    },
    {
      "cell_type": "code",
      "execution_count": 41,
      "outputs": [],
      "source": [
        "from sympy import exp\n",
        "\n",
        "mu = [200, 200, 200, 200]\n",
        "cs = [0.25, 0.25, 0.25, 0.25]\n",
        "\n",
        "\n",
        "def calculate(fl, fca, fm, fcs):\n",
        "    Lj = (fl / fm) ** 2 * (fca + fcs) * exp(-2 * (1 - fl / fm) * (1 - fca) ** 2 / (3 * (fl / fm) * (fca + fcs))) / (\n",
        "            2 * (1 - fl / fm))\n",
        "    PIj = fl / ((fl - fm) ** 2)\n",
        "    return Lj, PIj\n",
        "\n",
        "\n",
        "Lj_list = []\n",
        "PIj_list = []\n",
        "\n",
        "for i in range(1, 5):\n",
        "    Lj_result, PIj_result = calculate(lambda_j[i], caj[i], mu[i - 1], cs[i - 1])\n",
        "    Lj_list.append(Lj_result)\n",
        "    PIj_list.append(PIj_result)\n",
        "\n",
        "L_sum = sum(Lj_list)"
      ],
      "metadata": {
        "collapsed": false,
        "ExecuteTime": {
          "end_time": "2023-05-23T20:42:14.939344400Z",
          "start_time": "2023-05-23T20:42:14.895187600Z"
        }
      }
    },
    {
      "cell_type": "code",
      "execution_count": 42,
      "outputs": [
        {
          "data": {
            "text/plain": "[0.00250035603910347,\n 0.00817165871968174,\n 0.0150068366150819,\n 0.00893044386763243]"
          },
          "execution_count": 42,
          "metadata": {},
          "output_type": "execute_result"
        }
      ],
      "source": [
        "PIj_list"
      ],
      "metadata": {
        "collapsed": false,
        "ExecuteTime": {
          "end_time": "2023-05-23T20:42:14.951345900Z",
          "start_time": "2023-05-23T20:42:14.913186900Z"
        }
      }
    },
    {
      "cell_type": "code",
      "execution_count": 43,
      "outputs": [
        {
          "data": {
            "text/plain": "[0.0609922068648138, 0.251591377039613, 0.448793094111279, 0.274976190279542]"
          },
          "execution_count": 43,
          "metadata": {},
          "output_type": "execute_result"
        }
      ],
      "source": [
        "Lj_list"
      ],
      "metadata": {
        "collapsed": false,
        "ExecuteTime": {
          "end_time": "2023-05-23T20:42:14.952344300Z",
          "start_time": "2023-05-23T20:42:14.939344400Z"
        }
      }
    },
    {
      "cell_type": "code",
      "execution_count": 44,
      "outputs": [
        {
          "data": {
            "text/plain": "1.03635286829525",
            "text/latex": "$\\displaystyle 1.03635286829525$"
          },
          "execution_count": 44,
          "metadata": {},
          "output_type": "execute_result"
        }
      ],
      "source": [
        "L_sum"
      ],
      "metadata": {
        "collapsed": false,
        "ExecuteTime": {
          "end_time": "2023-05-23T20:42:14.963344500Z",
          "start_time": "2023-05-23T20:42:14.946347700Z"
        }
      }
    },
    {
      "cell_type": "markdown",
      "source": [
        "\u0412\u043e\u0441\u043f\u043e\u043b\u044c\u0437\u0443\u0435\u043c\u0441\u044f \u0441\u043b\u0435\u0434\u0443\u044e\u0449\u0435\u0439 \u0444\u043e\u0440\u043c\u0443\u043b\u043e\u0439:\n",
        "\n",
        "$$\n",
        "PI_j(\\mu_j) (\\lambda_j + \\epsilon_j) = max \\{ PI_j(\\mu_j), j \\in J_0 \\}\n",
        "$$\n",
        "\n",
        "\u0427\u0435\u043c \u0432\u044b\u0448\u0435 \u0437\u0430\u0433\u0440\u0443\u0437\u043a\u0430 \u0443\u0437\u043b\u0430 $j$, \u0442\u0435\u043c \u0431\u043e\u043b\u044c\u0448\u0435 $PI_j = \\frac{-\\delta L(\\mu_j)}{\\delta \\mu _j}$\n",
        "\n",
        "\u0418\u0437 \u0440\u0435\u0437\u0443\u043b\u044c\u0442\u0430\u0442\u043e\u0432 \u0440\u0430\u0441\u0447\u0451\u0442\u043e\u0432 \u043c\u043e\u0436\u043d\u043e \u043f\u043e\u043d\u044f\u0442\u044c \u0432 \u043a\u0430\u043a\u0438\u0445 \u0443\u0437\u043b\u0430\u0445 \u043d\u0443\u0436\u043d\u043e \u0443\u0432\u0435\u043b\u0438\u0447\u0438\u0432\u0430\u0442\u044c \u0438\u043b\u0438 \u0443\u043c\u0435\u043d\u044c\u0448\u0430\u0442\u044c \u0438\u043d\u0442\u0435\u043d\u0441\u0438\u0432\u043d\u043e\u0441\u0442\u044c \u0432\u0445\u043e\u0434\u043d\u043e\u0433\u043e \u043f\u043e\u0442\u043e\u043a\u0430.\n",
        "\n"
      ],
      "metadata": {
        "collapsed": false
      }
    },
    {
      "cell_type": "markdown",
      "source": [
        "\u0414\u0430\u043b\u0435\u0435 \u0441\u043b\u0435\u0434\u0443\u0435\u0442 \u043f\u0440\u0438\u043c\u0435\u043d\u0438\u0442\u044c \u0441\u043b\u0435\u0434\u0443\u044e\u0449\u0438\u0439 \u0430\u043b\u0433\u043e\u0440\u0438\u0442\u043c:\n",
        "\n",
        "1. \u0417\u0430\u0434\u0430\u0442\u044c \u043c\u043d\u043e\u0436\u0435\u0441\u0442\u0432\u043e \u0434\u043e\u0441\u0442\u0443\u043f\u043d\u044b\u0445 \u0434\u043b\u044f \u0440\u0430\u0441\u043f\u0440\u0435\u0434\u0435\u043b\u0435\u043d\u0438\u044f \u0443\u0437\u043b\u043e\u0432 $J_0$, \u0438 \u043f\u0443\u0441\u0442\u044b\u0435 \u043c\u043d\u043e\u0436\u0435\u0441\u0442\u0432\u0430 $J_1$ \u0438 $J_2$.\n",
        "2. \u041d\u0430\u0439\u0442\u0438\n",
        "   $j_1 = arg \\underset{(j)}{min} PI_j(\\mu_j)$;\n",
        "   $j_2 = arg \\underset{(j)}{max} PI_j(\\mu_j)$;\n",
        "   - \u0435\u0441\u043b\u0438 $j_1 \\in J_1$, \u0432\u044b\u043f\u043e\u043b\u043d\u0438\u0442\u044c $J_0 \\leftarrow J_0 - \\{ j_1 \\}$;\n",
        "   - \u0435\u0441\u043b\u0438 $j_2 \\in J_2$, \u0432\u044b\u043f\u043e\u043b\u043d\u0438\u0442\u044c $J_0 \\leftarrow J_0 - \\{ j_2 \\}$;\n",
        "   - \u0435\u0441\u043b\u0438 $j_1 \\notin J_1$ \u0438 $j_2 \\notin J_2$, \u0432\u044b\u043f\u043e\u043b\u043d\u0438\u0442\u044c $\\mu_{j_1} \\leftarrow \\mu_{j_1} + \\Delta$, $\\mu_{j_2} \\leftarrow \\mu_{j_2} + \\Delta$, $J_1 \\leftarrow J_1 \\lor \\{ j_2 \\}$ \u0438 $J_2 \\leftarrow J_2 \\lor \\{ j_1 \\}$.\n",
        "\n",
        "    \u0415\u0441\u043b\u0438 $j_1 = j_2$ \u0438\u043b\u0438 $J_0$ \u043f\u0443\u0441\u0442\u043e\u0435 - \u043e\u0441\u0442\u0430\u043d\u043e\u0432, \u0438\u043d\u0430\u0447\u0435 \u043f\u043e\u0432\u0442\u043e\u0440\u0438\u0442\u044c 2 \u0448\u0430\u0433.\n",
        "\n",
        "\u0412\u043e\u0437\u044c\u043c\u0435\u043c $\\Delta$ \u0440\u0430\u0432\u043d\u043e\u0435 5."
      ],
      "metadata": {
        "collapsed": false
      }
    },
    {
      "cell_type": "code",
      "execution_count": 50,
      "outputs": [],
      "source": [
        "import pandas\n",
        "from pandas import DataFrame\n",
        "\n",
        "pandas.options.display.max_rows = None\n",
        "\n",
        "sets_formatting = {\n",
        "    '#': [],\n",
        "    'J0': [],\n",
        "    'J1': [],\n",
        "    'J2': [],\n",
        "    '\u0414\u0435\u0439\u0441\u0442\u0432\u0438\u044f': []\n",
        "}\n",
        "power_redistribution = {\n",
        "    '#': [],\n",
        "    '\u00b51': [],\n",
        "    '\u00b52': [],\n",
        "    '\u00b53': [],\n",
        "    '\u00b54': [],\n",
        "    '\u0414\u0435\u0439\u0441\u0442\u0432\u0438\u044f': []\n",
        "}\n",
        "calculated_pi = {\n",
        "    '#': [],\n",
        "    'PI1': [],\n",
        "    'PI2': [],\n",
        "    'PI3': [],\n",
        "    'PI4': []\n",
        "}\n",
        "calculated_l = {\n",
        "    '#': [],\n",
        "    'L1': [],\n",
        "    'L2': [],\n",
        "    'L3': [],\n",
        "    'L4': [],\n",
        "    'L': []\n",
        "}\n",
        "\n",
        "j_set = [\n",
        "    [1, 2, 3, 4],\n",
        "    [],\n",
        "    []\n",
        "]\n",
        "mu = [200, 200, 200, 200]\n",
        "delta = 5\n",
        "eps = [max(PIj_list) / p - lambda_j[i] for i, p in enumerate(PIj_list)]\n",
        "i = 1\n",
        "while len(j_set[0]) > 0:\n",
        "    sets_formatting['#'].append(i)\n",
        "    power_redistribution['#'].append(i)\n",
        "    calculated_pi['#'].append(i)\n",
        "    calculated_l['#'].append(i)\n",
        "\n",
        "    sets_formatting['J0'].append(','.join(str(j) for j in j_set[0]))\n",
        "    sets_formatting['J1'].append(','.join(str(j) for j in j_set[1]))\n",
        "    sets_formatting['J2'].append(','.join(str(j) for j in j_set[2]))\n",
        "\n",
        "    power_redistribution['\u00b51'].append(mu[0])\n",
        "    power_redistribution['\u00b52'].append(mu[1])\n",
        "    power_redistribution['\u00b53'].append(mu[2])\n",
        "    power_redistribution['\u00b54'].append(mu[3])\n",
        "\n",
        "    l1, pi1 = calculate(lambda_j[1], caj[1], mu[0], cs[0])\n",
        "    l2, pi2 = calculate(lambda_j[2], caj[2], mu[1], cs[1])\n",
        "    l3, pi3 = calculate(lambda_j[3], caj[3], mu[2], cs[2])\n",
        "    l4, pi4 = calculate(lambda_j[4], caj[4], mu[3], cs[3])\n",
        "\n",
        "    calculated_pi['PI1'].append(pi1)\n",
        "    calculated_pi['PI2'].append(pi2)\n",
        "    calculated_pi['PI3'].append(pi3)\n",
        "    calculated_pi['PI4'].append(pi4)\n",
        "\n",
        "    calculated_l['L1'].append(l1)\n",
        "    calculated_l['L2'].append(l2)\n",
        "    calculated_l['L3'].append(l3)\n",
        "    calculated_l['L4'].append(l4)\n",
        "    calculated_l['L'].append(l1 + l2 + l3 + l4)\n",
        "\n",
        "    pi = [pi1, pi2, pi3, pi4]\n",
        "    pi_actual = []\n",
        "\n",
        "    for j in range(len(pi)):\n",
        "        if j + 1 in j_set[0]:\n",
        "            pi_actual.append(pi[j])\n",
        "\n",
        "    pi_min = min(pi_actual)\n",
        "    pi_min_index = pi.index(pi_min) + 1\n",
        "\n",
        "    pi_max = max(pi_actual)\n",
        "    pi_max_index = pi.index(pi_max) + 1\n",
        "\n",
        "    sets_action = []\n",
        "    dist_actions = []\n",
        "\n",
        "    if pi_min_index in j_set[1] and pi_min_index in j_set[0]:\n",
        "        j_set[0].remove(pi_min_index)\n",
        "        sets_action.append('J0 \u2190 J0 - {}'.format(pi_min_index))\n",
        "    if pi_max_index in j_set[2] and pi_max_index in j_set[0]:\n",
        "        j_set[0].remove(pi_max_index)\n",
        "        sets_action.append('J0 \u2190 J0 - {}'.format(pi_max_index))\n",
        "    if pi_min_index not in j_set[1] and pi_max_index not in j_set[2]:\n",
        "        mu[pi_min_index - 1] -= delta\n",
        "        mu[pi_max_index - 1] += delta\n",
        "        dist_actions.append('\u00b5{} \u2212 \u2206'.format(pi_min_index))\n",
        "        dist_actions.append('\u00b5{} + \u2206'.format(pi_max_index))\n",
        "        if pi_max_index not in j_set[1]:\n",
        "            j_set[1].append(pi_max_index)\n",
        "        if pi_min_index not in j_set[2]:\n",
        "            j_set[2].append(pi_min_index)\n",
        "        sets_action.append('J1 \u2190 J1 + {}'.format(pi_max_index))\n",
        "        sets_action.append('J2 \u2190 J2 + {}'.format(pi_min_index))\n",
        "\n",
        "    sets_formatting['\u0414\u0435\u0439\u0441\u0442\u0432\u0438\u044f'].append('; '.join(sets_action))\n",
        "    power_redistribution['\u0414\u0435\u0439\u0441\u0442\u0432\u0438\u044f'].append('; '.join(dist_actions))\n",
        "\n",
        "    if pi_max == pi_min:\n",
        "        break\n",
        "\n",
        "    i += 1"
      ],
      "metadata": {
        "collapsed": false,
        "ExecuteTime": {
          "end_time": "2023-05-23T20:43:26.896286200Z",
          "start_time": "2023-05-23T20:43:26.798240400Z"
        }
      }
    },
    {
      "cell_type": "markdown",
      "source": [
        " \u0424\u043e\u0440\u043c\u0438\u0440\u043e\u0432\u0430\u043d\u0438\u0435 \u043c\u043d\u043e\u0436\u0435\u0441\u0442\u0432 J:"
      ],
      "metadata": {
        "collapsed": false
      }
    },
    {
      "cell_type": "code",
      "execution_count": 51,
      "outputs": [
        {
          "data": {
            "text/plain": "         J0     J1 J2                  \u0414\u0435\u0439\u0441\u0442\u0432\u0438\u044f\n#                                              \n1   1,2,3,4            J1 \u2190 J1 + 3; J2 \u2190 J2 + 1\n2   1,2,3,4      3  1  J1 \u2190 J1 + 3; J2 \u2190 J2 + 1\n3   1,2,3,4      3  1  J1 \u2190 J1 + 3; J2 \u2190 J2 + 1\n4   1,2,3,4      3  1  J1 \u2190 J1 + 3; J2 \u2190 J2 + 1\n5   1,2,3,4      3  1  J1 \u2190 J1 + 3; J2 \u2190 J2 + 1\n6   1,2,3,4      3  1  J1 \u2190 J1 + 3; J2 \u2190 J2 + 1\n7   1,2,3,4      3  1  J1 \u2190 J1 + 4; J2 \u2190 J2 + 1\n8   1,2,3,4    3,4  1  J1 \u2190 J1 + 3; J2 \u2190 J2 + 1\n9   1,2,3,4    3,4  1  J1 \u2190 J1 + 2; J2 \u2190 J2 + 1\n10  1,2,3,4  3,4,2  1  J1 \u2190 J1 + 4; J2 \u2190 J2 + 1\n11  1,2,3,4  3,4,2  1  J1 \u2190 J1 + 3; J2 \u2190 J2 + 1\n12  1,2,3,4  3,4,2  1  J1 \u2190 J1 + 2; J2 \u2190 J2 + 1\n13  1,2,3,4  3,4,2  1               J0 \u2190 J0 - 2\n14    1,3,4  3,4,2  1               J0 \u2190 J0 - 3\n15      1,4  3,4,2  1  J1 \u2190 J1 + 4; J2 \u2190 J2 + 1\n16      1,4  3,4,2  1  J0 \u2190 J0 - 4; J0 \u2190 J0 - 1",
            "text/html": "<div>\n<style scoped>\n    .dataframe tbody tr th:only-of-type {\n        vertical-align: middle;\n    }\n\n    .dataframe tbody tr th {\n        vertical-align: top;\n    }\n\n    .dataframe thead th {\n        text-align: right;\n    }\n</style>\n<table border=\"1\" class=\"dataframe\">\n  <thead>\n    <tr style=\"text-align: right;\">\n      <th></th>\n      <th>J0</th>\n      <th>J1</th>\n      <th>J2</th>\n      <th>\u0414\u0435\u0439\u0441\u0442\u0432\u0438\u044f</th>\n    </tr>\n    <tr>\n      <th>#</th>\n      <th></th>\n      <th></th>\n      <th></th>\n      <th></th>\n    </tr>\n  </thead>\n  <tbody>\n    <tr>\n      <th>1</th>\n      <td>1,2,3,4</td>\n      <td></td>\n      <td></td>\n      <td>J1 \u2190 J1 + 3; J2 \u2190 J2 + 1</td>\n    </tr>\n    <tr>\n      <th>2</th>\n      <td>1,2,3,4</td>\n      <td>3</td>\n      <td>1</td>\n      <td>J1 \u2190 J1 + 3; J2 \u2190 J2 + 1</td>\n    </tr>\n    <tr>\n      <th>3</th>\n      <td>1,2,3,4</td>\n      <td>3</td>\n      <td>1</td>\n      <td>J1 \u2190 J1 + 3; J2 \u2190 J2 + 1</td>\n    </tr>\n    <tr>\n      <th>4</th>\n      <td>1,2,3,4</td>\n      <td>3</td>\n      <td>1</td>\n      <td>J1 \u2190 J1 + 3; J2 \u2190 J2 + 1</td>\n    </tr>\n    <tr>\n      <th>5</th>\n      <td>1,2,3,4</td>\n      <td>3</td>\n      <td>1</td>\n      <td>J1 \u2190 J1 + 3; J2 \u2190 J2 + 1</td>\n    </tr>\n    <tr>\n      <th>6</th>\n      <td>1,2,3,4</td>\n      <td>3</td>\n      <td>1</td>\n      <td>J1 \u2190 J1 + 3; J2 \u2190 J2 + 1</td>\n    </tr>\n    <tr>\n      <th>7</th>\n      <td>1,2,3,4</td>\n      <td>3</td>\n      <td>1</td>\n      <td>J1 \u2190 J1 + 4; J2 \u2190 J2 + 1</td>\n    </tr>\n    <tr>\n      <th>8</th>\n      <td>1,2,3,4</td>\n      <td>3,4</td>\n      <td>1</td>\n      <td>J1 \u2190 J1 + 3; J2 \u2190 J2 + 1</td>\n    </tr>\n    <tr>\n      <th>9</th>\n      <td>1,2,3,4</td>\n      <td>3,4</td>\n      <td>1</td>\n      <td>J1 \u2190 J1 + 2; J2 \u2190 J2 + 1</td>\n    </tr>\n    <tr>\n      <th>10</th>\n      <td>1,2,3,4</td>\n      <td>3,4,2</td>\n      <td>1</td>\n      <td>J1 \u2190 J1 + 4; J2 \u2190 J2 + 1</td>\n    </tr>\n    <tr>\n      <th>11</th>\n      <td>1,2,3,4</td>\n      <td>3,4,2</td>\n      <td>1</td>\n      <td>J1 \u2190 J1 + 3; J2 \u2190 J2 + 1</td>\n    </tr>\n    <tr>\n      <th>12</th>\n      <td>1,2,3,4</td>\n      <td>3,4,2</td>\n      <td>1</td>\n      <td>J1 \u2190 J1 + 2; J2 \u2190 J2 + 1</td>\n    </tr>\n    <tr>\n      <th>13</th>\n      <td>1,2,3,4</td>\n      <td>3,4,2</td>\n      <td>1</td>\n      <td>J0 \u2190 J0 - 2</td>\n    </tr>\n    <tr>\n      <th>14</th>\n      <td>1,3,4</td>\n      <td>3,4,2</td>\n      <td>1</td>\n      <td>J0 \u2190 J0 - 3</td>\n    </tr>\n    <tr>\n      <th>15</th>\n      <td>1,4</td>\n      <td>3,4,2</td>\n      <td>1</td>\n      <td>J1 \u2190 J1 + 4; J2 \u2190 J2 + 1</td>\n    </tr>\n    <tr>\n      <th>16</th>\n      <td>1,4</td>\n      <td>3,4,2</td>\n      <td>1</td>\n      <td>J0 \u2190 J0 - 4; J0 \u2190 J0 - 1</td>\n    </tr>\n  </tbody>\n</table>\n</div>"
          },
          "execution_count": 51,
          "metadata": {},
          "output_type": "execute_result"
        }
      ],
      "source": [
        "sets_formatting_table = DataFrame(sets_formatting)\n",
        "sets_formatting_table.set_index('#')"
      ],
      "metadata": {
        "collapsed": false,
        "ExecuteTime": {
          "end_time": "2023-05-23T20:43:28.074379Z",
          "start_time": "2023-05-23T20:43:28.025379300Z"
        }
      }
    },
    {
      "cell_type": "markdown",
      "source": [
        "\u041f\u0435\u0440\u0435\u0440\u0430\u0441\u043f\u0440\u0435\u0434\u0435\u043b\u0435\u043d\u0438\u0435 \u043c\u043e\u0449\u043d\u043e\u0441\u0442\u0435\u0439:"
      ],
      "metadata": {
        "collapsed": false
      }
    },
    {
      "cell_type": "code",
      "execution_count": 47,
      "outputs": [
        {
          "data": {
            "text/plain": "     \u00b51   \u00b52   \u00b53   \u00b54        \u0414\u0435\u0439\u0441\u0442\u0432\u0438\u044f\n#                                     \n1   200  200  200  200  \u00b51 \u2212 \u2206; \u00b53 + \u2206\n2   195  200  205  200  \u00b51 \u2212 \u2206; \u00b53 + \u2206\n3   190  200  210  200  \u00b51 \u2212 \u2206; \u00b53 + \u2206\n4   185  200  215  200  \u00b51 \u2212 \u2206; \u00b53 + \u2206\n5   180  200  220  200  \u00b51 \u2212 \u2206; \u00b53 + \u2206\n6   175  200  225  200  \u00b51 \u2212 \u2206; \u00b53 + \u2206\n7   170  200  230  200  \u00b51 \u2212 \u2206; \u00b54 + \u2206\n8   165  200  230  205  \u00b51 \u2212 \u2206; \u00b53 + \u2206\n9   160  200  235  205  \u00b51 \u2212 \u2206; \u00b52 + \u2206\n10  155  205  235  205  \u00b51 \u2212 \u2206; \u00b54 + \u2206\n11  150  205  235  210  \u00b51 \u2212 \u2206; \u00b53 + \u2206\n12  145  205  240  210  \u00b51 \u2212 \u2206; \u00b52 + \u2206\n13  140  210  240  210                \n14  140  210  240  210                \n15  140  210  240  210  \u00b51 \u2212 \u2206; \u00b54 + \u2206\n16  135  210  240  215                ",
            "text/html": "<div>\n<style scoped>\n    .dataframe tbody tr th:only-of-type {\n        vertical-align: middle;\n    }\n\n    .dataframe tbody tr th {\n        vertical-align: top;\n    }\n\n    .dataframe thead th {\n        text-align: right;\n    }\n</style>\n<table border=\"1\" class=\"dataframe\">\n  <thead>\n    <tr style=\"text-align: right;\">\n      <th></th>\n      <th>\u00b51</th>\n      <th>\u00b52</th>\n      <th>\u00b53</th>\n      <th>\u00b54</th>\n      <th>\u0414\u0435\u0439\u0441\u0442\u0432\u0438\u044f</th>\n    </tr>\n    <tr>\n      <th>#</th>\n      <th></th>\n      <th></th>\n      <th></th>\n      <th></th>\n      <th></th>\n    </tr>\n  </thead>\n  <tbody>\n    <tr>\n      <th>1</th>\n      <td>200</td>\n      <td>200</td>\n      <td>200</td>\n      <td>200</td>\n      <td>\u00b51 \u2212 \u2206; \u00b53 + \u2206</td>\n    </tr>\n    <tr>\n      <th>2</th>\n      <td>195</td>\n      <td>200</td>\n      <td>205</td>\n      <td>200</td>\n      <td>\u00b51 \u2212 \u2206; \u00b53 + \u2206</td>\n    </tr>\n    <tr>\n      <th>3</th>\n      <td>190</td>\n      <td>200</td>\n      <td>210</td>\n      <td>200</td>\n      <td>\u00b51 \u2212 \u2206; \u00b53 + \u2206</td>\n    </tr>\n    <tr>\n      <th>4</th>\n      <td>185</td>\n      <td>200</td>\n      <td>215</td>\n      <td>200</td>\n      <td>\u00b51 \u2212 \u2206; \u00b53 + \u2206</td>\n    </tr>\n    <tr>\n      <th>5</th>\n      <td>180</td>\n      <td>200</td>\n      <td>220</td>\n      <td>200</td>\n      <td>\u00b51 \u2212 \u2206; \u00b53 + \u2206</td>\n    </tr>\n    <tr>\n      <th>6</th>\n      <td>175</td>\n      <td>200</td>\n      <td>225</td>\n      <td>200</td>\n      <td>\u00b51 \u2212 \u2206; \u00b53 + \u2206</td>\n    </tr>\n    <tr>\n      <th>7</th>\n      <td>170</td>\n      <td>200</td>\n      <td>230</td>\n      <td>200</td>\n      <td>\u00b51 \u2212 \u2206; \u00b54 + \u2206</td>\n    </tr>\n    <tr>\n      <th>8</th>\n      <td>165</td>\n      <td>200</td>\n      <td>230</td>\n      <td>205</td>\n      <td>\u00b51 \u2212 \u2206; \u00b53 + \u2206</td>\n    </tr>\n    <tr>\n      <th>9</th>\n      <td>160</td>\n      <td>200</td>\n      <td>235</td>\n      <td>205</td>\n      <td>\u00b51 \u2212 \u2206; \u00b52 + \u2206</td>\n    </tr>\n    <tr>\n      <th>10</th>\n      <td>155</td>\n      <td>205</td>\n      <td>235</td>\n      <td>205</td>\n      <td>\u00b51 \u2212 \u2206; \u00b54 + \u2206</td>\n    </tr>\n    <tr>\n      <th>11</th>\n      <td>150</td>\n      <td>205</td>\n      <td>235</td>\n      <td>210</td>\n      <td>\u00b51 \u2212 \u2206; \u00b53 + \u2206</td>\n    </tr>\n    <tr>\n      <th>12</th>\n      <td>145</td>\n      <td>205</td>\n      <td>240</td>\n      <td>210</td>\n      <td>\u00b51 \u2212 \u2206; \u00b52 + \u2206</td>\n    </tr>\n    <tr>\n      <th>13</th>\n      <td>140</td>\n      <td>210</td>\n      <td>240</td>\n      <td>210</td>\n      <td></td>\n    </tr>\n    <tr>\n      <th>14</th>\n      <td>140</td>\n      <td>210</td>\n      <td>240</td>\n      <td>210</td>\n      <td></td>\n    </tr>\n    <tr>\n      <th>15</th>\n      <td>140</td>\n      <td>210</td>\n      <td>240</td>\n      <td>210</td>\n      <td>\u00b51 \u2212 \u2206; \u00b54 + \u2206</td>\n    </tr>\n    <tr>\n      <th>16</th>\n      <td>135</td>\n      <td>210</td>\n      <td>240</td>\n      <td>215</td>\n      <td></td>\n    </tr>\n  </tbody>\n</table>\n</div>"
          },
          "execution_count": 47,
          "metadata": {},
          "output_type": "execute_result"
        }
      ],
      "source": [
        "power_redistribution_table = DataFrame(power_redistribution)\n",
        "power_redistribution_table.set_index('#')"
      ],
      "metadata": {
        "collapsed": false,
        "ExecuteTime": {
          "end_time": "2023-05-23T20:42:15.115899200Z",
          "start_time": "2023-05-23T20:42:15.089900Z"
        }
      }
    },
    {
      "cell_type": "markdown",
      "source": [
        " \u041f\u0435\u0440\u0435\u0441\u0447\u0438\u0442\u0430\u043d\u043d\u043e\u0435 $PI_j$:"
      ],
      "metadata": {
        "collapsed": false
      }
    },
    {
      "cell_type": "code",
      "execution_count": 48,
      "outputs": [
        {
          "data": {
            "text/plain": "                    PI1                  PI2                  PI3  \\\n#                                                                   \n1   0.00250035603910347  0.00817165871968174   0.0150068366150819   \n2   0.00268030355087513  0.00817165871968174   0.0134172534412168   \n3   0.00288039974684595  0.00817165871968174   0.0120674788733813   \n4   0.00310376891844955  0.00817165871968174   0.0109115937123291   \n5   0.00335416526694698  0.00817165871968174  0.00991416575689348   \n6   0.00363613168422446  0.00817165871968174  0.00904750175931411   \n7   0.00395520726791263  0.00817165871968174  0.00828970423191940   \n8   0.00431820144643845  0.00817165871968174  0.00828970423191940   \n9   0.00473356031891574  0.00817165871968174  0.00762327455741681   \n10  0.00521186244410865  0.00745706746252484  0.00762327455741681   \n11  0.00576649912122288  0.00745706746252484  0.00762327455741681   \n12  0.00641462200629449  0.00745706746252484  0.00703409367385547   \n13  0.00717848523375480  0.00683227025032309  0.00703409367385547   \n14  0.00717848523375480  0.00683227025032309  0.00703409367385547   \n15  0.00717848523375480  0.00683227025032309  0.00703409367385547   \n16  0.00808738154689491  0.00683227025032309  0.00703409367385547   \n\n                    PI4  \n#                        \n1   0.00893044386763243  \n2   0.00893044386763243  \n3   0.00893044386763243  \n4   0.00893044386763243  \n5   0.00893044386763243  \n6   0.00893044386763243  \n7   0.00893044386763243  \n8   0.00812843981750131  \n9   0.00812843981750131  \n10  0.00812843981750131  \n11  0.00742981393004562  \n12  0.00742981393004562  \n13  0.00742981393004562  \n14  0.00742981393004562  \n15  0.00742981393004562  \n16  0.00681753331997692  ",
            "text/html": "<div>\n<style scoped>\n    .dataframe tbody tr th:only-of-type {\n        vertical-align: middle;\n    }\n\n    .dataframe tbody tr th {\n        vertical-align: top;\n    }\n\n    .dataframe thead th {\n        text-align: right;\n    }\n</style>\n<table border=\"1\" class=\"dataframe\">\n  <thead>\n    <tr style=\"text-align: right;\">\n      <th></th>\n      <th>PI1</th>\n      <th>PI2</th>\n      <th>PI3</th>\n      <th>PI4</th>\n    </tr>\n    <tr>\n      <th>#</th>\n      <th></th>\n      <th></th>\n      <th></th>\n      <th></th>\n    </tr>\n  </thead>\n  <tbody>\n    <tr>\n      <th>1</th>\n      <td>0.00250035603910347</td>\n      <td>0.00817165871968174</td>\n      <td>0.0150068366150819</td>\n      <td>0.00893044386763243</td>\n    </tr>\n    <tr>\n      <th>2</th>\n      <td>0.00268030355087513</td>\n      <td>0.00817165871968174</td>\n      <td>0.0134172534412168</td>\n      <td>0.00893044386763243</td>\n    </tr>\n    <tr>\n      <th>3</th>\n      <td>0.00288039974684595</td>\n      <td>0.00817165871968174</td>\n      <td>0.0120674788733813</td>\n      <td>0.00893044386763243</td>\n    </tr>\n    <tr>\n      <th>4</th>\n      <td>0.00310376891844955</td>\n      <td>0.00817165871968174</td>\n      <td>0.0109115937123291</td>\n      <td>0.00893044386763243</td>\n    </tr>\n    <tr>\n      <th>5</th>\n      <td>0.00335416526694698</td>\n      <td>0.00817165871968174</td>\n      <td>0.00991416575689348</td>\n      <td>0.00893044386763243</td>\n    </tr>\n    <tr>\n      <th>6</th>\n      <td>0.00363613168422446</td>\n      <td>0.00817165871968174</td>\n      <td>0.00904750175931411</td>\n      <td>0.00893044386763243</td>\n    </tr>\n    <tr>\n      <th>7</th>\n      <td>0.00395520726791263</td>\n      <td>0.00817165871968174</td>\n      <td>0.00828970423191940</td>\n      <td>0.00893044386763243</td>\n    </tr>\n    <tr>\n      <th>8</th>\n      <td>0.00431820144643845</td>\n      <td>0.00817165871968174</td>\n      <td>0.00828970423191940</td>\n      <td>0.00812843981750131</td>\n    </tr>\n    <tr>\n      <th>9</th>\n      <td>0.00473356031891574</td>\n      <td>0.00817165871968174</td>\n      <td>0.00762327455741681</td>\n      <td>0.00812843981750131</td>\n    </tr>\n    <tr>\n      <th>10</th>\n      <td>0.00521186244410865</td>\n      <td>0.00745706746252484</td>\n      <td>0.00762327455741681</td>\n      <td>0.00812843981750131</td>\n    </tr>\n    <tr>\n      <th>11</th>\n      <td>0.00576649912122288</td>\n      <td>0.00745706746252484</td>\n      <td>0.00762327455741681</td>\n      <td>0.00742981393004562</td>\n    </tr>\n    <tr>\n      <th>12</th>\n      <td>0.00641462200629449</td>\n      <td>0.00745706746252484</td>\n      <td>0.00703409367385547</td>\n      <td>0.00742981393004562</td>\n    </tr>\n    <tr>\n      <th>13</th>\n      <td>0.00717848523375480</td>\n      <td>0.00683227025032309</td>\n      <td>0.00703409367385547</td>\n      <td>0.00742981393004562</td>\n    </tr>\n    <tr>\n      <th>14</th>\n      <td>0.00717848523375480</td>\n      <td>0.00683227025032309</td>\n      <td>0.00703409367385547</td>\n      <td>0.00742981393004562</td>\n    </tr>\n    <tr>\n      <th>15</th>\n      <td>0.00717848523375480</td>\n      <td>0.00683227025032309</td>\n      <td>0.00703409367385547</td>\n      <td>0.00742981393004562</td>\n    </tr>\n    <tr>\n      <th>16</th>\n      <td>0.00808738154689491</td>\n      <td>0.00683227025032309</td>\n      <td>0.00703409367385547</td>\n      <td>0.00681753331997692</td>\n    </tr>\n  </tbody>\n</table>\n</div>"
          },
          "execution_count": 48,
          "metadata": {},
          "output_type": "execute_result"
        }
      ],
      "source": [
        "calculated_pi_table = DataFrame(calculated_pi)\n",
        "calculated_pi_table.set_index('#')"
      ],
      "metadata": {
        "collapsed": false,
        "ExecuteTime": {
          "end_time": "2023-05-23T20:42:15.184933800Z",
          "start_time": "2023-05-23T20:42:15.118896500Z"
        }
      }
    },
    {
      "cell_type": "markdown",
      "source": [
        " \u041f\u0435\u0440\u0435\u0441\u0447\u0438\u0442\u0430\u043d\u043d\u043e\u0435 $L_j$ \u0438 $L$:"
      ],
      "metadata": {
        "collapsed": false
      }
    },
    {
      "cell_type": "code",
      "execution_count": 49,
      "outputs": [
        {
          "data": {
            "text/plain": "                    L1                 L2                 L3  \\\n#                                                              \n1   0.0609922068648138  0.251591377039613  0.448793094111279   \n2   0.0647681785813711  0.251591377039613  0.413998417427742   \n3   0.0689093215408312  0.251591377039613  0.383264730389272   \n4   0.0734647563992884  0.251591377039613  0.355962834606435   \n5   0.0784922346490783  0.251591377039613  0.331584007650169   \n6   0.0840600436480149  0.251591377039613  0.309712786495114   \n7   0.0902494261252786  0.251591377039613  0.290006774924781   \n8   0.0971576810071638  0.251591377039613  0.290006774924781   \n9    0.104902176489658  0.251591377039613  0.272181452047316   \n10   0.113625599222078  0.234476223156985  0.272181452047316   \n11   0.123502900367069  0.234476223156985  0.272181452047316   \n12   0.134750604427819  0.234476223156985  0.255998597820909   \n13   0.147639459874893  0.219093683061920  0.255998597820909   \n14   0.147639459874893  0.219093683061920  0.255998597820909   \n15   0.147639459874893  0.219093683061920  0.255998597820909   \n16   0.162511898573323  0.219093683061920  0.255998597820909   \n\n                   L4                  L  \n#                                         \n1   0.274976190279542   1.03635286829525  \n2   0.274976190279542   1.00533416332827  \n3   0.274976190279542  0.978741619249259  \n4   0.274976190279542  0.955995158324879  \n5   0.274976190279542  0.936643809618403  \n6   0.274976190279542  0.920340397462284  \n7   0.274976190279542  0.906823768369215  \n8   0.255938146451469  0.894693979423027  \n9   0.255938146451469  0.884613152028056  \n10  0.255938146451469  0.876221420877849  \n11  0.238864537837379  0.869025113408749  \n12  0.238864537837379  0.864089963243091  \n13  0.238864537837379  0.861596278595100  \n14  0.238864537837379  0.861596278595100  \n15  0.238864537837379  0.861596278595100  \n16  0.223487840762251  0.861092020218403  ",
            "text/html": "<div>\n<style scoped>\n    .dataframe tbody tr th:only-of-type {\n        vertical-align: middle;\n    }\n\n    .dataframe tbody tr th {\n        vertical-align: top;\n    }\n\n    .dataframe thead th {\n        text-align: right;\n    }\n</style>\n<table border=\"1\" class=\"dataframe\">\n  <thead>\n    <tr style=\"text-align: right;\">\n      <th></th>\n      <th>L1</th>\n      <th>L2</th>\n      <th>L3</th>\n      <th>L4</th>\n      <th>L</th>\n    </tr>\n    <tr>\n      <th>#</th>\n      <th></th>\n      <th></th>\n      <th></th>\n      <th></th>\n      <th></th>\n    </tr>\n  </thead>\n  <tbody>\n    <tr>\n      <th>1</th>\n      <td>0.0609922068648138</td>\n      <td>0.251591377039613</td>\n      <td>0.448793094111279</td>\n      <td>0.274976190279542</td>\n      <td>1.03635286829525</td>\n    </tr>\n    <tr>\n      <th>2</th>\n      <td>0.0647681785813711</td>\n      <td>0.251591377039613</td>\n      <td>0.413998417427742</td>\n      <td>0.274976190279542</td>\n      <td>1.00533416332827</td>\n    </tr>\n    <tr>\n      <th>3</th>\n      <td>0.0689093215408312</td>\n      <td>0.251591377039613</td>\n      <td>0.383264730389272</td>\n      <td>0.274976190279542</td>\n      <td>0.978741619249259</td>\n    </tr>\n    <tr>\n      <th>4</th>\n      <td>0.0734647563992884</td>\n      <td>0.251591377039613</td>\n      <td>0.355962834606435</td>\n      <td>0.274976190279542</td>\n      <td>0.955995158324879</td>\n    </tr>\n    <tr>\n      <th>5</th>\n      <td>0.0784922346490783</td>\n      <td>0.251591377039613</td>\n      <td>0.331584007650169</td>\n      <td>0.274976190279542</td>\n      <td>0.936643809618403</td>\n    </tr>\n    <tr>\n      <th>6</th>\n      <td>0.0840600436480149</td>\n      <td>0.251591377039613</td>\n      <td>0.309712786495114</td>\n      <td>0.274976190279542</td>\n      <td>0.920340397462284</td>\n    </tr>\n    <tr>\n      <th>7</th>\n      <td>0.0902494261252786</td>\n      <td>0.251591377039613</td>\n      <td>0.290006774924781</td>\n      <td>0.274976190279542</td>\n      <td>0.906823768369215</td>\n    </tr>\n    <tr>\n      <th>8</th>\n      <td>0.0971576810071638</td>\n      <td>0.251591377039613</td>\n      <td>0.290006774924781</td>\n      <td>0.255938146451469</td>\n      <td>0.894693979423027</td>\n    </tr>\n    <tr>\n      <th>9</th>\n      <td>0.104902176489658</td>\n      <td>0.251591377039613</td>\n      <td>0.272181452047316</td>\n      <td>0.255938146451469</td>\n      <td>0.884613152028056</td>\n    </tr>\n    <tr>\n      <th>10</th>\n      <td>0.113625599222078</td>\n      <td>0.234476223156985</td>\n      <td>0.272181452047316</td>\n      <td>0.255938146451469</td>\n      <td>0.876221420877849</td>\n    </tr>\n    <tr>\n      <th>11</th>\n      <td>0.123502900367069</td>\n      <td>0.234476223156985</td>\n      <td>0.272181452047316</td>\n      <td>0.238864537837379</td>\n      <td>0.869025113408749</td>\n    </tr>\n    <tr>\n      <th>12</th>\n      <td>0.134750604427819</td>\n      <td>0.234476223156985</td>\n      <td>0.255998597820909</td>\n      <td>0.238864537837379</td>\n      <td>0.864089963243091</td>\n    </tr>\n    <tr>\n      <th>13</th>\n      <td>0.147639459874893</td>\n      <td>0.219093683061920</td>\n      <td>0.255998597820909</td>\n      <td>0.238864537837379</td>\n      <td>0.861596278595100</td>\n    </tr>\n    <tr>\n      <th>14</th>\n      <td>0.147639459874893</td>\n      <td>0.219093683061920</td>\n      <td>0.255998597820909</td>\n      <td>0.238864537837379</td>\n      <td>0.861596278595100</td>\n    </tr>\n    <tr>\n      <th>15</th>\n      <td>0.147639459874893</td>\n      <td>0.219093683061920</td>\n      <td>0.255998597820909</td>\n      <td>0.238864537837379</td>\n      <td>0.861596278595100</td>\n    </tr>\n    <tr>\n      <th>16</th>\n      <td>0.162511898573323</td>\n      <td>0.219093683061920</td>\n      <td>0.255998597820909</td>\n      <td>0.223487840762251</td>\n      <td>0.861092020218403</td>\n    </tr>\n  </tbody>\n</table>\n</div>"
          },
          "execution_count": 49,
          "metadata": {},
          "output_type": "execute_result"
        }
      ],
      "source": [
        "calculated_l_table = DataFrame(calculated_l)\n",
        "calculated_l_table.set_index('#')"
      ],
      "metadata": {
        "collapsed": false,
        "ExecuteTime": {
          "end_time": "2023-05-23T20:42:15.247023300Z",
          "start_time": "2023-05-23T20:42:15.148929800Z"
        }
      }
    },
    {
      "cell_type": "markdown",
      "source": [
        "## \u0412\u044b\u0432\u043e\u0434"
      ],
      "metadata": {
        "collapsed": false
      }
    },
    {
      "cell_type": "markdown",
      "source": [
        "\u0412 \u0434\u0430\u043d\u043d\u043e\u0439 \u0440\u0430\u0431\u043e\u0442\u0435 \u0431\u044b\u043b\u0430 \u043f\u0440\u043e\u0438\u0437\u0432\u0435\u0434\u0435\u043d\u0430 \u043e\u043f\u0442\u0438\u043c\u0438\u0437\u0430\u0446\u0438\u044f \u0421\u0421\u041c\u041e, \u0432 \u0447\u0430\u0441\u0442\u043d\u043e\u0441\u0442\u0438 \u043f\u0435\u0440\u0435\u0440\u0430\u0441\u043f\u0440\u0435\u0434\u0435\u043b\u0435\u043d\u0438\u0435 \u043c\u043e\u0449\u043d\u043e\u0441\u0442\u0435\u0439 \u0432 \u0441\u0438\u0441\u0442\u0435\u043c\u0435, \u0434\u043b\u044f \u0443\u043c\u0435\u043d\u044c\u0448\u0435\u043d\u0438\u044f \u043e\u0447\u0435\u0440\u0435\u0434\u0438.\n",
        "\n",
        "\u041d\u0430\u0447\u0430\u043b\u044c\u043d\u044b\u0435 \u0437\u043d\u0430\u0447\u0435\u043d\u0438\u044f:\n",
        "\n",
        "$\\mu$ = [200, 200, 200, 200]\n",
        "$L_j$ = [0.0610, 0.2516, 0.4488, 0.2750]\n",
        "$L$ = 1.0364\n",
        "\n",
        "\u041f\u043e\u0441\u043b\u0435 \u043e\u043f\u0442\u0438\u043c\u0438\u0437\u0430\u0446\u0438\u0438:\n",
        "\n",
        "$\\mu$ = [220, 220, 180, 180]\n",
        "$L_j$ = [0.0488, 0.1926, 0.6479, 0.3785]\n",
        "$L$ = 1.2678\n"
      ],
      "metadata": {
        "collapsed": false
      }
    },
    {
      "cell_type": "markdown",
      "source": [],
      "metadata": {
        "collapsed": false
      }
    }
  ],
  "metadata": {
    "kernelspec": {
      "display_name": "Python 3",
      "language": "python",
      "name": "python3"
    },
    "language_info": {
      "codemirror_mode": {
        "name": "ipython",
        "version": 2
      },
      "file_extension": ".py",
      "mimetype": "text/x-python",
      "name": "python",
      "nbconvert_exporter": "python",
      "pygments_lexer": "ipython2",
      "version": "2.7.6"
    }
  },
  "nbformat": 4,
  "nbformat_minor": 0
}